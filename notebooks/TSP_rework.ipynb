{
 "cells": [
  {
   "cell_type": "code",
   "execution_count": 8,
   "metadata": {
    "pycharm": {
     "name": "#%%\n"
    }
   },
   "outputs": [],
   "source": [
    "import pickle\n",
    "import networkx as nx\n",
    "import numpy as np\n",
    "import pandas as pd\n",
    "import matplotlib.pyplot as plt\n",
    "import itertools\n",
    "import plotly.express as px\n",
    "import plotly.graph_objects as go"
   ]
  },
  {
   "cell_type": "code",
   "execution_count": 10,
   "metadata": {
    "pycharm": {
     "name": "#%%\n"
    }
   },
   "outputs": [],
   "source": [
    "with open('00_voxel_candidate_graph.pkl', 'rb') as jar:\n",
    "    neighborhood_graph = pickle.load(jar)\n",
    "with open('00_route_path.pkl', 'rb') as jar:\n",
    "    route, full_path = pickle.load(jar)\n",
    "with open('00_another_pkl.pkl', 'rb') as jar:\n",
    "    ncfp_0, co, C = pickle.load(jar)\n",
    "\n",
    "# manual definition to override pickle load:\n",
    "# route = [3386, 3517, 5154, 4201, 5161, 262, 2548, 4842, 3386]\n",
    "route = [154, 171, 41, 141, 86, 300, 266, 269, 7, 183, 92, 106, 94, 14, 255, 78, 327, 205, 1, 70, 150, 60, 135, 186, 302]\n",
    "# full_path = [3386, 3972, 4807, 3468, 3466, 3843, 3465, 3365, 3271, 3298, 3358, 3296, 4799, 4042, 3172, 3735, 3225, 3224, 4349, 3879, 4984, 3888, 4200, 3712, 3093, 3550, 4256, 4328, 3841, 4466, 4546, 3047, 3730, 3783, 4404, 3536, 4043, 3244, 4946, 3579, 3731, 4997, 4999, 4331, 3824, 4897, 3719, 3208, 3205, 4670, 4226, 4955, 4521, 4909, 4910, 3557, 3275, 4915, 4917, 4971, 3228, 4924, 4929, 3269, 3517, 3517, 3269, 4929, 5045, 5154, 5154, 5044, 3228, 4803, 4691, 4631, 3217, 5039, 4415, 3963, 4478, 4210, 4208, 4207, 4202, 4201, 4201, 4198, 4299, 4302, 3497, 3025, 3068, 3375, 3196, 3801, 4218, 3775, 5161, 5161..."
   ]
  },
  {
   "cell_type": "code",
   "execution_count": null,
   "metadata": {
    "pycharm": {
     "name": "#%%\n"
    }
   },
   "outputs": [],
   "source": [
    "route = [154, 171, 41, 141, 86, 300, 266, 269, 7, 183, 92, 106, 94, 14, 255, 78, 327, 205, 1, 70, 150, 60, 135, 186, 302]"
   ]
  },
  {
   "cell_type": "code",
   "execution_count": 12,
   "metadata": {
    "pycharm": {
     "name": "#%%\n"
    }
   },
   "outputs": [
    {
     "ename": "FileNotFoundError",
     "evalue": "[Errno 2] No such file or directory: '00_candidate_eval.pickle'",
     "output_type": "error",
     "traceback": [
      "\u001B[1;31m---------------------------------------------------------------------------\u001B[0m",
      "\u001B[1;31mFileNotFoundError\u001B[0m                         Traceback (most recent call last)",
      "Cell \u001B[1;32mIn [12], line 1\u001B[0m\n\u001B[1;32m----> 1\u001B[0m \u001B[38;5;28;01mwith\u001B[39;00m \u001B[38;5;28mopen\u001B[39m(\u001B[38;5;124m'\u001B[39m\u001B[38;5;124m00_candidate_eval.pickle\u001B[39m\u001B[38;5;124m'\u001B[39m, \u001B[38;5;124m'\u001B[39m\u001B[38;5;124mrb\u001B[39m\u001B[38;5;124m'\u001B[39m) \u001B[38;5;28;01mas\u001B[39;00m jar:\n\u001B[0;32m      2\u001B[0m     wot \u001B[38;5;241m=\u001B[39m pickle\u001B[38;5;241m.\u001B[39mload(jar)\n",
      "\u001B[1;31mFileNotFoundError\u001B[0m: [Errno 2] No such file or directory: '00_candidate_eval.pickle'"
     ]
    }
   ],
   "source": [
    "with open('00_candidate_eval.pickle', 'rb') as jar:\n",
    "    wot = pickle.load(jar)"
   ]
  },
  {
   "cell_type": "code",
   "execution_count": null,
   "metadata": {
    "pycharm": {
     "name": "#%%\n"
    }
   },
   "outputs": [],
   "source": [
    "candidates = wot[0]"
   ]
  },
  {
   "cell_type": "code",
   "execution_count": 13,
   "metadata": {
    "pycharm": {
     "name": "#%%\n"
    }
   },
   "outputs": [
    {
     "ename": "FileNotFoundError",
     "evalue": "[Errno 2] No such file or directory: 'overlap_relative.pickle'",
     "output_type": "error",
     "traceback": [
      "\u001B[1;31m---------------------------------------------------------------------------\u001B[0m",
      "\u001B[1;31mFileNotFoundError\u001B[0m                         Traceback (most recent call last)",
      "Cell \u001B[1;32mIn [13], line 1\u001B[0m\n\u001B[1;32m----> 1\u001B[0m \u001B[38;5;28;01mwith\u001B[39;00m \u001B[38;5;28mopen\u001B[39m(\u001B[38;5;124m'\u001B[39m\u001B[38;5;124moverlap_relative.pickle\u001B[39m\u001B[38;5;124m'\u001B[39m, \u001B[38;5;124m'\u001B[39m\u001B[38;5;124mrb\u001B[39m\u001B[38;5;124m'\u001B[39m) \u001B[38;5;28;01mas\u001B[39;00m jar:\n\u001B[0;32m      2\u001B[0m     overlap_rel \u001B[38;5;241m=\u001B[39m pickle\u001B[38;5;241m.\u001B[39mload(jar)\n",
      "\u001B[1;31mFileNotFoundError\u001B[0m: [Errno 2] No such file or directory: 'overlap_relative.pickle'"
     ]
    }
   ],
   "source": [
    "with open('overlap_relative.pickle', 'rb') as jar:\n",
    "    overlap_rel = pickle.load(jar)"
   ]
  },
  {
   "cell_type": "code",
   "execution_count": null,
   "metadata": {
    "pycharm": {
     "name": "#%%\n"
    }
   },
   "outputs": [],
   "source": [
    "from helpers import best_neighbors\n",
    "ncfp_0, co = best_neighbors(route, overlap_rel, candidates)"
   ]
  },
  {
   "cell_type": "code",
   "execution_count": null,
   "metadata": {
    "pycharm": {
     "name": "#%%\n"
    }
   },
   "outputs": [],
   "source": [
    "!pip install scipy"
   ]
  },
  {
   "cell_type": "code",
   "execution_count": null,
   "metadata": {
    "pycharm": {
     "name": "#%%\n"
    }
   },
   "outputs": [],
   "source": []
  },
  {
   "cell_type": "code",
   "execution_count": 14,
   "metadata": {
    "pycharm": {
     "name": "#%%\n"
    }
   },
   "outputs": [
    {
     "data": {
      "image/png": "[encoded data removed]",
      "text/plain": [
       "<Figure size 640x480 with 1 Axes>"
      ]
     },
     "metadata": {},
     "output_type": "display_data"
    }
   ],
   "source": [
    "T = nx.Graph()\n",
    "for _ in ncfp_0:\n",
    "    T.add_node(_['ids'][0])\n",
    "    T.add_node(_['ids'][1])\n",
    "    T.add_edge(_['ids'][0], _['ids'][1])\n",
    "nx.draw(T)\n",
    "plt.show()"
   ]
  },
  {
   "cell_type": "code",
   "execution_count": null,
   "metadata": {
    "pycharm": {
     "name": "#%%\n"
    }
   },
   "outputs": [],
   "source": []
  },
  {
   "cell_type": "code",
   "execution_count": null,
   "metadata": {
    "pycharm": {
     "name": "#%%\n"
    }
   },
   "outputs": [],
   "source": [
    "co"
   ]
  },
  {
   "cell_type": "code",
   "execution_count": null,
   "metadata": {
    "pycharm": {
     "name": "#%%\n"
    }
   },
   "outputs": [],
   "source": [
    "ncfp = pd.DataFrame(ncfp_0)\n",
    "ids = []\n",
    "for idpair in ncfp['ids']:\n",
    "    for id_ in idpair:\n",
    "        if id_ not in ids:\n",
    "            ids.append(id_)\n",
    "len(route)"
   ]
  },
  {
   "cell_type": "code",
   "execution_count": null,
   "metadata": {
    "pycharm": {
     "name": "#%%\n"
    }
   },
   "outputs": [],
   "source": [
    "ncfp"
   ]
  },
  {
   "cell_type": "code",
   "execution_count": null,
   "metadata": {
    "pycharm": {
     "name": "#%%\n"
    }
   },
   "outputs": [],
   "source": [
    "df = []\n",
    "coords = np.asarray([np.asarray(neighborhood_graph.nodes[_]['coord']) for _ in neighborhood_graph])\n",
    "for _ in coords:\n",
    "    df.append(\n",
    "        {\n",
    "            'data': 'candidate',\n",
    "            'x': _[0],\n",
    "            'y': _[1],\n",
    "            'z': _[2],\n",
    "            'size': .25,\n",
    "            'color': 'candidates'\n",
    "        }\n",
    "    )\n",
    "coords_choice = np.asarray([np.asarray(neighborhood_graph.nodes[_]['coord']) for _ in route])\n",
    "for _ in coords_choice:\n",
    "    df.append(\n",
    "        {\n",
    "            'data': 'choice',\n",
    "            'x': _[0],\n",
    "            'y': _[1],\n",
    "            'z': _[2],\n",
    "            'size': 4,\n",
    "            'color': 'strategy viewpoints'\n",
    "        }\n",
    "    )\n",
    "df = pd.DataFrame(df)    \n",
    "\n",
    "critical_double = []\n",
    "list_of_pt = []\n",
    "for pair in ncfp['ids']:\n",
    "    for pt in pair:\n",
    "        if pt not in list_of_pt:\n",
    "            list_of_pt.append(pt)\n",
    "            critical_double.append(\n",
    "                {\n",
    "                    'data': 'connectivity',\n",
    "                    'pt': pt,\n",
    "                    'x': neighborhood_graph.nodes[pt]['coord'][0],\n",
    "                    'y': neighborhood_graph.nodes[pt]['coord'][1],\n",
    "                    'z': neighborhood_graph.nodes[pt]['coord'][2],\n",
    "                    'color': 5,\n",
    "                    'dash': 'dash'\n",
    "                }\n",
    "            )\n",
    "critical_double = pd.DataFrame(critical_double)\n",
    "\n",
    "#critical = np.asarray([np.asarray(neighborhood_graph.nodes[_]['coord']) for _ ])\n",
    "coords_path = np.asarray([np.asarray(neighborhood_graph.nodes[_]['coord']) for _ in full_path])\n",
    "# for _ in coords:\n",
    "#     df.append(\n",
    "#         {\n",
    "#             'data' = 'path'\n",
    "#             'x' = _[0],\n",
    "#             'y' = _[1],\n",
    "#             'z' = _[2]\n",
    "#         }\n",
    "#     )\n",
    "\n",
    "# df_coords = pd.DataFrame(coords, columns=['x', 'y', 'z'])\n",
    "# df_coords['size'] = 2\n",
    "# df_coords_choice = pd.DataFrame(coords_choice, columns=['x', 'y', 'z'])\n",
    "# df_coords_choice['size'] = 2\n",
    "df_coords_full_path = pd.DataFrame(coords_path, columns=['x', 'y', 'z'])\n",
    "df_coords_full_path['color'] = 'path'"
   ]
  },
  {
   "cell_type": "code",
   "execution_count": null,
   "metadata": {
    "pycharm": {
     "name": "#%%\n"
    }
   },
   "outputs": [],
   "source": [
    "critical_double"
   ]
  },
  {
   "cell_type": "code",
   "execution_count": null,
   "metadata": {
    "pycharm": {
     "name": "#%%\n"
    }
   },
   "outputs": [],
   "source": [
    "fig1 = px.scatter_3d(df, x='x', y='y', z='z', size='size', color= 'color')\n",
    "fig2 = px.line_3d(df_coords_full_path, x='x', y='y', z='z', color= 'color')\n",
    "fig_x = px.line_3d(critical_double, x='x', y='y', z='z', color='color')\n",
    "#fig4 = px.scatter_3d(df_coords_choice, x='x', y='y', z='z')\n",
    "\n",
    "# fig1.update_traces(marker=dict(size=2), color='b')\n",
    "# fig2.update_traces(marker=dict(size=2), color='r')\n",
    "\n",
    "\n",
    "\n",
    "\n",
    "pair= ncfp['ids'][0]\n",
    "df_pair = critical_double[(critical_double['pt'] == pair[0]) | (critical_double['pt'] == pair[1])]\n",
    "fig7 = px.line_3d(df_pair,\n",
    "            x='x', y='y', z='z', color='color'\n",
    "        )\n",
    "#fig7.show()\n",
    "for pair in ncfp['ids']:\n",
    "    df_pair = critical_double[(critical_double['pt'] == pair[0]) | (critical_double['pt'] == pair[1])]\n",
    "    #print(df_pair)\n",
    "    fig7.add_trace(\n",
    "       go.Scatter3d(x=df_pair.x, y=df_pair.y, z=df_pair.z, mode='lines')\n",
    "    )\n",
    "    fig7.update_traces(marker=dict(color=5))\n",
    "\n",
    "fig3 = go.Figure(data=fig7.data + fig1.data) # + fig_x.data) # + fig4.data)\n",
    "#fig3.update_traces(marker=dict(size=5))\n",
    "#scene=dict(camera=dict(eye=dict(x=1.15, y=1.15, z=0.8)), #the default values are 1.25, 1.25, 1.25\n",
    "#           xaxis=dict(),\n",
    "#           yaxis=dict(),\n",
    "#           zaxis=dict(),\n",
    "#           aspectmode='manual', #this string can be 'data', 'cube', 'auto', 'manual'\n",
    "#           #a custom aspectratio is defined as follows:\n",
    "#           aspectratio=dict(x=1, y=1, z=0.2)\n",
    "#           )\n",
    "#fig3.update_layout(aspectmode='manual', aspectratio=dict(x=1, y=1, z=2))\n",
    "#fig3.layout.update(height=600, width=1000)\n",
    "\n",
    "# range_i min, max, size, center\n",
    "range_x = [min(df.x), max(df.x), max(df.x) - min(df.x), min(df.x) + 0.5 * (max(df.x) - min(df.x))]\n",
    "range_y = [min(df.y), max(df.y), max(df.y) - min(df.y), min(df.y) + 0.5 * (max(df.y) - min(df.y))]\n",
    "range_z = [min(df.z), max(df.z), max(df.z) - min(df.z), min(df.z) + 0.5 * (max(df.z) - min(df.z))]\n",
    "axis_size = 1 * max([range_x[2], range_y[2], range_z[2]])\n",
    "axis_range_x = [range_x[3] - axis_size / 2, range_x[3] + axis_size / 2]\n",
    "axis_range_y = [range_y[3] - axis_size / 2, range_y[3] + axis_size / 2]\n",
    "axis_range_z = [range_z[3] - axis_size / 2, range_z[3] + axis_size / 2]\n",
    "\n",
    "\n",
    "aspectratio_x = range_x[2] / axis_size\n",
    "aspectratio_y = range_y[2] / axis_size\n",
    "aspectratio_z = range_z[2] / axis_size\n",
    "\n",
    "margin_i = axis_size * 0.1\n",
    "\n",
    "\n",
    "# fig3.update_layout(\n",
    "#     scene = dict(\n",
    "#         xaxis = dict(nticks=4, range=axis_range_x,),\n",
    "#         yaxis = dict(nticks=4, range=axis_range_y,),\n",
    "#         zaxis = dict(nticks=4, range=axis_range_z,),),\n",
    "#     width=700,\n",
    "#     margin=dict(r=20, l=10, b=10, t=10))\n",
    "\n",
    "fig3.update_layout(\n",
    "    scene_aspectmode='data',\n",
    "    scene_aspectratio=dict(x=aspectratio_x, y=aspectratio_y, z=aspectratio_z),\n",
    "    margin=dict(\n",
    "        r=margin_i,\n",
    "        l=margin_i,\n",
    "        b=margin_i,\n",
    "        t=margin_i\n",
    "    )\n",
    ")\n",
    "\n",
    "fig3.show()"
   ]
  },
  {
   "cell_type": "code",
   "execution_count": null,
   "metadata": {
    "pycharm": {
     "name": "#%%\n"
    }
   },
   "outputs": [],
   "source": []
  },
  {
   "cell_type": "code",
   "execution_count": null,
   "metadata": {
    "pycharm": {
     "name": "#%%\n"
    }
   },
   "outputs": [],
   "source": [
    "fig1 = px.scatter_3d(df[df['data'] == 'choice'], x='x', y='y', z='z', size='size', color= 'color')\n",
    "fig2 = px.line_3d(df_coords_full_path, x='x', y='y', z='z', width=50)\n",
    "#fig4 = px.scatter_3d(df_coords_choice, x='x', y='y', z='z')\n",
    "\n",
    "# fig1.update_traces(marker=dict(size=2), color='b')\n",
    "# fig2.update_traces(marker=dict(size=2), color='r')\n",
    "\n",
    "\n",
    "\n",
    "fig3 = go.Figure(fig2.data + fig1.data) # + fig4.data)\n",
    "#fig3.update_traces(marker=dict(size=5))\n",
    "\n",
    "# fig3.update_layout(\n",
    "#     scene = dict(\n",
    "#         xaxis = dict(nticks=4, range=axis_range_x,),\n",
    "#         yaxis = dict(nticks=4, range=axis_range_y,),\n",
    "#         zaxis = dict(nticks=4, range=axis_range_z,),),\n",
    "#     width=700,\n",
    "#     margin=dict(r=20, l=10, b=10, t=10))\n",
    "\n",
    "fig3.update_layout(\n",
    "    scene_aspectmode='data',\n",
    "    scene_aspectratio=dict(x=aspectratio_x, y=aspectratio_y, z=aspectratio_z),\n",
    "    margin=dict(\n",
    "        r=margin_i,\n",
    "        l=margin_i,\n",
    "        b=margin_i,\n",
    "        t=margin_i\n",
    "    )\n",
    ")\n",
    "\n",
    "\n",
    "\n",
    "fig3.show()"
   ]
  },
  {
   "cell_type": "code",
   "execution_count": null,
   "metadata": {
    "pycharm": {
     "name": "#%%\n"
    }
   },
   "outputs": [],
   "source": [
    "df"
   ]
  },
  {
   "cell_type": "code",
   "execution_count": null,
   "metadata": {
    "pycharm": {
     "name": "#%%\n"
    }
   },
   "outputs": [],
   "source": [
    "fig = px.scatter_3d(f, x=\"overlap\", y=\"coverage\", z=\"count\",\n",
    "#                    color_discrete_map={\n",
    "#                             \"random initial\": \"grey\",\n",
    "#                             \"greedy best first\": \"orange\",\n",
    "#                             \"greedy weighted\": \"yellow\",\n",
    "#                             \"GA 1\": \"blue\"\n",
    "#                         },\n",
    "                   color=f[\"experiment\"])\n",
    "fig.update_traces(marker=dict(size=5, opacity=0.5)) #colorscale='temps', color=f[\"source\"], opacity=0.75))\n",
    "fig.show()"
   ]
  }
 ],
 "metadata": {
  "kernelspec": {
   "display_name": "Python 3 (ipykernel)",
   "language": "python",
   "name": "python3"
  },
  "language_info": {
   "codemirror_mode": {
    "name": "ipython",
    "version": 3
   },
   "file_extension": ".py",
   "mimetype": "text/x-python",
   "name": "python",
   "nbconvert_exporter": "python",
   "pygments_lexer": "ipython3",
   "version": "3.10.9"
  }
 },
 "nbformat": 4,
 "nbformat_minor": 1
}