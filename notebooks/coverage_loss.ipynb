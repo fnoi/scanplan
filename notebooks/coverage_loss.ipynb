{
 "cells": [
  {
   "cell_type": "code",
   "execution_count": 2,
   "id": "3c0fb672",
   "metadata": {},
   "outputs": [],
   "source": [
    "import pickle\n",
    "import matplotlib.pyplot as plt\n",
    "import numpy as np"
   ]
  },
  {
   "cell_type": "code",
   "execution_count": 3,
   "id": "a5653ad9",
   "metadata": {},
   "outputs": [],
   "source": [
    "with open ('candidate_eval.pickle', 'rb') as char:\n",
    "    candidates, model = pickle.load(char)"
   ]
  },
  {
   "cell_type": "code",
   "execution_count": 18,
   "id": "5f71a6f1",
   "metadata": {},
   "outputs": [
    {
     "data": {
      "text/plain": [
       "1513"
      ]
     },
     "execution_count": 18,
     "metadata": {},
     "output_type": "execute_result"
    }
   ],
   "source": [
    "visible_area = []\n",
    "vis_hits_all_ids = []\n",
    "for i, candidate in enumerate(candidates):\n",
    "    hits_vis = list(candidates[i]['hit ids'][0])\n",
    "    vis_hits_all_ids.extend(hits_vis)\n",
    "    area_visible = 0\n",
    "    for id in hits_vis:\n",
    "        area_visible += model['area'][id]\n",
    "    visible_area.append(area_visible)\n",
    "len(visible_area)"
   ]
  },
  {
   "cell_type": "code",
   "execution_count": 23,
   "id": "980d9157",
   "metadata": {},
   "outputs": [
    {
     "data": {
      "text/plain": [
       "dict_keys(['size', 'ids', 'area totalvertices', 'triangles', 'midpoint', 'normal', 'area', 'hit by', 'vertices', 'normals', 'area total'])"
      ]
     },
     "execution_count": 23,
     "metadata": {},
     "output_type": "execute_result"
    }
   ],
   "source": [
    "model.keys()"
   ]
  },
  {
   "cell_type": "code",
   "execution_count": 9,
   "id": "6af135ff",
   "metadata": {},
   "outputs": [
    {
     "data": {
      "text/plain": [
       "1513"
      ]
     },
     "execution_count": 9,
     "metadata": {},
     "output_type": "execute_result"
    }
   ],
   "source": [
    "covered_area = []\n",
    "cov_hits_all_ids = []\n",
    "for i, candidate in enumerate(candidates):\n",
    "    hits_cov = list(candidates[i]['qualified hits'])\n",
    "    cov_hits_all_ids.extend(hits_cov)\n",
    "    area_cov = 0\n",
    "    for id in hits_cov:\n",
    "        area_cov += model['area'][id]\n",
    "    covered_area.append(area_cov)\n",
    "len(covered_area)"
   ]
  },
  {
   "cell_type": "code",
   "execution_count": 15,
   "id": "be3bc52d",
   "metadata": {},
   "outputs": [
    {
     "name": "stdout",
     "output_type": "stream",
     "text": [
      "242.8032080542698 0.5266371963076925\n"
     ]
    }
   ],
   "source": [
    "cov_ids = np.unique(np.asarray(cov_hits_all_ids))\n",
    "area_cov = 0\n",
    "for id in cov_ids:\n",
    "    area_cov += model['area'][id]\n",
    "print(area_cov, area_cov/model['area total'])"
   ]
  },
  {
   "cell_type": "code",
   "execution_count": 19,
   "id": "a75e237b",
   "metadata": {},
   "outputs": [
    {
     "name": "stdout",
     "output_type": "stream",
     "text": [
      "246.21210903260462 0.5340310609444379\n"
     ]
    }
   ],
   "source": [
    "vis_ids = np.unique(np.asarray(vis_hits_all_ids))\n",
    "area_vis = 0\n",
    "for id in vis_ids:\n",
    "    area_vis += model['area'][id]\n",
    "print(area_vis, area_vis/model['area total'])"
   ]
  },
  {
   "cell_type": "code",
   "execution_count": 20,
   "id": "5f185022",
   "metadata": {},
   "outputs": [
    {
     "data": {
      "text/plain": [
       "0.9861546168800195"
      ]
     },
     "execution_count": 20,
     "metadata": {},
     "output_type": "execute_result"
    }
   ],
   "source": [
    "area_cov / area_vis"
   ]
  },
  {
   "cell_type": "code",
   "execution_count": 1,
   "id": "2e57dbef",
   "metadata": {},
   "outputs": [
    {
     "ename": "NameError",
     "evalue": "name 'model' is not defined",
     "output_type": "error",
     "traceback": [
      "\u001b[0;31m---------------------------------------------------------------------------\u001b[0m",
      "\u001b[0;31mNameError\u001b[0m                                 Traceback (most recent call last)",
      "\u001b[0;32m/var/folders/1h/90k3g_xn0hq1xrf_z17qt6nc0000gn/T/ipykernel_21417/2897706967.py\u001b[0m in \u001b[0;36m<module>\u001b[0;34m\u001b[0m\n\u001b[0;32m----> 1\u001b[0;31m \u001b[0mmodel\u001b[0m\u001b[0;34m[\u001b[0m\u001b[0;34m'area total'\u001b[0m\u001b[0;34m]\u001b[0m\u001b[0;34m\u001b[0m\u001b[0;34m\u001b[0m\u001b[0m\n\u001b[0m",
      "\u001b[0;31mNameError\u001b[0m: name 'model' is not defined"
     ]
    }
   ],
   "source": [
    "model['area total']"
   ]
  },
  {
   "cell_type": "code",
   "execution_count": 22,
   "id": "3c3b7579",
   "metadata": {},
   "outputs": [
    {
     "data": {
      "image/png": "[encoded data removed]",
      "text/plain": [
       "<Figure size 792x576 with 1 Axes>"
      ]
     },
     "metadata": {
      "needs_background": "light"
     },
     "output_type": "display_data"
    }
   ],
   "source": [
    "plt.figure(figsize=(11,8))\n",
    "plt.rcParams.update({'font.size': 20})\n",
    "bins = np.histogram(np.hstack((visible_area, covered_area)), bins=30)[1]\n",
    "plt.hist(visible_area, bins, alpha=0.75, label='visibility')#, color='b')\n",
    "plt.hist(covered_area, bins, alpha=0.75, label='coverage')#, color='g')\n",
    "# plt.grid(axis = 'x')\n",
    "plt.xlabel(\"area per candidate\")\n",
    "plt.ylabel(\"candidates\")\n",
    "plt.legend(loc=\"upper left\")\n",
    "plt.show()"
   ]
  }
 ],
 "metadata": {
  "kernelspec": {
   "display_name": "Python 3 (ipykernel)",
   "language": "python",
   "name": "python3"
  },
  "language_info": {
   "codemirror_mode": {
    "name": "ipython",
    "version": 3
   },
   "file_extension": ".py",
   "mimetype": "text/x-python",
   "name": "python",
   "nbconvert_exporter": "python",
   "pygments_lexer": "ipython3",
   "version": "3.9.9"
  }
 },
 "nbformat": 4,
 "nbformat_minor": 5
}
