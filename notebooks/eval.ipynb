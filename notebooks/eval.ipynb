{
 "cells": [
  {
   "cell_type": "code",
   "execution_count": 1,
   "metadata": {
    "pycharm": {
     "name": "#%%\n"
    }
   },
   "outputs": [],
   "source": [
    "import pickle\n",
    "import matplotlib.pyplot as plt\n",
    "import numpy as np\n",
    "import pandas as pd"
   ]
  },
  {
   "cell_type": "code",
   "execution_count": 2,
   "metadata": {
    "pycharm": {
     "name": "#%%\n"
    }
   },
   "outputs": [
    {
     "data": {
      "text/plain": [
       "{'setup': {'model path': 'testroom5_1.obj',\n",
       "  'candidate grid path': 'locationgrid5_2.obj',\n",
       "  'minimum distance': 1.5,\n",
       "  'maximum distance': 20,\n",
       "  'minimum incidence angle': 15,\n",
       "  'minimum output angle': 30,\n",
       "  'maximum output angle': 180,\n",
       "  'minimum local point density': 45,\n",
       "  'scanner point spacing at 10m': 10,\n",
       "  'z axis': [0.0, 0.0, -1.0],\n",
       "  'debug skip candidate': 1,\n",
       "  'time log option': False,\n",
       "  'greedy type': 'count goal',\n",
       "  'greedy weighted': True,\n",
       "  'weight of the weight': None,\n",
       "  'count goal': 5,\n",
       "  'coverage goal': None,\n",
       "  'print chosen scanpoints': True,\n",
       "  'heatmap export': True,\n",
       "  'show heatmaps': True,\n",
       "  'save heatmaps': True,\n",
       "  'heatmaps per iteration': False,\n",
       "  'export obj file per scan': False,\n",
       "  'export raw scans': False,\n",
       "  'greedy area': True,\n",
       "  'heatmap face': True,\n",
       "  'heatmap 3d': False,\n",
       "  'save strategy map': True,\n",
       "  'configpath': '/home/fnoic/PycharmProjects/scanplan/config_pool/',\n",
       "  'id': 0,\n",
       "  'path': '/home/fnoic/PycharmProjects/scanplan/config_pool//config_0/'},\n",
       " 'strategy': {'coverage type': 'count',\n",
       "  'coverage goal relative': None,\n",
       "  'coverage goal absolute': 5,\n",
       "  'local goal': 37715,\n",
       "  'scanpoint count': 5,\n",
       "  'scanpoint ids': [75, 248, 1487, 1034, 0],\n",
       "  'coverage achieved relative': 0.0018421465644142079,\n",
       "  'coverage achieved absolute': 69,\n",
       "  'overlap': array([[11.87632884,  7.01568424,  0.06123642,  0.29460273,  4.63098749],\n",
       "         [ 0.        , 13.95675687,  0.07163505,  0.27482266,  4.89037325],\n",
       "         [ 0.        ,  0.        , 13.14538192,  0.12471939,  0.19353322],\n",
       "         [ 0.        ,  0.        ,  0.        , 19.2753253 ,  0.65781587],\n",
       "         [ 0.        ,  0.        ,  0.        ,  0.        , 24.45131837]])}}"
      ]
     },
     "execution_count": 2,
     "metadata": {},
     "output_type": "execute_result"
    }
   ],
   "source": [
    "with open('strategies.pkl', 'rb') as strat_pkl:\n",
    "    strategies = pickle.load(strat_pkl)\n",
    "strategies[0]"
   ]
  },
  {
   "cell_type": "code",
   "execution_count": 3,
   "metadata": {
    "pycharm": {
     "name": "#%%\n"
    },
    "scrolled": true
   },
   "outputs": [
    {
     "data": {
      "text/html": [
       "<div>\n",
       "<style scoped>\n",
       "    .dataframe tbody tr th:only-of-type {\n",
       "        vertical-align: middle;\n",
       "    }\n",
       "\n",
       "    .dataframe tbody tr th {\n",
       "        vertical-align: top;\n",
       "    }\n",
       "\n",
       "    .dataframe thead th {\n",
       "        text-align: right;\n",
       "    }\n",
       "</style>\n",
       "<table border=\"1\" class=\"dataframe\">\n",
       "  <thead>\n",
       "    <tr style=\"text-align: right;\">\n",
       "      <th></th>\n",
       "      <th>id</th>\n",
       "      <th>greedy type</th>\n",
       "      <th>greedy weighted</th>\n",
       "      <th>coverage targeted</th>\n",
       "      <th>coverage achieved</th>\n",
       "      <th>location goal</th>\n",
       "      <th>location count</th>\n",
       "    </tr>\n",
       "  </thead>\n",
       "  <tbody>\n",
       "    <tr>\n",
       "      <th>0</th>\n",
       "      <td>0</td>\n",
       "      <td>count goal</td>\n",
       "      <td>True</td>\n",
       "      <td>None</td>\n",
       "      <td>0.001842</td>\n",
       "      <td>5</td>\n",
       "      <td>5</td>\n",
       "    </tr>\n",
       "    <tr>\n",
       "      <th>1</th>\n",
       "      <td>1</td>\n",
       "      <td>count goal</td>\n",
       "      <td>False</td>\n",
       "      <td>None</td>\n",
       "      <td>0.003284</td>\n",
       "      <td>5</td>\n",
       "      <td>5</td>\n",
       "    </tr>\n",
       "  </tbody>\n",
       "</table>\n",
       "</div>"
      ],
      "text/plain": [
       "   id greedy type  greedy weighted coverage targeted  coverage achieved  \\\n",
       "0   0  count goal             True              None           0.001842   \n",
       "1   1  count goal            False              None           0.003284   \n",
       "\n",
       "   location goal  location count  \n",
       "0              5               5  \n",
       "1              5               5  "
      ]
     },
     "execution_count": 3,
     "metadata": {},
     "output_type": "execute_result"
    }
   ],
   "source": [
    "# for every strategy: greedy weighted, greedy counted, cov goal, gov reached, num loc\n",
    "strats = []\n",
    "for strat in strategies:\n",
    "    strats.append(\n",
    "        {\n",
    "            'id': strat['setup']['id'],\n",
    "            'greedy type': strat['setup']['greedy type'],\n",
    "            'greedy weighted': strat['setup']['greedy weighted'],\n",
    "            'coverage targeted': strat['setup']['coverage goal'],\n",
    "            'coverage achieved': strat['strategy']['coverage achieved relative'],\n",
    "            'location goal': strat['setup']['count goal'],\n",
    "            'location count': strat['strategy']['scanpoint count']\n",
    "        }\n",
    "    )\n",
    "    \n",
    "strats = pd.DataFrame(strats).sort_values(by=['id'])\n",
    "strats"
   ]
  },
  {
   "cell_type": "code",
   "execution_count": 1,
   "metadata": {
    "pycharm": {
     "name": "#%%\n"
    },
    "scrolled": false
   },
   "outputs": [
    {
     "ename": "NameError",
     "evalue": "name 'strats' is not defined",
     "output_type": "error",
     "traceback": [
      "\u001b[1;31m---------------------------------------------------------------------------\u001b[0m",
      "\u001b[1;31mNameError\u001b[0m                                 Traceback (most recent call last)",
      "\u001b[1;32m~\\AppData\\Local\\Temp\\1/ipykernel_20300/2459162761.py\u001b[0m in \u001b[0;36m<module>\u001b[1;34m\u001b[0m\n\u001b[1;32m----> 1\u001b[1;33m \u001b[0mstrats\u001b[0m\u001b[1;33m[\u001b[0m\u001b[1;33m(\u001b[0m\u001b[0mstrats\u001b[0m\u001b[1;33m[\u001b[0m\u001b[1;34m\"greedy type\"\u001b[0m\u001b[1;33m]\u001b[0m \u001b[1;33m==\u001b[0m \u001b[1;34m'coverage goal'\u001b[0m\u001b[1;33m)\u001b[0m \u001b[1;33m&\u001b[0m \u001b[1;33m(\u001b[0m\u001b[0mstrats\u001b[0m\u001b[1;33m[\u001b[0m\u001b[1;34m\"greedy weighted\"\u001b[0m\u001b[1;33m]\u001b[0m \u001b[1;33m==\u001b[0m \u001b[1;32mFalse\u001b[0m\u001b[1;33m)\u001b[0m\u001b[1;33m]\u001b[0m\u001b[1;33m\u001b[0m\u001b[1;33m\u001b[0m\u001b[0m\n\u001b[0m",
      "\u001b[1;31mNameError\u001b[0m: name 'strats' is not defined"
     ]
    }
   ],
   "source": [
    "strats[(strats[\"greedy type\"] == 'coverage goal') & (strats[\"greedy weighted\"] == False)]"
   ]
  },
  {
   "cell_type": "code",
   "execution_count": 5,
   "metadata": {
    "pycharm": {
     "name": "#%%\n"
    }
   },
   "outputs": [
    {
     "data": {
      "text/html": [
       "<div>\n",
       "<style scoped>\n",
       "    .dataframe tbody tr th:only-of-type {\n",
       "        vertical-align: middle;\n",
       "    }\n",
       "\n",
       "    .dataframe tbody tr th {\n",
       "        vertical-align: top;\n",
       "    }\n",
       "\n",
       "    .dataframe thead th {\n",
       "        text-align: right;\n",
       "    }\n",
       "</style>\n",
       "<table border=\"1\" class=\"dataframe\">\n",
       "  <thead>\n",
       "    <tr style=\"text-align: right;\">\n",
       "      <th></th>\n",
       "      <th>id</th>\n",
       "      <th>greedy type</th>\n",
       "      <th>greedy weighted</th>\n",
       "      <th>coverage targeted</th>\n",
       "      <th>coverage achieved</th>\n",
       "      <th>location goal</th>\n",
       "      <th>location count</th>\n",
       "    </tr>\n",
       "  </thead>\n",
       "  <tbody>\n",
       "  </tbody>\n",
       "</table>\n",
       "</div>"
      ],
      "text/plain": [
       "Empty DataFrame\n",
       "Columns: [id, greedy type, greedy weighted, coverage targeted, coverage achieved, location goal, location count]\n",
       "Index: []"
      ]
     },
     "execution_count": 5,
     "metadata": {},
     "output_type": "execute_result"
    }
   ],
   "source": [
    "strats[(strats[\"coverage targeted\"] == 1)]"
   ]
  },
  {
   "cell_type": "code",
   "execution_count": 6,
   "metadata": {
    "pycharm": {
     "name": "#%%\n"
    }
   },
   "outputs": [
    {
     "data": {
      "image/png": "[encoded data removed]",
      "text/plain": [
       "<Figure size 1080x720 with 2 Axes>"
      ]
     },
     "metadata": {
      "needs_background": "light"
     },
     "output_type": "display_data"
    }
   ],
   "source": [
    "fig, ax1 = plt.subplots()\n",
    "fig.set_size_inches(15, 10)\n",
    "\n",
    "ax1.set_xlabel('coverage goal')\n",
    "ax1.set_ylabel('achieved coverage')\n",
    "ax1.plot(strats[(strats[\"greedy type\"] == 'coverage goal') & (strats[\"greedy weighted\"] == True)][\"coverage targeted\"],\n",
    "         strats[(strats[\"greedy type\"] == 'coverage goal') & (strats[\"greedy weighted\"] == True)][\"coverage achieved\"],\n",
    "         linestyle='--', marker='x', color='b', label='coverage, weighted')\n",
    "ax1.plot(strats[(strats[\"greedy type\"] == 'coverage goal') & (strats[\"greedy weighted\"] == False)][\"coverage targeted\"],\n",
    "         strats[(strats[\"greedy type\"] == 'coverage goal') & (strats[\"greedy weighted\"] == False)][\"coverage achieved\"],\n",
    "         linestyle='--', marker='x', color='r', label='coverage, unweighted')\n",
    "ax1.plot(strats[(strats[\"greedy type\"] == 'coverage goal') & (strats[\"greedy weighted\"] == False)][\"coverage targeted\"],\n",
    "         strats[(strats[\"greedy type\"] == 'coverage goal') & (strats[\"greedy weighted\"] == False)][\"coverage targeted\"],\n",
    "         linestyle='-', marker='', color='grey', label='coverage goal')\n",
    "leg = plt.legend(loc='upper left')\n",
    "\n",
    "ax2 = ax1.twinx()\n",
    "ax2.set_ylabel('no. of points')\n",
    "ax2.set_yscale('log')\n",
    "ax2.plot(strats[(strats[\"greedy type\"] == 'coverage goal') & (strats[\"greedy weighted\"] == True)][\"coverage targeted\"],\n",
    "         strats[(strats[\"greedy type\"] == 'coverage goal') & (strats[\"greedy weighted\"] == True)][\"location count\"],\n",
    "         linestyle=':', marker='+', color='c', label='number of points, weighted')\n",
    "ax2.plot(strats[(strats[\"greedy type\"] == 'coverage goal') & (strats[\"greedy weighted\"] == False)][\"coverage targeted\"],\n",
    "         strats[(strats[\"greedy type\"] == 'coverage goal') & (strats[\"greedy weighted\"] == False)][\"location count\"],\n",
    "         linestyle=':', marker='+', color='y', label='number of points, unweighted')\n",
    "leg = plt.legend(loc='lower right')"
   ]
  },
  {
   "cell_type": "code",
   "execution_count": 6,
   "metadata": {
    "pycharm": {
     "name": "#%%\n"
    }
   },
   "outputs": [],
   "source": []
  },
  {
   "cell_type": "code",
   "execution_count": 7,
   "metadata": {
    "pycharm": {
     "name": "#%%\n"
    }
   },
   "outputs": [
    {
     "data": {
      "image/png": "[encoded data removed]",
      "text/plain": [
       "<Figure size 1080x720 with 1 Axes>"
      ]
     },
     "metadata": {
      "needs_background": "light"
     },
     "output_type": "display_data"
    }
   ],
   "source": [
    "#coverage per point set\n",
    "#fig3, ax3 = plt.plot()\n",
    "n = 50\n",
    "x = strats[(strats[\"greedy type\"] == 'count goal') & (strats[\"greedy weighted\"] == True)][\"location goal\"][n:]\n",
    "y1 = strats[(strats[\"greedy type\"] == 'count goal') & (strats[\"greedy weighted\"] == True)][\"coverage achieved\"][n:]\n",
    "y2 = strats[(strats[\"greedy type\"] == 'count goal') & (strats[\"greedy weighted\"] == False)][\"coverage achieved\"][n:]\n",
    "plt.figure(figsize=(15, 10))\n",
    "plt.plot(x, y1, linestyle='--', marker='x', color='b', label=\"coverage, weighted\")\n",
    "plt.plot(x, y2, linestyle='--', marker='x', color='r', label=\"coverage, unweighted\")\n",
    "plt.legend(loc=\"lower right\")\n",
    "plt.show()"
   ]
  },
  {
   "cell_type": "markdown",
   "metadata": {
    "pycharm": {
     "name": "#%% md\n"
    },
    "scrolled": false
   },
   "source": [
    "diff = [(strat[\"greedy weighted\"] - strat[\"greedy unweighted\"]) for strat in strats[strats[\"greedy type\"] == 'count goal']]"
   ]
  },
  {
   "cell_type": "code",
   "execution_count": 8,
   "metadata": {
    "pycharm": {
     "name": "#%%\n"
    }
   },
   "outputs": [
    {
     "data": {
      "text/plain": [
       "['id',\n",
       " 'greedy type',\n",
       " 'greedy weighted',\n",
       " 'coverage targeted',\n",
       " 'coverage achieved',\n",
       " 'location goal',\n",
       " 'location count']"
      ]
     },
     "execution_count": 8,
     "metadata": {},
     "output_type": "execute_result"
    }
   ],
   "source": [
    "[strat for strat in strats[strats[\"greedy type\"] == 'count goal']]"
   ]
  },
  {
   "cell_type": "code",
   "execution_count": 9,
   "metadata": {
    "pycharm": {
     "name": "#%%\n"
    }
   },
   "outputs": [],
   "source": [
    "loc_goals = strats[(strats[\"greedy type\"] == 'count goal') & (strats[\"greedy weighted\"] == True)][\"location goal\"]"
   ]
  },
  {
   "cell_type": "code",
   "execution_count": 10,
   "metadata": {
    "pycharm": {
     "name": "#%%\n"
    }
   },
   "outputs": [
    {
     "data": {
      "text/plain": [
       "[0.0014416680950712717]"
      ]
     },
     "execution_count": 10,
     "metadata": {},
     "output_type": "execute_result"
    }
   ],
   "source": [
    "w = [float(strats[(strats[\"greedy weighted\"] == True) & (strats[\"location goal\"] == gol)][\"coverage achieved\"]) for gol in loc_goals]\n",
    "u = [float(strats[(strats[\"greedy weighted\"] == False) & (strats[\"location goal\"] == gol)][\"coverage achieved\"]) for gol in loc_goals]\n",
    "dif = [u[i] - w[i] for i in range(len(w))]\n",
    "dif"
   ]
  },
  {
   "cell_type": "code",
   "execution_count": 11,
   "metadata": {
    "pycharm": {
     "name": "#%%\n"
    }
   },
   "outputs": [
    {
     "data": {
      "image/png": "[encoded data removed]",
      "text/plain": [
       "<Figure size 1080x720 with 1 Axes>"
      ]
     },
     "metadata": {
      "needs_background": "light"
     },
     "output_type": "display_data"
    }
   ],
   "source": [
    "x = strats[(strats[\"greedy type\"] == 'count goal') & (strats[\"greedy weighted\"] == True)][\"location goal\"]\n",
    "y1 = dif\n",
    "plt.figure(figsize=(15, 10))\n",
    "plt.plot(x, y1, marker='x', color='k', label=\"coverage diff\")\n",
    "plt.legend(loc=\"lower right\")\n",
    "plt.show()"
   ]
  }
 ],
 "metadata": {
  "kernelspec": {
   "display_name": "Python 3 (ipykernel)",
   "language": "python",
   "name": "python3"
  },
  "language_info": {
   "codemirror_mode": {
    "name": "ipython",
    "version": 3
   },
   "file_extension": ".py",
   "mimetype": "text/x-python",
   "name": "python",
   "nbconvert_exporter": "python",
   "pygments_lexer": "ipython3",
   "version": "3.9.9"
  }
 },
 "nbformat": 4,
 "nbformat_minor": 1
}
