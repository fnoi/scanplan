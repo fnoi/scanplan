{
 "cells": [
  {
   "cell_type": "markdown",
   "id": "ac04bcc4",
   "metadata": {
    "pycharm": {
     "name": "#%%\n"
    }
   },
   "source": [
    "!pip install plotly\n",
    "!pip install tqdm"
   ]
  },
  {
   "cell_type": "code",
   "execution_count": 1,
   "id": "35343fdd",
   "metadata": {
    "pycharm": {
     "name": "#%%\n"
    }
   },
   "outputs": [],
   "source": [
    "import pickle\n",
    "import pandas as pd\n",
    "import numpy as np\n",
    "import os\n",
    "import matplotlib.pyplot as plt\n",
    "from random import randint\n",
    "from optimization_fixed_count import one_fit, fitness\n",
    "import plotly.express as px"
   ]
  },
  {
   "cell_type": "code",
   "execution_count": 3,
   "id": "ff8c527c",
   "metadata": {
    "pycharm": {
     "name": "#%%\n"
    }
   },
   "outputs": [],
   "source": [
    "with open('overlap_relative.pickle', 'rb') as char:\n",
    "    overlap_relative = pickle.load(char)"
   ]
  },
  {
   "cell_type": "code",
   "execution_count": 4,
   "id": "699cb05d",
   "metadata": {
    "pycharm": {
     "name": "#%%\n"
    }
   },
   "outputs": [],
   "source": [
    "with open('candidate_eval.pickle', 'rb') as char:\n",
    "    blob = pickle.load(char)"
   ]
  },
  {
   "cell_type": "code",
   "execution_count": 34,
   "id": "2b965e35",
   "metadata": {},
   "outputs": [],
   "source": [
    "__ = os.getcwd()\n",
    "data = {}\n",
    "for _ in os.listdir(f'{__}/jar/fixed_count/'):\n",
    "    if not _.startswith('hof') and not _.startswith('logbook') and not _.startswith('.'):\n",
    "        #print(f'{_}')\n",
    "        with open(f'{__}/jar/fixed_count/{_}', 'rb') as jar:\n",
    "            data[_] = pickle.load(jar)"
   ]
  },
  {
   "cell_type": "code",
   "execution_count": 6,
   "id": "0fafda34",
   "metadata": {},
   "outputs": [],
   "source": [
    "# solutions_greedy = [1112, 661, 170, 1382, 490, 31, 627, 759, 1280, 1340]\n",
    "solutions_greedy = [873, 1299, 314, 345, 631, 154, 1115, 20, 516, 1380, 508, 699, 360, 270, 16, 1452, 489, 1106, 1340, 512, 828, 1388, 1094, 694, 8, 185, 1251, 158, 230, 411, 1355, 862, 246, 168, 220, 126, 1103, 24, 639, 39, 74, 89, 438, 1367, 1125, 236, 1399, 590, 799, 920, 490, 426, 111, 348, 1100, 1279, 13, 616, 644, 865, 80, 45, 1253, 1222, 1392, 779, 835, 529, 1135, 1327, 889, 331, 1398, 1281, 1381, 0, 1099, 564, 1160, 1182, 1338, 1385, 1249, 1124, 1101, 1098, 832, 385, 1121, 10, 1034, 1005, 855, 1110, 707, 1193, 1036, 1119, 4, 937]\n",
    "data['standard_greedy'] = solutions_greedy[:10]\n",
    "# solutions_greedy_weighted = [300, 1094, 28, 1442, 524, 438, 1128, 771, 411, 1193]\n",
    "solutions_greedy_weighted = [16, 343, 510, 1270, 288, 172, 626, 185, 1109, 489, 246, 1381, 168, 1094, 220, 24, 478, 126, 438, 679, 1392, 1398, 862, 74, 377, 158, 490, 89, 865, 34, 694, 1222, 376, 639, 629, 80, 210, 1100, 739, 564, 1385, 11, 365, 1124, 1279, 1355, 111, 779, 1338, 889, 1005, 331, 590, 1281, 722, 1099, 1253, 1101, 1399, 835, 236, 1443, 1135, 1160, 0, 230, 759, 426, 495, 1098, 1354, 13, 1219, 799, 1340, 1249, 832, 1189, 3, 1125, 10, 1335, 855, 1110, 707, 386, 1193, 1063, 937, 1119, 616, 1036, 4, 1091, 33, 12]\n",
    "data['standard_greedy_weighted'] = solutions_greedy_weighted[:10]"
   ]
  },
  {
   "cell_type": "code",
   "execution_count": 24,
   "id": "17d5c8fd",
   "metadata": {
    "pycharm": {
     "name": "#%%\n"
    }
   },
   "outputs": [],
   "source": [
    "candidate_set = blob[0]\n",
    "hitlists = [blobi['qualified hits'] for blobi in candidate_set]\n",
    "max_cover = candidate_set[0]['max coverage area']\n",
    "face_areas = blob[1]['area']"
   ]
  },
  {
   "cell_type": "code",
   "execution_count": 25,
   "id": "19034b4d",
   "metadata": {
    "pycharm": {
     "name": "#%%\n"
    }
   },
   "outputs": [
    {
     "name": "stdout",
     "output_type": "stream",
     "text": [
      "set_EA_10.pkl\n",
      "set_EA_2.pkl\n",
      "set_EA_3.pkl\n",
      "set_EA_4.pkl\n",
      "set_EA_5.pkl\n",
      "set_EA_6.pkl\n",
      "set_EA_7.pkl\n",
      "set_EA_8.pkl\n",
      "set_EA_9.pkl\n",
      "set_greedy_10.pkl\n",
      "standard_greedy\n"
     ]
    }
   ],
   "source": [
    "f = []\n",
    "for dataset in data:\n",
    "    print(dataset)\n",
    "    if dataset.startswith('standard_greedy'):\n",
    "        break\n",
    "        greedy_standardset = [data[dataset][0:i+1] for i in range(1, len(data[dataset]))]\n",
    "        for greedy_set in greedy_standardset:\n",
    "            _ = one_fit(\n",
    "                individual=greedy_set,\n",
    "                overlap_rel=overlap_relative,\n",
    "                qualified_hitlists_source=hitlists,\n",
    "                arealist=face_areas,\n",
    "                max_cov=max_cover)\n",
    "            __ = fitness(\n",
    "                individual=greedy_set,\n",
    "                overlap_rel=overlap_relative,\n",
    "                qualified_hitlists_source=hitlists,\n",
    "                arealist=face_areas,\n",
    "                max_cov=max_cover)\n",
    "            f.append(\n",
    "                {\n",
    "                    'experiment': dataset,\n",
    "                    'count': __[0],\n",
    "                    'fitness': _[0],\n",
    "                    'coverage': __[1],\n",
    "                    'overlap': __[2],\n",
    "                    'idlist': greedy_set\n",
    "                }\n",
    "            )                \n",
    "        \n",
    "    elif dataset.startswith('set_greedy'):\n",
    "        greedy_sets = [data[dataset][0:i+1] for i in range(1, len(data[dataset]))]\n",
    "        for greedy_set in greedy_sets:\n",
    "            _ = one_fit(\n",
    "                individual=greedy_set,\n",
    "                overlap_rel=overlap_relative,\n",
    "                qualified_hitlists_source=hitlists,\n",
    "                arealist=face_areas,\n",
    "                max_cov=max_cover)\n",
    "            __ = fitness(\n",
    "                individual=greedy_set,\n",
    "                overlap_rel=overlap_relative,\n",
    "                qualified_hitlists_source=hitlists,\n",
    "                arealist=face_areas,\n",
    "                max_cov=max_cover)\n",
    "            f.append(\n",
    "                {\n",
    "                    'experiment': dataset,\n",
    "                    'count': __[0],\n",
    "                    'fitness': _[0],\n",
    "                    'coverage': __[1],\n",
    "                    'overlap': __[2],\n",
    "                    'idlist': greedy_set\n",
    "                }\n",
    "            )\n",
    "    else:\n",
    "        if not dataset.startswith('set_greedy'):\n",
    "            _ = one_fit(\n",
    "                individual=data[dataset],\n",
    "                overlap_rel=overlap_relative,\n",
    "                qualified_hitlists_source=hitlists,\n",
    "                arealist=face_areas,\n",
    "                max_cov=max_cover)\n",
    "            __ = fitness(\n",
    "                individual=data[dataset],\n",
    "                overlap_rel=overlap_relative,\n",
    "                qualified_hitlists_source=hitlists,\n",
    "                arealist=face_areas,\n",
    "                max_cov=max_cover)\n",
    "            f.append(\n",
    "                {\n",
    "                    'experiment': dataset,\n",
    "                    'count': __[0],\n",
    "                    'fitness': _[0],\n",
    "                    'coverage': __[1],\n",
    "                    'overlap': __[2],\n",
    "                    'idlist': data[dataset]\n",
    "                }\n",
    "            )\n",
    "f = pd.DataFrame(f)"
   ]
  },
  {
   "cell_type": "code",
   "execution_count": 31,
   "id": "27377e1f",
   "metadata": {},
   "outputs": [
    {
     "data": {
      "text/html": [
       "<div>\n",
       "<style scoped>\n",
       "    .dataframe tbody tr th:only-of-type {\n",
       "        vertical-align: middle;\n",
       "    }\n",
       "\n",
       "    .dataframe tbody tr th {\n",
       "        vertical-align: top;\n",
       "    }\n",
       "\n",
       "    .dataframe thead th {\n",
       "        text-align: right;\n",
       "    }\n",
       "</style>\n",
       "<table border=\"1\" class=\"dataframe\">\n",
       "  <thead>\n",
       "    <tr style=\"text-align: right;\">\n",
       "      <th></th>\n",
       "      <th>experiment</th>\n",
       "      <th>count</th>\n",
       "      <th>fitness</th>\n",
       "      <th>coverage</th>\n",
       "      <th>overlap</th>\n",
       "      <th>idlist</th>\n",
       "    </tr>\n",
       "  </thead>\n",
       "  <tbody>\n",
       "    <tr>\n",
       "      <th>0</th>\n",
       "      <td>evolutionary algorithm</td>\n",
       "      <td>10</td>\n",
       "      <td>-0.927297</td>\n",
       "      <td>0.927297</td>\n",
       "      <td>0.432545</td>\n",
       "      <td>[328, 790, 1238, 152, 481, 664, 19, 1301, 1129...</td>\n",
       "    </tr>\n",
       "    <tr>\n",
       "      <th>1</th>\n",
       "      <td>evolutionary algorithm</td>\n",
       "      <td>2</td>\n",
       "      <td>-0.497745</td>\n",
       "      <td>0.497745</td>\n",
       "      <td>0.402627</td>\n",
       "      <td>[873, 1125]</td>\n",
       "    </tr>\n",
       "    <tr>\n",
       "      <th>2</th>\n",
       "      <td>evolutionary algorithm</td>\n",
       "      <td>3</td>\n",
       "      <td>-0.604537</td>\n",
       "      <td>0.604537</td>\n",
       "      <td>0.400452</td>\n",
       "      <td>[873, 1125, 499]</td>\n",
       "    </tr>\n",
       "    <tr>\n",
       "      <th>3</th>\n",
       "      <td>evolutionary algorithm</td>\n",
       "      <td>4</td>\n",
       "      <td>-0.714730</td>\n",
       "      <td>0.714730</td>\n",
       "      <td>0.402461</td>\n",
       "      <td>[1325, 516, 1134, 651]</td>\n",
       "    </tr>\n",
       "    <tr>\n",
       "      <th>4</th>\n",
       "      <td>evolutionary algorithm</td>\n",
       "      <td>5</td>\n",
       "      <td>-0.753374</td>\n",
       "      <td>0.753374</td>\n",
       "      <td>0.406222</td>\n",
       "      <td>[516, 262, 1299, 651, 1127]</td>\n",
       "    </tr>\n",
       "    <tr>\n",
       "      <th>5</th>\n",
       "      <td>evolutionary algorithm</td>\n",
       "      <td>6</td>\n",
       "      <td>-0.812696</td>\n",
       "      <td>0.812696</td>\n",
       "      <td>0.446487</td>\n",
       "      <td>[499, 1272, 188, 1413, 746, 302]</td>\n",
       "    </tr>\n",
       "    <tr>\n",
       "      <th>6</th>\n",
       "      <td>evolutionary algorithm</td>\n",
       "      <td>7</td>\n",
       "      <td>-0.844775</td>\n",
       "      <td>0.844775</td>\n",
       "      <td>0.400953</td>\n",
       "      <td>[650, 967, 1433, 302, 1353, 343, 430]</td>\n",
       "    </tr>\n",
       "    <tr>\n",
       "      <th>7</th>\n",
       "      <td>evolutionary algorithm</td>\n",
       "      <td>8</td>\n",
       "      <td>-0.871584</td>\n",
       "      <td>0.871584</td>\n",
       "      <td>0.414438</td>\n",
       "      <td>[990, 1215, 362, 326, 1300, 365, 170, 663]</td>\n",
       "    </tr>\n",
       "    <tr>\n",
       "      <th>8</th>\n",
       "      <td>evolutionary algorithm</td>\n",
       "      <td>9</td>\n",
       "      <td>-0.892909</td>\n",
       "      <td>0.892909</td>\n",
       "      <td>0.408694</td>\n",
       "      <td>[681, 381, 277, 512, 1302, 188, 709, 126, 1379]</td>\n",
       "    </tr>\n",
       "    <tr>\n",
       "      <th>9</th>\n",
       "      <td>greedy w fitness</td>\n",
       "      <td>2</td>\n",
       "      <td>-0.497745</td>\n",
       "      <td>0.497745</td>\n",
       "      <td>0.402627</td>\n",
       "      <td>[873, 1125]</td>\n",
       "    </tr>\n",
       "    <tr>\n",
       "      <th>10</th>\n",
       "      <td>greedy w fitness</td>\n",
       "      <td>3</td>\n",
       "      <td>-0.604537</td>\n",
       "      <td>0.604537</td>\n",
       "      <td>0.400452</td>\n",
       "      <td>[873, 1125, 499]</td>\n",
       "    </tr>\n",
       "    <tr>\n",
       "      <th>11</th>\n",
       "      <td>greedy w fitness</td>\n",
       "      <td>4</td>\n",
       "      <td>-0.681280</td>\n",
       "      <td>0.681280</td>\n",
       "      <td>0.400452</td>\n",
       "      <td>[873, 1125, 499, 1329]</td>\n",
       "    </tr>\n",
       "    <tr>\n",
       "      <th>12</th>\n",
       "      <td>greedy w fitness</td>\n",
       "      <td>5</td>\n",
       "      <td>-0.740607</td>\n",
       "      <td>0.740607</td>\n",
       "      <td>0.400452</td>\n",
       "      <td>[873, 1125, 499, 1329, 631]</td>\n",
       "    </tr>\n",
       "    <tr>\n",
       "      <th>13</th>\n",
       "      <td>greedy w fitness</td>\n",
       "      <td>6</td>\n",
       "      <td>-0.782631</td>\n",
       "      <td>0.782631</td>\n",
       "      <td>0.401085</td>\n",
       "      <td>[873, 1125, 499, 1329, 631, 288]</td>\n",
       "    </tr>\n",
       "    <tr>\n",
       "      <th>14</th>\n",
       "      <td>greedy w fitness</td>\n",
       "      <td>7</td>\n",
       "      <td>-0.813096</td>\n",
       "      <td>0.813096</td>\n",
       "      <td>0.402627</td>\n",
       "      <td>[873, 1125, 499, 1329, 631, 288, 508]</td>\n",
       "    </tr>\n",
       "    <tr>\n",
       "      <th>15</th>\n",
       "      <td>greedy w fitness</td>\n",
       "      <td>8</td>\n",
       "      <td>-0.855171</td>\n",
       "      <td>0.855171</td>\n",
       "      <td>0.402627</td>\n",
       "      <td>[873, 1125, 499, 1329, 631, 288, 508, 415]</td>\n",
       "    </tr>\n",
       "    <tr>\n",
       "      <th>16</th>\n",
       "      <td>greedy w fitness</td>\n",
       "      <td>9</td>\n",
       "      <td>-0.895153</td>\n",
       "      <td>0.895153</td>\n",
       "      <td>0.402627</td>\n",
       "      <td>[873, 1125, 499, 1329, 631, 288, 508, 415, 328]</td>\n",
       "    </tr>\n",
       "    <tr>\n",
       "      <th>17</th>\n",
       "      <td>greedy w fitness</td>\n",
       "      <td>10</td>\n",
       "      <td>-0.920285</td>\n",
       "      <td>0.920285</td>\n",
       "      <td>0.402627</td>\n",
       "      <td>[873, 1125, 499, 1329, 631, 288, 508, 415, 328...</td>\n",
       "    </tr>\n",
       "  </tbody>\n",
       "</table>\n",
       "</div>"
      ],
      "text/plain": [
       "                experiment  count   fitness  coverage   overlap  \\\n",
       "0   evolutionary algorithm     10 -0.927297  0.927297  0.432545   \n",
       "1   evolutionary algorithm      2 -0.497745  0.497745  0.402627   \n",
       "2   evolutionary algorithm      3 -0.604537  0.604537  0.400452   \n",
       "3   evolutionary algorithm      4 -0.714730  0.714730  0.402461   \n",
       "4   evolutionary algorithm      5 -0.753374  0.753374  0.406222   \n",
       "5   evolutionary algorithm      6 -0.812696  0.812696  0.446487   \n",
       "6   evolutionary algorithm      7 -0.844775  0.844775  0.400953   \n",
       "7   evolutionary algorithm      8 -0.871584  0.871584  0.414438   \n",
       "8   evolutionary algorithm      9 -0.892909  0.892909  0.408694   \n",
       "9         greedy w fitness      2 -0.497745  0.497745  0.402627   \n",
       "10        greedy w fitness      3 -0.604537  0.604537  0.400452   \n",
       "11        greedy w fitness      4 -0.681280  0.681280  0.400452   \n",
       "12        greedy w fitness      5 -0.740607  0.740607  0.400452   \n",
       "13        greedy w fitness      6 -0.782631  0.782631  0.401085   \n",
       "14        greedy w fitness      7 -0.813096  0.813096  0.402627   \n",
       "15        greedy w fitness      8 -0.855171  0.855171  0.402627   \n",
       "16        greedy w fitness      9 -0.895153  0.895153  0.402627   \n",
       "17        greedy w fitness     10 -0.920285  0.920285  0.402627   \n",
       "\n",
       "                                               idlist  \n",
       "0   [328, 790, 1238, 152, 481, 664, 19, 1301, 1129...  \n",
       "1                                         [873, 1125]  \n",
       "2                                    [873, 1125, 499]  \n",
       "3                              [1325, 516, 1134, 651]  \n",
       "4                         [516, 262, 1299, 651, 1127]  \n",
       "5                    [499, 1272, 188, 1413, 746, 302]  \n",
       "6               [650, 967, 1433, 302, 1353, 343, 430]  \n",
       "7          [990, 1215, 362, 326, 1300, 365, 170, 663]  \n",
       "8     [681, 381, 277, 512, 1302, 188, 709, 126, 1379]  \n",
       "9                                         [873, 1125]  \n",
       "10                                   [873, 1125, 499]  \n",
       "11                             [873, 1125, 499, 1329]  \n",
       "12                        [873, 1125, 499, 1329, 631]  \n",
       "13                   [873, 1125, 499, 1329, 631, 288]  \n",
       "14              [873, 1125, 499, 1329, 631, 288, 508]  \n",
       "15         [873, 1125, 499, 1329, 631, 288, 508, 415]  \n",
       "16    [873, 1125, 499, 1329, 631, 288, 508, 415, 328]  \n",
       "17  [873, 1125, 499, 1329, 631, 288, 508, 415, 328...  "
      ]
     },
     "execution_count": 31,
     "metadata": {},
     "output_type": "execute_result"
    }
   ],
   "source": [
    "f"
   ]
  },
  {
   "cell_type": "code",
   "execution_count": 27,
   "id": "04ea26fc",
   "metadata": {},
   "outputs": [],
   "source": [
    "for index, row in f.iterrows():\n",
    "    if row['experiment'].startswith('set_EA'):\n",
    "        f.loc[index,'experiment']='evolutionary algorithm'\n",
    "    elif row['experiment'].startswith('set_greedy'):\n",
    "        f.loc[index,'experiment']='greedy w fitness'"
   ]
  },
  {
   "cell_type": "code",
   "execution_count": 30,
   "id": "745e0b03",
   "metadata": {},
   "outputs": [],
   "source": [
    "import pickle\n",
    "with open('comparison_frame.pkl', 'wb') as jar:\n",
    "    pickle.dump(f, jar)"
   ]
  },
  {
   "cell_type": "code",
   "execution_count": 32,
   "id": "21f19b4c",
   "metadata": {
    "pycharm": {
     "name": "#%%\n"
    }
   },
   "outputs": [
    {
     "data": {
      "application/vnd.plotly.v1+json": {
       "config": {
        "plotlyServerURL": "https://plot.ly"
       },
       "data": [
        {
         "dimensions": [
          {
           "axis": {
            "matches": true
           },
           "label": "count",
           "values": [
            10,
            2,
            3,
            4,
            5,
            6,
            7,
            8,
            9
           ]
          },
          {
           "axis": {
            "matches": true
           },
           "label": "overlap",
           "values": [
            0.43254472048294906,
            0.4026269461977487,
            0.4004516620879482,
            0.402460614185948,
            0.40622249187655946,
            0.44648728423160833,
            0.40095284857646957,
            0.41443818693210543,
            0.40869415822025906
           ]
          },
          {
           "axis": {
            "matches": true
           },
           "label": "coverage",
           "values": [
            0.9272971291887995,
            0.497745348210404,
            0.6045366296210909,
            0.7147300550660254,
            0.7533743947747059,
            0.8126962634209193,
            0.8447745158380201,
            0.8715843502732249,
            0.8929087808666054
           ]
          }
         ],
         "hovertemplate": "experiment=evolutionary algorithm<br>%{xaxis.title.text}=%{x}<br>%{yaxis.title.text}=%{y}<extra></extra>",
         "legendgroup": "evolutionary algorithm",
         "marker": {
          "color": "#636efa",
          "opacity": 0.75,
          "size": 7.5,
          "symbol": "x"
         },
         "name": "evolutionary algorithm",
         "showlegend": true,
         "type": "splom"
        },
        {
         "dimensions": [
          {
           "axis": {
            "matches": true
           },
           "label": "count",
           "values": [
            2,
            3,
            4,
            5,
            6,
            7,
            8,
            9,
            10
           ]
          },
          {
           "axis": {
            "matches": true
           },
           "label": "overlap",
           "values": [
            0.4026269461977487,
            0.4004516620879482,
            0.4004516620879482,
            0.4004516620879482,
            0.4010851354735194,
            0.4026269461977487,
            0.4026269461977487,
            0.4026269461977487,
            0.4026269461977487
           ]
          },
          {
           "axis": {
            "matches": true
           },
           "label": "coverage",
           "values": [
            0.497745348210404,
            0.6045366296210909,
            0.6812797813616901,
            0.7406068533782864,
            0.78263096464779,
            0.813095936590269,
            0.855171382007022,
            0.8951526383608611,
            0.9202854683150715
           ]
          }
         ],
         "hovertemplate": "experiment=greedy w fitness<br>%{xaxis.title.text}=%{x}<br>%{yaxis.title.text}=%{y}<extra></extra>",
         "legendgroup": "greedy w fitness",
         "marker": {
          "color": "#EF553B",
          "opacity": 0.75,
          "size": 7.5,
          "symbol": "x"
         },
         "name": "greedy w fitness",
         "showlegend": true,
         "type": "splom"
        }
       ],
       "layout": {
        "dragmode": "select",
        "legend": {
         "title": {
          "text": "experiment"
         },
         "tracegroupgap": 0
        },
        "margin": {
         "t": 60
        },
        "template": {
         "data": {
          "bar": [
           {
            "error_x": {
             "color": "#2a3f5f"
            },
            "error_y": {
             "color": "#2a3f5f"
            },
            "marker": {
             "line": {
              "color": "#E5ECF6",
              "width": 0.5
             },
             "pattern": {
              "fillmode": "overlay",
              "size": 10,
              "solidity": 0.2
             }
            },
            "type": "bar"
           }
          ],
          "barpolar": [
           {
            "marker": {
             "line": {
              "color": "#E5ECF6",
              "width": 0.5
             },
             "pattern": {
              "fillmode": "overlay",
              "size": 10,
              "solidity": 0.2
             }
            },
            "type": "barpolar"
           }
          ],
          "carpet": [
           {
            "aaxis": {
             "endlinecolor": "#2a3f5f",
             "gridcolor": "white",
             "linecolor": "white",
             "minorgridcolor": "white",
             "startlinecolor": "#2a3f5f"
            },
            "baxis": {
             "endlinecolor": "#2a3f5f",
             "gridcolor": "white",
             "linecolor": "white",
             "minorgridcolor": "white",
             "startlinecolor": "#2a3f5f"
            },
            "type": "carpet"
           }
          ],
          "choropleth": [
           {
            "colorbar": {
             "outlinewidth": 0,
             "ticks": ""
            },
            "type": "choropleth"
           }
          ],
          "contour": [
           {
            "colorbar": {
             "outlinewidth": 0,
             "ticks": ""
            },
            "colorscale": [
             [
              0,
              "#0d0887"
             ],
             [
              0.1111111111111111,
              "#46039f"
             ],
             [
              0.2222222222222222,
              "#7201a8"
             ],
             [
              0.3333333333333333,
              "#9c179e"
             ],
             [
              0.4444444444444444,
              "#bd3786"
             ],
             [
              0.5555555555555556,
              "#d8576b"
             ],
             [
              0.6666666666666666,
              "#ed7953"
             ],
             [
              0.7777777777777778,
              "#fb9f3a"
             ],
             [
              0.8888888888888888,
              "#fdca26"
             ],
             [
              1,
              "#f0f921"
             ]
            ],
            "type": "contour"
           }
          ],
          "contourcarpet": [
           {
            "colorbar": {
             "outlinewidth": 0,
             "ticks": ""
            },
            "type": "contourcarpet"
           }
          ],
          "heatmap": [
           {
            "colorbar": {
             "outlinewidth": 0,
             "ticks": ""
            },
            "colorscale": [
             [
              0,
              "#0d0887"
             ],
             [
              0.1111111111111111,
              "#46039f"
             ],
             [
              0.2222222222222222,
              "#7201a8"
             ],
             [
              0.3333333333333333,
              "#9c179e"
             ],
             [
              0.4444444444444444,
              "#bd3786"
             ],
             [
              0.5555555555555556,
              "#d8576b"
             ],
             [
              0.6666666666666666,
              "#ed7953"
             ],
             [
              0.7777777777777778,
              "#fb9f3a"
             ],
             [
              0.8888888888888888,
              "#fdca26"
             ],
             [
              1,
              "#f0f921"
             ]
            ],
            "type": "heatmap"
           }
          ],
          "heatmapgl": [
           {
            "colorbar": {
             "outlinewidth": 0,
             "ticks": ""
            },
            "colorscale": [
             [
              0,
              "#0d0887"
             ],
             [
              0.1111111111111111,
              "#46039f"
             ],
             [
              0.2222222222222222,
              "#7201a8"
             ],
             [
              0.3333333333333333,
              "#9c179e"
             ],
             [
              0.4444444444444444,
              "#bd3786"
             ],
             [
              0.5555555555555556,
              "#d8576b"
             ],
             [
              0.6666666666666666,
              "#ed7953"
             ],
             [
              0.7777777777777778,
              "#fb9f3a"
             ],
             [
              0.8888888888888888,
              "#fdca26"
             ],
             [
              1,
              "#f0f921"
             ]
            ],
            "type": "heatmapgl"
           }
          ],
          "histogram": [
           {
            "marker": {
             "pattern": {
              "fillmode": "overlay",
              "size": 10,
              "solidity": 0.2
             }
            },
            "type": "histogram"
           }
          ],
          "histogram2d": [
           {
            "colorbar": {
             "outlinewidth": 0,
             "ticks": ""
            },
            "colorscale": [
             [
              0,
              "#0d0887"
             ],
             [
              0.1111111111111111,
              "#46039f"
             ],
             [
              0.2222222222222222,
              "#7201a8"
             ],
             [
              0.3333333333333333,
              "#9c179e"
             ],
             [
              0.4444444444444444,
              "#bd3786"
             ],
             [
              0.5555555555555556,
              "#d8576b"
             ],
             [
              0.6666666666666666,
              "#ed7953"
             ],
             [
              0.7777777777777778,
              "#fb9f3a"
             ],
             [
              0.8888888888888888,
              "#fdca26"
             ],
             [
              1,
              "#f0f921"
             ]
            ],
            "type": "histogram2d"
           }
          ],
          "histogram2dcontour": [
           {
            "colorbar": {
             "outlinewidth": 0,
             "ticks": ""
            },
            "colorscale": [
             [
              0,
              "#0d0887"
             ],
             [
              0.1111111111111111,
              "#46039f"
             ],
             [
              0.2222222222222222,
              "#7201a8"
             ],
             [
              0.3333333333333333,
              "#9c179e"
             ],
             [
              0.4444444444444444,
              "#bd3786"
             ],
             [
              0.5555555555555556,
              "#d8576b"
             ],
             [
              0.6666666666666666,
              "#ed7953"
             ],
             [
              0.7777777777777778,
              "#fb9f3a"
             ],
             [
              0.8888888888888888,
              "#fdca26"
             ],
             [
              1,
              "#f0f921"
             ]
            ],
            "type": "histogram2dcontour"
           }
          ],
          "mesh3d": [
           {
            "colorbar": {
             "outlinewidth": 0,
             "ticks": ""
            },
            "type": "mesh3d"
           }
          ],
          "parcoords": [
           {
            "line": {
             "colorbar": {
              "outlinewidth": 0,
              "ticks": ""
             }
            },
            "type": "parcoords"
           }
          ],
          "pie": [
           {
            "automargin": true,
            "type": "pie"
           }
          ],
          "scatter": [
           {
            "fillpattern": {
             "fillmode": "overlay",
             "size": 10,
             "solidity": 0.2
            },
            "type": "scatter"
           }
          ],
          "scatter3d": [
           {
            "line": {
             "colorbar": {
              "outlinewidth": 0,
              "ticks": ""
             }
            },
            "marker": {
             "colorbar": {
              "outlinewidth": 0,
              "ticks": ""
             }
            },
            "type": "scatter3d"
           }
          ],
          "scattercarpet": [
           {
            "marker": {
             "colorbar": {
              "outlinewidth": 0,
              "ticks": ""
             }
            },
            "type": "scattercarpet"
           }
          ],
          "scattergeo": [
           {
            "marker": {
             "colorbar": {
              "outlinewidth": 0,
              "ticks": ""
             }
            },
            "type": "scattergeo"
           }
          ],
          "scattergl": [
           {
            "marker": {
             "colorbar": {
              "outlinewidth": 0,
              "ticks": ""
             }
            },
            "type": "scattergl"
           }
          ],
          "scattermapbox": [
           {
            "marker": {
             "colorbar": {
              "outlinewidth": 0,
              "ticks": ""
             }
            },
            "type": "scattermapbox"
           }
          ],
          "scatterpolar": [
           {
            "marker": {
             "colorbar": {
              "outlinewidth": 0,
              "ticks": ""
             }
            },
            "type": "scatterpolar"
           }
          ],
          "scatterpolargl": [
           {
            "marker": {
             "colorbar": {
              "outlinewidth": 0,
              "ticks": ""
             }
            },
            "type": "scatterpolargl"
           }
          ],
          "scatterternary": [
           {
            "marker": {
             "colorbar": {
              "outlinewidth": 0,
              "ticks": ""
             }
            },
            "type": "scatterternary"
           }
          ],
          "surface": [
           {
            "colorbar": {
             "outlinewidth": 0,
             "ticks": ""
            },
            "colorscale": [
             [
              0,
              "#0d0887"
             ],
             [
              0.1111111111111111,
              "#46039f"
             ],
             [
              0.2222222222222222,
              "#7201a8"
             ],
             [
              0.3333333333333333,
              "#9c179e"
             ],
             [
              0.4444444444444444,
              "#bd3786"
             ],
             [
              0.5555555555555556,
              "#d8576b"
             ],
             [
              0.6666666666666666,
              "#ed7953"
             ],
             [
              0.7777777777777778,
              "#fb9f3a"
             ],
             [
              0.8888888888888888,
              "#fdca26"
             ],
             [
              1,
              "#f0f921"
             ]
            ],
            "type": "surface"
           }
          ],
          "table": [
           {
            "cells": {
             "fill": {
              "color": "#EBF0F8"
             },
             "line": {
              "color": "white"
             }
            },
            "header": {
             "fill": {
              "color": "#C8D4E3"
             },
             "line": {
              "color": "white"
             }
            },
            "type": "table"
           }
          ]
         },
         "layout": {
          "annotationdefaults": {
           "arrowcolor": "#2a3f5f",
           "arrowhead": 0,
           "arrowwidth": 1
          },
          "autotypenumbers": "strict",
          "coloraxis": {
           "colorbar": {
            "outlinewidth": 0,
            "ticks": ""
           }
          },
          "colorscale": {
           "diverging": [
            [
             0,
             "#8e0152"
            ],
            [
             0.1,
             "#c51b7d"
            ],
            [
             0.2,
             "#de77ae"
            ],
            [
             0.3,
             "#f1b6da"
            ],
            [
             0.4,
             "#fde0ef"
            ],
            [
             0.5,
             "#f7f7f7"
            ],
            [
             0.6,
             "#e6f5d0"
            ],
            [
             0.7,
             "#b8e186"
            ],
            [
             0.8,
             "#7fbc41"
            ],
            [
             0.9,
             "#4d9221"
            ],
            [
             1,
             "#276419"
            ]
           ],
           "sequential": [
            [
             0,
             "#0d0887"
            ],
            [
             0.1111111111111111,
             "#46039f"
            ],
            [
             0.2222222222222222,
             "#7201a8"
            ],
            [
             0.3333333333333333,
             "#9c179e"
            ],
            [
             0.4444444444444444,
             "#bd3786"
            ],
            [
             0.5555555555555556,
             "#d8576b"
            ],
            [
             0.6666666666666666,
             "#ed7953"
            ],
            [
             0.7777777777777778,
             "#fb9f3a"
            ],
            [
             0.8888888888888888,
             "#fdca26"
            ],
            [
             1,
             "#f0f921"
            ]
           ],
           "sequentialminus": [
            [
             0,
             "#0d0887"
            ],
            [
             0.1111111111111111,
             "#46039f"
            ],
            [
             0.2222222222222222,
             "#7201a8"
            ],
            [
             0.3333333333333333,
             "#9c179e"
            ],
            [
             0.4444444444444444,
             "#bd3786"
            ],
            [
             0.5555555555555556,
             "#d8576b"
            ],
            [
             0.6666666666666666,
             "#ed7953"
            ],
            [
             0.7777777777777778,
             "#fb9f3a"
            ],
            [
             0.8888888888888888,
             "#fdca26"
            ],
            [
             1,
             "#f0f921"
            ]
           ]
          },
          "colorway": [
           "#636efa",
           "#EF553B",
           "#00cc96",
           "#ab63fa",
           "#FFA15A",
           "#19d3f3",
           "#FF6692",
           "#B6E880",
           "#FF97FF",
           "#FECB52"
          ],
          "font": {
           "color": "#2a3f5f"
          },
          "geo": {
           "bgcolor": "white",
           "lakecolor": "white",
           "landcolor": "#E5ECF6",
           "showlakes": true,
           "showland": true,
           "subunitcolor": "white"
          },
          "hoverlabel": {
           "align": "left"
          },
          "hovermode": "closest",
          "mapbox": {
           "style": "light"
          },
          "paper_bgcolor": "white",
          "plot_bgcolor": "#E5ECF6",
          "polar": {
           "angularaxis": {
            "gridcolor": "white",
            "linecolor": "white",
            "ticks": ""
           },
           "bgcolor": "#E5ECF6",
           "radialaxis": {
            "gridcolor": "white",
            "linecolor": "white",
            "ticks": ""
           }
          },
          "scene": {
           "xaxis": {
            "backgroundcolor": "#E5ECF6",
            "gridcolor": "white",
            "gridwidth": 2,
            "linecolor": "white",
            "showbackground": true,
            "ticks": "",
            "zerolinecolor": "white"
           },
           "yaxis": {
            "backgroundcolor": "#E5ECF6",
            "gridcolor": "white",
            "gridwidth": 2,
            "linecolor": "white",
            "showbackground": true,
            "ticks": "",
            "zerolinecolor": "white"
           },
           "zaxis": {
            "backgroundcolor": "#E5ECF6",
            "gridcolor": "white",
            "gridwidth": 2,
            "linecolor": "white",
            "showbackground": true,
            "ticks": "",
            "zerolinecolor": "white"
           }
          },
          "shapedefaults": {
           "line": {
            "color": "#2a3f5f"
           }
          },
          "ternary": {
           "aaxis": {
            "gridcolor": "white",
            "linecolor": "white",
            "ticks": ""
           },
           "baxis": {
            "gridcolor": "white",
            "linecolor": "white",
            "ticks": ""
           },
           "bgcolor": "#E5ECF6",
           "caxis": {
            "gridcolor": "white",
            "linecolor": "white",
            "ticks": ""
           }
          },
          "title": {
           "x": 0.05
          },
          "xaxis": {
           "automargin": true,
           "gridcolor": "white",
           "linecolor": "white",
           "ticks": "",
           "title": {
            "standoff": 15
           },
           "zerolinecolor": "white",
           "zerolinewidth": 2
          },
          "yaxis": {
           "automargin": true,
           "gridcolor": "white",
           "linecolor": "white",
           "ticks": "",
           "title": {
            "standoff": 15
           },
           "zerolinecolor": "white",
           "zerolinewidth": 2
          }
         }
        }
       }
      },
      "text/html": [
       "<div>                            <div id=\"b1652577-e594-4392-976a-59fe9f624069\" class=\"plotly-graph-div\" style=\"height:525px; width:100%;\"></div>            <script type=\"text/javascript\">                require([\"plotly\"], function(Plotly) {                    window.PLOTLYENV=window.PLOTLYENV || {};                                    if (document.getElementById(\"b1652577-e594-4392-976a-59fe9f624069\")) {                    Plotly.newPlot(                        \"b1652577-e594-4392-976a-59fe9f624069\",                        [{\"dimensions\":[{\"axis\":{\"matches\":true},\"label\":\"count\",\"values\":[10,2,3,4,5,6,7,8,9]},{\"axis\":{\"matches\":true},\"label\":\"overlap\",\"values\":[0.43254472048294906,0.4026269461977487,0.4004516620879482,0.402460614185948,0.40622249187655946,0.44648728423160833,0.40095284857646957,0.41443818693210543,0.40869415822025906]},{\"axis\":{\"matches\":true},\"label\":\"coverage\",\"values\":[0.9272971291887995,0.497745348210404,0.6045366296210909,0.7147300550660254,0.7533743947747059,0.8126962634209193,0.8447745158380201,0.8715843502732249,0.8929087808666054]}],\"hovertemplate\":\"experiment=evolutionary algorithm<br>%{xaxis.title.text}=%{x}<br>%{yaxis.title.text}=%{y}<extra></extra>\",\"legendgroup\":\"evolutionary algorithm\",\"marker\":{\"color\":\"#636efa\",\"symbol\":\"x\",\"opacity\":0.75,\"size\":7.5},\"name\":\"evolutionary algorithm\",\"showlegend\":true,\"type\":\"splom\"},{\"dimensions\":[{\"axis\":{\"matches\":true},\"label\":\"count\",\"values\":[2,3,4,5,6,7,8,9,10]},{\"axis\":{\"matches\":true},\"label\":\"overlap\",\"values\":[0.4026269461977487,0.4004516620879482,0.4004516620879482,0.4004516620879482,0.4010851354735194,0.4026269461977487,0.4026269461977487,0.4026269461977487,0.4026269461977487]},{\"axis\":{\"matches\":true},\"label\":\"coverage\",\"values\":[0.497745348210404,0.6045366296210909,0.6812797813616901,0.7406068533782864,0.78263096464779,0.813095936590269,0.855171382007022,0.8951526383608611,0.9202854683150715]}],\"hovertemplate\":\"experiment=greedy w fitness<br>%{xaxis.title.text}=%{x}<br>%{yaxis.title.text}=%{y}<extra></extra>\",\"legendgroup\":\"greedy w fitness\",\"marker\":{\"color\":\"#EF553B\",\"symbol\":\"x\",\"opacity\":0.75,\"size\":7.5},\"name\":\"greedy w fitness\",\"showlegend\":true,\"type\":\"splom\"}],                        {\"template\":{\"data\":{\"histogram2dcontour\":[{\"type\":\"histogram2dcontour\",\"colorbar\":{\"outlinewidth\":0,\"ticks\":\"\"},\"colorscale\":[[0.0,\"#0d0887\"],[0.1111111111111111,\"#46039f\"],[0.2222222222222222,\"#7201a8\"],[0.3333333333333333,\"#9c179e\"],[0.4444444444444444,\"#bd3786\"],[0.5555555555555556,\"#d8576b\"],[0.6666666666666666,\"#ed7953\"],[0.7777777777777778,\"#fb9f3a\"],[0.8888888888888888,\"#fdca26\"],[1.0,\"#f0f921\"]]}],\"choropleth\":[{\"type\":\"choropleth\",\"colorbar\":{\"outlinewidth\":0,\"ticks\":\"\"}}],\"histogram2d\":[{\"type\":\"histogram2d\",\"colorbar\":{\"outlinewidth\":0,\"ticks\":\"\"},\"colorscale\":[[0.0,\"#0d0887\"],[0.1111111111111111,\"#46039f\"],[0.2222222222222222,\"#7201a8\"],[0.3333333333333333,\"#9c179e\"],[0.4444444444444444,\"#bd3786\"],[0.5555555555555556,\"#d8576b\"],[0.6666666666666666,\"#ed7953\"],[0.7777777777777778,\"#fb9f3a\"],[0.8888888888888888,\"#fdca26\"],[1.0,\"#f0f921\"]]}],\"heatmap\":[{\"type\":\"heatmap\",\"colorbar\":{\"outlinewidth\":0,\"ticks\":\"\"},\"colorscale\":[[0.0,\"#0d0887\"],[0.1111111111111111,\"#46039f\"],[0.2222222222222222,\"#7201a8\"],[0.3333333333333333,\"#9c179e\"],[0.4444444444444444,\"#bd3786\"],[0.5555555555555556,\"#d8576b\"],[0.6666666666666666,\"#ed7953\"],[0.7777777777777778,\"#fb9f3a\"],[0.8888888888888888,\"#fdca26\"],[1.0,\"#f0f921\"]]}],\"heatmapgl\":[{\"type\":\"heatmapgl\",\"colorbar\":{\"outlinewidth\":0,\"ticks\":\"\"},\"colorscale\":[[0.0,\"#0d0887\"],[0.1111111111111111,\"#46039f\"],[0.2222222222222222,\"#7201a8\"],[0.3333333333333333,\"#9c179e\"],[0.4444444444444444,\"#bd3786\"],[0.5555555555555556,\"#d8576b\"],[0.6666666666666666,\"#ed7953\"],[0.7777777777777778,\"#fb9f3a\"],[0.8888888888888888,\"#fdca26\"],[1.0,\"#f0f921\"]]}],\"contourcarpet\":[{\"type\":\"contourcarpet\",\"colorbar\":{\"outlinewidth\":0,\"ticks\":\"\"}}],\"contour\":[{\"type\":\"contour\",\"colorbar\":{\"outlinewidth\":0,\"ticks\":\"\"},\"colorscale\":[[0.0,\"#0d0887\"],[0.1111111111111111,\"#46039f\"],[0.2222222222222222,\"#7201a8\"],[0.3333333333333333,\"#9c179e\"],[0.4444444444444444,\"#bd3786\"],[0.5555555555555556,\"#d8576b\"],[0.6666666666666666,\"#ed7953\"],[0.7777777777777778,\"#fb9f3a\"],[0.8888888888888888,\"#fdca26\"],[1.0,\"#f0f921\"]]}],\"surface\":[{\"type\":\"surface\",\"colorbar\":{\"outlinewidth\":0,\"ticks\":\"\"},\"colorscale\":[[0.0,\"#0d0887\"],[0.1111111111111111,\"#46039f\"],[0.2222222222222222,\"#7201a8\"],[0.3333333333333333,\"#9c179e\"],[0.4444444444444444,\"#bd3786\"],[0.5555555555555556,\"#d8576b\"],[0.6666666666666666,\"#ed7953\"],[0.7777777777777778,\"#fb9f3a\"],[0.8888888888888888,\"#fdca26\"],[1.0,\"#f0f921\"]]}],\"mesh3d\":[{\"type\":\"mesh3d\",\"colorbar\":{\"outlinewidth\":0,\"ticks\":\"\"}}],\"scatter\":[{\"fillpattern\":{\"fillmode\":\"overlay\",\"size\":10,\"solidity\":0.2},\"type\":\"scatter\"}],\"parcoords\":[{\"type\":\"parcoords\",\"line\":{\"colorbar\":{\"outlinewidth\":0,\"ticks\":\"\"}}}],\"scatterpolargl\":[{\"type\":\"scatterpolargl\",\"marker\":{\"colorbar\":{\"outlinewidth\":0,\"ticks\":\"\"}}}],\"bar\":[{\"error_x\":{\"color\":\"#2a3f5f\"},\"error_y\":{\"color\":\"#2a3f5f\"},\"marker\":{\"line\":{\"color\":\"#E5ECF6\",\"width\":0.5},\"pattern\":{\"fillmode\":\"overlay\",\"size\":10,\"solidity\":0.2}},\"type\":\"bar\"}],\"scattergeo\":[{\"type\":\"scattergeo\",\"marker\":{\"colorbar\":{\"outlinewidth\":0,\"ticks\":\"\"}}}],\"scatterpolar\":[{\"type\":\"scatterpolar\",\"marker\":{\"colorbar\":{\"outlinewidth\":0,\"ticks\":\"\"}}}],\"histogram\":[{\"marker\":{\"pattern\":{\"fillmode\":\"overlay\",\"size\":10,\"solidity\":0.2}},\"type\":\"histogram\"}],\"scattergl\":[{\"type\":\"scattergl\",\"marker\":{\"colorbar\":{\"outlinewidth\":0,\"ticks\":\"\"}}}],\"scatter3d\":[{\"type\":\"scatter3d\",\"line\":{\"colorbar\":{\"outlinewidth\":0,\"ticks\":\"\"}},\"marker\":{\"colorbar\":{\"outlinewidth\":0,\"ticks\":\"\"}}}],\"scattermapbox\":[{\"type\":\"scattermapbox\",\"marker\":{\"colorbar\":{\"outlinewidth\":0,\"ticks\":\"\"}}}],\"scatterternary\":[{\"type\":\"scatterternary\",\"marker\":{\"colorbar\":{\"outlinewidth\":0,\"ticks\":\"\"}}}],\"scattercarpet\":[{\"type\":\"scattercarpet\",\"marker\":{\"colorbar\":{\"outlinewidth\":0,\"ticks\":\"\"}}}],\"carpet\":[{\"aaxis\":{\"endlinecolor\":\"#2a3f5f\",\"gridcolor\":\"white\",\"linecolor\":\"white\",\"minorgridcolor\":\"white\",\"startlinecolor\":\"#2a3f5f\"},\"baxis\":{\"endlinecolor\":\"#2a3f5f\",\"gridcolor\":\"white\",\"linecolor\":\"white\",\"minorgridcolor\":\"white\",\"startlinecolor\":\"#2a3f5f\"},\"type\":\"carpet\"}],\"table\":[{\"cells\":{\"fill\":{\"color\":\"#EBF0F8\"},\"line\":{\"color\":\"white\"}},\"header\":{\"fill\":{\"color\":\"#C8D4E3\"},\"line\":{\"color\":\"white\"}},\"type\":\"table\"}],\"barpolar\":[{\"marker\":{\"line\":{\"color\":\"#E5ECF6\",\"width\":0.5},\"pattern\":{\"fillmode\":\"overlay\",\"size\":10,\"solidity\":0.2}},\"type\":\"barpolar\"}],\"pie\":[{\"automargin\":true,\"type\":\"pie\"}]},\"layout\":{\"autotypenumbers\":\"strict\",\"colorway\":[\"#636efa\",\"#EF553B\",\"#00cc96\",\"#ab63fa\",\"#FFA15A\",\"#19d3f3\",\"#FF6692\",\"#B6E880\",\"#FF97FF\",\"#FECB52\"],\"font\":{\"color\":\"#2a3f5f\"},\"hovermode\":\"closest\",\"hoverlabel\":{\"align\":\"left\"},\"paper_bgcolor\":\"white\",\"plot_bgcolor\":\"#E5ECF6\",\"polar\":{\"bgcolor\":\"#E5ECF6\",\"angularaxis\":{\"gridcolor\":\"white\",\"linecolor\":\"white\",\"ticks\":\"\"},\"radialaxis\":{\"gridcolor\":\"white\",\"linecolor\":\"white\",\"ticks\":\"\"}},\"ternary\":{\"bgcolor\":\"#E5ECF6\",\"aaxis\":{\"gridcolor\":\"white\",\"linecolor\":\"white\",\"ticks\":\"\"},\"baxis\":{\"gridcolor\":\"white\",\"linecolor\":\"white\",\"ticks\":\"\"},\"caxis\":{\"gridcolor\":\"white\",\"linecolor\":\"white\",\"ticks\":\"\"}},\"coloraxis\":{\"colorbar\":{\"outlinewidth\":0,\"ticks\":\"\"}},\"colorscale\":{\"sequential\":[[0.0,\"#0d0887\"],[0.1111111111111111,\"#46039f\"],[0.2222222222222222,\"#7201a8\"],[0.3333333333333333,\"#9c179e\"],[0.4444444444444444,\"#bd3786\"],[0.5555555555555556,\"#d8576b\"],[0.6666666666666666,\"#ed7953\"],[0.7777777777777778,\"#fb9f3a\"],[0.8888888888888888,\"#fdca26\"],[1.0,\"#f0f921\"]],\"sequentialminus\":[[0.0,\"#0d0887\"],[0.1111111111111111,\"#46039f\"],[0.2222222222222222,\"#7201a8\"],[0.3333333333333333,\"#9c179e\"],[0.4444444444444444,\"#bd3786\"],[0.5555555555555556,\"#d8576b\"],[0.6666666666666666,\"#ed7953\"],[0.7777777777777778,\"#fb9f3a\"],[0.8888888888888888,\"#fdca26\"],[1.0,\"#f0f921\"]],\"diverging\":[[0,\"#8e0152\"],[0.1,\"#c51b7d\"],[0.2,\"#de77ae\"],[0.3,\"#f1b6da\"],[0.4,\"#fde0ef\"],[0.5,\"#f7f7f7\"],[0.6,\"#e6f5d0\"],[0.7,\"#b8e186\"],[0.8,\"#7fbc41\"],[0.9,\"#4d9221\"],[1,\"#276419\"]]},\"xaxis\":{\"gridcolor\":\"white\",\"linecolor\":\"white\",\"ticks\":\"\",\"title\":{\"standoff\":15},\"zerolinecolor\":\"white\",\"automargin\":true,\"zerolinewidth\":2},\"yaxis\":{\"gridcolor\":\"white\",\"linecolor\":\"white\",\"ticks\":\"\",\"title\":{\"standoff\":15},\"zerolinecolor\":\"white\",\"automargin\":true,\"zerolinewidth\":2},\"scene\":{\"xaxis\":{\"backgroundcolor\":\"#E5ECF6\",\"gridcolor\":\"white\",\"linecolor\":\"white\",\"showbackground\":true,\"ticks\":\"\",\"zerolinecolor\":\"white\",\"gridwidth\":2},\"yaxis\":{\"backgroundcolor\":\"#E5ECF6\",\"gridcolor\":\"white\",\"linecolor\":\"white\",\"showbackground\":true,\"ticks\":\"\",\"zerolinecolor\":\"white\",\"gridwidth\":2},\"zaxis\":{\"backgroundcolor\":\"#E5ECF6\",\"gridcolor\":\"white\",\"linecolor\":\"white\",\"showbackground\":true,\"ticks\":\"\",\"zerolinecolor\":\"white\",\"gridwidth\":2}},\"shapedefaults\":{\"line\":{\"color\":\"#2a3f5f\"}},\"annotationdefaults\":{\"arrowcolor\":\"#2a3f5f\",\"arrowhead\":0,\"arrowwidth\":1},\"geo\":{\"bgcolor\":\"white\",\"landcolor\":\"#E5ECF6\",\"subunitcolor\":\"white\",\"showland\":true,\"showlakes\":true,\"lakecolor\":\"white\"},\"title\":{\"x\":0.05},\"mapbox\":{\"style\":\"light\"}}},\"legend\":{\"title\":{\"text\":\"experiment\"},\"tracegroupgap\":0},\"margin\":{\"t\":60},\"dragmode\":\"select\"},                        {\"responsive\": true}                    ).then(function(){\n",
       "                            \n",
       "var gd = document.getElementById('b1652577-e594-4392-976a-59fe9f624069');\n",
       "var x = new MutationObserver(function (mutations, observer) {{\n",
       "        var display = window.getComputedStyle(gd).display;\n",
       "        if (!display || display === 'none') {{\n",
       "            console.log([gd, 'removed!']);\n",
       "            Plotly.purge(gd);\n",
       "            observer.disconnect();\n",
       "        }}\n",
       "}});\n",
       "\n",
       "// Listen for the removal of the full notebook cells\n",
       "var notebookContainer = gd.closest('#notebook-container');\n",
       "if (notebookContainer) {{\n",
       "    x.observe(notebookContainer, {childList: true});\n",
       "}}\n",
       "\n",
       "// Listen for the clearing of the current output cell\n",
       "var outputEl = gd.closest('.output');\n",
       "if (outputEl) {{\n",
       "    x.observe(outputEl, {childList: true});\n",
       "}}\n",
       "\n",
       "                        })                };                });            </script>        </div>"
      ]
     },
     "metadata": {},
     "output_type": "display_data"
    }
   ],
   "source": [
    "fig = px.scatter_matrix(f,\n",
    "                        dimensions=[\"count\", \"overlap\", \"coverage\"],\n",
    "                        color=f[\"experiment\"]\n",
    "                        )\n",
    "\n",
    "fig.update_traces(marker=dict(size=7.5, opacity=0.75, symbol='x')) #colorscale='temps', color=f[\"source\"], opacity=0.75))\n",
    "fig.show()"
   ]
  },
  {
   "cell_type": "code",
   "execution_count": 33,
   "id": "2e6b42b2",
   "metadata": {},
   "outputs": [
    {
     "data": {
      "application/vnd.plotly.v1+json": {
       "config": {
        "plotlyServerURL": "https://plot.ly"
       },
       "data": [
        {
         "hovertemplate": "experiment=evolutionary algorithm<br>count=%{x}<br>fitness=%{y}<extra></extra>",
         "legendgroup": "evolutionary algorithm",
         "marker": {
          "color": "#636efa",
          "opacity": 0.75,
          "size": 10,
          "symbol": "x"
         },
         "mode": "markers",
         "name": "evolutionary algorithm",
         "orientation": "v",
         "showlegend": true,
         "type": "scatter",
         "x": [
          10,
          2,
          3,
          4,
          5,
          6,
          7,
          8,
          9
         ],
         "xaxis": "x",
         "y": [
          -0.9272971291887995,
          -0.497745348210404,
          -0.6045366296210909,
          -0.7147300550660254,
          -0.7533743947747059,
          -0.8126962634209193,
          -0.8447745158380201,
          -0.8715843502732249,
          -0.8929087808666054
         ],
         "yaxis": "y"
        },
        {
         "hovertemplate": "experiment=greedy w fitness<br>count=%{x}<br>fitness=%{y}<extra></extra>",
         "legendgroup": "greedy w fitness",
         "marker": {
          "color": "#EF553B",
          "opacity": 0.75,
          "size": 10,
          "symbol": "x"
         },
         "mode": "markers",
         "name": "greedy w fitness",
         "orientation": "v",
         "showlegend": true,
         "type": "scatter",
         "x": [
          2,
          3,
          4,
          5,
          6,
          7,
          8,
          9,
          10
         ],
         "xaxis": "x",
         "y": [
          -0.497745348210404,
          -0.6045366296210909,
          -0.6812797813616901,
          -0.7406068533782864,
          -0.78263096464779,
          -0.813095936590269,
          -0.855171382007022,
          -0.8951526383608611,
          -0.9202854683150715
         ],
         "yaxis": "y"
        }
       ],
       "layout": {
        "legend": {
         "title": {
          "text": "experiment"
         },
         "tracegroupgap": 0
        },
        "margin": {
         "t": 60
        },
        "template": {
         "data": {
          "bar": [
           {
            "error_x": {
             "color": "#2a3f5f"
            },
            "error_y": {
             "color": "#2a3f5f"
            },
            "marker": {
             "line": {
              "color": "#E5ECF6",
              "width": 0.5
             },
             "pattern": {
              "fillmode": "overlay",
              "size": 10,
              "solidity": 0.2
             }
            },
            "type": "bar"
           }
          ],
          "barpolar": [
           {
            "marker": {
             "line": {
              "color": "#E5ECF6",
              "width": 0.5
             },
             "pattern": {
              "fillmode": "overlay",
              "size": 10,
              "solidity": 0.2
             }
            },
            "type": "barpolar"
           }
          ],
          "carpet": [
           {
            "aaxis": {
             "endlinecolor": "#2a3f5f",
             "gridcolor": "white",
             "linecolor": "white",
             "minorgridcolor": "white",
             "startlinecolor": "#2a3f5f"
            },
            "baxis": {
             "endlinecolor": "#2a3f5f",
             "gridcolor": "white",
             "linecolor": "white",
             "minorgridcolor": "white",
             "startlinecolor": "#2a3f5f"
            },
            "type": "carpet"
           }
          ],
          "choropleth": [
           {
            "colorbar": {
             "outlinewidth": 0,
             "ticks": ""
            },
            "type": "choropleth"
           }
          ],
          "contour": [
           {
            "colorbar": {
             "outlinewidth": 0,
             "ticks": ""
            },
            "colorscale": [
             [
              0,
              "#0d0887"
             ],
             [
              0.1111111111111111,
              "#46039f"
             ],
             [
              0.2222222222222222,
              "#7201a8"
             ],
             [
              0.3333333333333333,
              "#9c179e"
             ],
             [
              0.4444444444444444,
              "#bd3786"
             ],
             [
              0.5555555555555556,
              "#d8576b"
             ],
             [
              0.6666666666666666,
              "#ed7953"
             ],
             [
              0.7777777777777778,
              "#fb9f3a"
             ],
             [
              0.8888888888888888,
              "#fdca26"
             ],
             [
              1,
              "#f0f921"
             ]
            ],
            "type": "contour"
           }
          ],
          "contourcarpet": [
           {
            "colorbar": {
             "outlinewidth": 0,
             "ticks": ""
            },
            "type": "contourcarpet"
           }
          ],
          "heatmap": [
           {
            "colorbar": {
             "outlinewidth": 0,
             "ticks": ""
            },
            "colorscale": [
             [
              0,
              "#0d0887"
             ],
             [
              0.1111111111111111,
              "#46039f"
             ],
             [
              0.2222222222222222,
              "#7201a8"
             ],
             [
              0.3333333333333333,
              "#9c179e"
             ],
             [
              0.4444444444444444,
              "#bd3786"
             ],
             [
              0.5555555555555556,
              "#d8576b"
             ],
             [
              0.6666666666666666,
              "#ed7953"
             ],
             [
              0.7777777777777778,
              "#fb9f3a"
             ],
             [
              0.8888888888888888,
              "#fdca26"
             ],
             [
              1,
              "#f0f921"
             ]
            ],
            "type": "heatmap"
           }
          ],
          "heatmapgl": [
           {
            "colorbar": {
             "outlinewidth": 0,
             "ticks": ""
            },
            "colorscale": [
             [
              0,
              "#0d0887"
             ],
             [
              0.1111111111111111,
              "#46039f"
             ],
             [
              0.2222222222222222,
              "#7201a8"
             ],
             [
              0.3333333333333333,
              "#9c179e"
             ],
             [
              0.4444444444444444,
              "#bd3786"
             ],
             [
              0.5555555555555556,
              "#d8576b"
             ],
             [
              0.6666666666666666,
              "#ed7953"
             ],
             [
              0.7777777777777778,
              "#fb9f3a"
             ],
             [
              0.8888888888888888,
              "#fdca26"
             ],
             [
              1,
              "#f0f921"
             ]
            ],
            "type": "heatmapgl"
           }
          ],
          "histogram": [
           {
            "marker": {
             "pattern": {
              "fillmode": "overlay",
              "size": 10,
              "solidity": 0.2
             }
            },
            "type": "histogram"
           }
          ],
          "histogram2d": [
           {
            "colorbar": {
             "outlinewidth": 0,
             "ticks": ""
            },
            "colorscale": [
             [
              0,
              "#0d0887"
             ],
             [
              0.1111111111111111,
              "#46039f"
             ],
             [
              0.2222222222222222,
              "#7201a8"
             ],
             [
              0.3333333333333333,
              "#9c179e"
             ],
             [
              0.4444444444444444,
              "#bd3786"
             ],
             [
              0.5555555555555556,
              "#d8576b"
             ],
             [
              0.6666666666666666,
              "#ed7953"
             ],
             [
              0.7777777777777778,
              "#fb9f3a"
             ],
             [
              0.8888888888888888,
              "#fdca26"
             ],
             [
              1,
              "#f0f921"
             ]
            ],
            "type": "histogram2d"
           }
          ],
          "histogram2dcontour": [
           {
            "colorbar": {
             "outlinewidth": 0,
             "ticks": ""
            },
            "colorscale": [
             [
              0,
              "#0d0887"
             ],
             [
              0.1111111111111111,
              "#46039f"
             ],
             [
              0.2222222222222222,
              "#7201a8"
             ],
             [
              0.3333333333333333,
              "#9c179e"
             ],
             [
              0.4444444444444444,
              "#bd3786"
             ],
             [
              0.5555555555555556,
              "#d8576b"
             ],
             [
              0.6666666666666666,
              "#ed7953"
             ],
             [
              0.7777777777777778,
              "#fb9f3a"
             ],
             [
              0.8888888888888888,
              "#fdca26"
             ],
             [
              1,
              "#f0f921"
             ]
            ],
            "type": "histogram2dcontour"
           }
          ],
          "mesh3d": [
           {
            "colorbar": {
             "outlinewidth": 0,
             "ticks": ""
            },
            "type": "mesh3d"
           }
          ],
          "parcoords": [
           {
            "line": {
             "colorbar": {
              "outlinewidth": 0,
              "ticks": ""
             }
            },
            "type": "parcoords"
           }
          ],
          "pie": [
           {
            "automargin": true,
            "type": "pie"
           }
          ],
          "scatter": [
           {
            "fillpattern": {
             "fillmode": "overlay",
             "size": 10,
             "solidity": 0.2
            },
            "type": "scatter"
           }
          ],
          "scatter3d": [
           {
            "line": {
             "colorbar": {
              "outlinewidth": 0,
              "ticks": ""
             }
            },
            "marker": {
             "colorbar": {
              "outlinewidth": 0,
              "ticks": ""
             }
            },
            "type": "scatter3d"
           }
          ],
          "scattercarpet": [
           {
            "marker": {
             "colorbar": {
              "outlinewidth": 0,
              "ticks": ""
             }
            },
            "type": "scattercarpet"
           }
          ],
          "scattergeo": [
           {
            "marker": {
             "colorbar": {
              "outlinewidth": 0,
              "ticks": ""
             }
            },
            "type": "scattergeo"
           }
          ],
          "scattergl": [
           {
            "marker": {
             "colorbar": {
              "outlinewidth": 0,
              "ticks": ""
             }
            },
            "type": "scattergl"
           }
          ],
          "scattermapbox": [
           {
            "marker": {
             "colorbar": {
              "outlinewidth": 0,
              "ticks": ""
             }
            },
            "type": "scattermapbox"
           }
          ],
          "scatterpolar": [
           {
            "marker": {
             "colorbar": {
              "outlinewidth": 0,
              "ticks": ""
             }
            },
            "type": "scatterpolar"
           }
          ],
          "scatterpolargl": [
           {
            "marker": {
             "colorbar": {
              "outlinewidth": 0,
              "ticks": ""
             }
            },
            "type": "scatterpolargl"
           }
          ],
          "scatterternary": [
           {
            "marker": {
             "colorbar": {
              "outlinewidth": 0,
              "ticks": ""
             }
            },
            "type": "scatterternary"
           }
          ],
          "surface": [
           {
            "colorbar": {
             "outlinewidth": 0,
             "ticks": ""
            },
            "colorscale": [
             [
              0,
              "#0d0887"
             ],
             [
              0.1111111111111111,
              "#46039f"
             ],
             [
              0.2222222222222222,
              "#7201a8"
             ],
             [
              0.3333333333333333,
              "#9c179e"
             ],
             [
              0.4444444444444444,
              "#bd3786"
             ],
             [
              0.5555555555555556,
              "#d8576b"
             ],
             [
              0.6666666666666666,
              "#ed7953"
             ],
             [
              0.7777777777777778,
              "#fb9f3a"
             ],
             [
              0.8888888888888888,
              "#fdca26"
             ],
             [
              1,
              "#f0f921"
             ]
            ],
            "type": "surface"
           }
          ],
          "table": [
           {
            "cells": {
             "fill": {
              "color": "#EBF0F8"
             },
             "line": {
              "color": "white"
             }
            },
            "header": {
             "fill": {
              "color": "#C8D4E3"
             },
             "line": {
              "color": "white"
             }
            },
            "type": "table"
           }
          ]
         },
         "layout": {
          "annotationdefaults": {
           "arrowcolor": "#2a3f5f",
           "arrowhead": 0,
           "arrowwidth": 1
          },
          "autotypenumbers": "strict",
          "coloraxis": {
           "colorbar": {
            "outlinewidth": 0,
            "ticks": ""
           }
          },
          "colorscale": {
           "diverging": [
            [
             0,
             "#8e0152"
            ],
            [
             0.1,
             "#c51b7d"
            ],
            [
             0.2,
             "#de77ae"
            ],
            [
             0.3,
             "#f1b6da"
            ],
            [
             0.4,
             "#fde0ef"
            ],
            [
             0.5,
             "#f7f7f7"
            ],
            [
             0.6,
             "#e6f5d0"
            ],
            [
             0.7,
             "#b8e186"
            ],
            [
             0.8,
             "#7fbc41"
            ],
            [
             0.9,
             "#4d9221"
            ],
            [
             1,
             "#276419"
            ]
           ],
           "sequential": [
            [
             0,
             "#0d0887"
            ],
            [
             0.1111111111111111,
             "#46039f"
            ],
            [
             0.2222222222222222,
             "#7201a8"
            ],
            [
             0.3333333333333333,
             "#9c179e"
            ],
            [
             0.4444444444444444,
             "#bd3786"
            ],
            [
             0.5555555555555556,
             "#d8576b"
            ],
            [
             0.6666666666666666,
             "#ed7953"
            ],
            [
             0.7777777777777778,
             "#fb9f3a"
            ],
            [
             0.8888888888888888,
             "#fdca26"
            ],
            [
             1,
             "#f0f921"
            ]
           ],
           "sequentialminus": [
            [
             0,
             "#0d0887"
            ],
            [
             0.1111111111111111,
             "#46039f"
            ],
            [
             0.2222222222222222,
             "#7201a8"
            ],
            [
             0.3333333333333333,
             "#9c179e"
            ],
            [
             0.4444444444444444,
             "#bd3786"
            ],
            [
             0.5555555555555556,
             "#d8576b"
            ],
            [
             0.6666666666666666,
             "#ed7953"
            ],
            [
             0.7777777777777778,
             "#fb9f3a"
            ],
            [
             0.8888888888888888,
             "#fdca26"
            ],
            [
             1,
             "#f0f921"
            ]
           ]
          },
          "colorway": [
           "#636efa",
           "#EF553B",
           "#00cc96",
           "#ab63fa",
           "#FFA15A",
           "#19d3f3",
           "#FF6692",
           "#B6E880",
           "#FF97FF",
           "#FECB52"
          ],
          "font": {
           "color": "#2a3f5f"
          },
          "geo": {
           "bgcolor": "white",
           "lakecolor": "white",
           "landcolor": "#E5ECF6",
           "showlakes": true,
           "showland": true,
           "subunitcolor": "white"
          },
          "hoverlabel": {
           "align": "left"
          },
          "hovermode": "closest",
          "mapbox": {
           "style": "light"
          },
          "paper_bgcolor": "white",
          "plot_bgcolor": "#E5ECF6",
          "polar": {
           "angularaxis": {
            "gridcolor": "white",
            "linecolor": "white",
            "ticks": ""
           },
           "bgcolor": "#E5ECF6",
           "radialaxis": {
            "gridcolor": "white",
            "linecolor": "white",
            "ticks": ""
           }
          },
          "scene": {
           "xaxis": {
            "backgroundcolor": "#E5ECF6",
            "gridcolor": "white",
            "gridwidth": 2,
            "linecolor": "white",
            "showbackground": true,
            "ticks": "",
            "zerolinecolor": "white"
           },
           "yaxis": {
            "backgroundcolor": "#E5ECF6",
            "gridcolor": "white",
            "gridwidth": 2,
            "linecolor": "white",
            "showbackground": true,
            "ticks": "",
            "zerolinecolor": "white"
           },
           "zaxis": {
            "backgroundcolor": "#E5ECF6",
            "gridcolor": "white",
            "gridwidth": 2,
            "linecolor": "white",
            "showbackground": true,
            "ticks": "",
            "zerolinecolor": "white"
           }
          },
          "shapedefaults": {
           "line": {
            "color": "#2a3f5f"
           }
          },
          "ternary": {
           "aaxis": {
            "gridcolor": "white",
            "linecolor": "white",
            "ticks": ""
           },
           "baxis": {
            "gridcolor": "white",
            "linecolor": "white",
            "ticks": ""
           },
           "bgcolor": "#E5ECF6",
           "caxis": {
            "gridcolor": "white",
            "linecolor": "white",
            "ticks": ""
           }
          },
          "title": {
           "x": 0.05
          },
          "xaxis": {
           "automargin": true,
           "gridcolor": "white",
           "linecolor": "white",
           "ticks": "",
           "title": {
            "standoff": 15
           },
           "zerolinecolor": "white",
           "zerolinewidth": 2
          },
          "yaxis": {
           "automargin": true,
           "gridcolor": "white",
           "linecolor": "white",
           "ticks": "",
           "title": {
            "standoff": 15
           },
           "zerolinecolor": "white",
           "zerolinewidth": 2
          }
         }
        },
        "xaxis": {
         "anchor": "y",
         "domain": [
          0,
          1
         ],
         "title": {
          "text": "count"
         }
        },
        "yaxis": {
         "anchor": "x",
         "domain": [
          0,
          1
         ],
         "title": {
          "text": "fitness"
         }
        }
       }
      },
      "text/html": [
       "<div>                            <div id=\"6ca7fea9-1868-462b-b2f3-8f203516734c\" class=\"plotly-graph-div\" style=\"height:525px; width:100%;\"></div>            <script type=\"text/javascript\">                require([\"plotly\"], function(Plotly) {                    window.PLOTLYENV=window.PLOTLYENV || {};                                    if (document.getElementById(\"6ca7fea9-1868-462b-b2f3-8f203516734c\")) {                    Plotly.newPlot(                        \"6ca7fea9-1868-462b-b2f3-8f203516734c\",                        [{\"hovertemplate\":\"experiment=evolutionary algorithm<br>count=%{x}<br>fitness=%{y}<extra></extra>\",\"legendgroup\":\"evolutionary algorithm\",\"marker\":{\"color\":\"#636efa\",\"symbol\":\"x\",\"opacity\":0.75,\"size\":10},\"mode\":\"markers\",\"name\":\"evolutionary algorithm\",\"orientation\":\"v\",\"showlegend\":true,\"x\":[10,2,3,4,5,6,7,8,9],\"xaxis\":\"x\",\"y\":[-0.9272971291887995,-0.497745348210404,-0.6045366296210909,-0.7147300550660254,-0.7533743947747059,-0.8126962634209193,-0.8447745158380201,-0.8715843502732249,-0.8929087808666054],\"yaxis\":\"y\",\"type\":\"scatter\"},{\"hovertemplate\":\"experiment=greedy w fitness<br>count=%{x}<br>fitness=%{y}<extra></extra>\",\"legendgroup\":\"greedy w fitness\",\"marker\":{\"color\":\"#EF553B\",\"symbol\":\"x\",\"opacity\":0.75,\"size\":10},\"mode\":\"markers\",\"name\":\"greedy w fitness\",\"orientation\":\"v\",\"showlegend\":true,\"x\":[2,3,4,5,6,7,8,9,10],\"xaxis\":\"x\",\"y\":[-0.497745348210404,-0.6045366296210909,-0.6812797813616901,-0.7406068533782864,-0.78263096464779,-0.813095936590269,-0.855171382007022,-0.8951526383608611,-0.9202854683150715],\"yaxis\":\"y\",\"type\":\"scatter\"}],                        {\"template\":{\"data\":{\"histogram2dcontour\":[{\"type\":\"histogram2dcontour\",\"colorbar\":{\"outlinewidth\":0,\"ticks\":\"\"},\"colorscale\":[[0.0,\"#0d0887\"],[0.1111111111111111,\"#46039f\"],[0.2222222222222222,\"#7201a8\"],[0.3333333333333333,\"#9c179e\"],[0.4444444444444444,\"#bd3786\"],[0.5555555555555556,\"#d8576b\"],[0.6666666666666666,\"#ed7953\"],[0.7777777777777778,\"#fb9f3a\"],[0.8888888888888888,\"#fdca26\"],[1.0,\"#f0f921\"]]}],\"choropleth\":[{\"type\":\"choropleth\",\"colorbar\":{\"outlinewidth\":0,\"ticks\":\"\"}}],\"histogram2d\":[{\"type\":\"histogram2d\",\"colorbar\":{\"outlinewidth\":0,\"ticks\":\"\"},\"colorscale\":[[0.0,\"#0d0887\"],[0.1111111111111111,\"#46039f\"],[0.2222222222222222,\"#7201a8\"],[0.3333333333333333,\"#9c179e\"],[0.4444444444444444,\"#bd3786\"],[0.5555555555555556,\"#d8576b\"],[0.6666666666666666,\"#ed7953\"],[0.7777777777777778,\"#fb9f3a\"],[0.8888888888888888,\"#fdca26\"],[1.0,\"#f0f921\"]]}],\"heatmap\":[{\"type\":\"heatmap\",\"colorbar\":{\"outlinewidth\":0,\"ticks\":\"\"},\"colorscale\":[[0.0,\"#0d0887\"],[0.1111111111111111,\"#46039f\"],[0.2222222222222222,\"#7201a8\"],[0.3333333333333333,\"#9c179e\"],[0.4444444444444444,\"#bd3786\"],[0.5555555555555556,\"#d8576b\"],[0.6666666666666666,\"#ed7953\"],[0.7777777777777778,\"#fb9f3a\"],[0.8888888888888888,\"#fdca26\"],[1.0,\"#f0f921\"]]}],\"heatmapgl\":[{\"type\":\"heatmapgl\",\"colorbar\":{\"outlinewidth\":0,\"ticks\":\"\"},\"colorscale\":[[0.0,\"#0d0887\"],[0.1111111111111111,\"#46039f\"],[0.2222222222222222,\"#7201a8\"],[0.3333333333333333,\"#9c179e\"],[0.4444444444444444,\"#bd3786\"],[0.5555555555555556,\"#d8576b\"],[0.6666666666666666,\"#ed7953\"],[0.7777777777777778,\"#fb9f3a\"],[0.8888888888888888,\"#fdca26\"],[1.0,\"#f0f921\"]]}],\"contourcarpet\":[{\"type\":\"contourcarpet\",\"colorbar\":{\"outlinewidth\":0,\"ticks\":\"\"}}],\"contour\":[{\"type\":\"contour\",\"colorbar\":{\"outlinewidth\":0,\"ticks\":\"\"},\"colorscale\":[[0.0,\"#0d0887\"],[0.1111111111111111,\"#46039f\"],[0.2222222222222222,\"#7201a8\"],[0.3333333333333333,\"#9c179e\"],[0.4444444444444444,\"#bd3786\"],[0.5555555555555556,\"#d8576b\"],[0.6666666666666666,\"#ed7953\"],[0.7777777777777778,\"#fb9f3a\"],[0.8888888888888888,\"#fdca26\"],[1.0,\"#f0f921\"]]}],\"surface\":[{\"type\":\"surface\",\"colorbar\":{\"outlinewidth\":0,\"ticks\":\"\"},\"colorscale\":[[0.0,\"#0d0887\"],[0.1111111111111111,\"#46039f\"],[0.2222222222222222,\"#7201a8\"],[0.3333333333333333,\"#9c179e\"],[0.4444444444444444,\"#bd3786\"],[0.5555555555555556,\"#d8576b\"],[0.6666666666666666,\"#ed7953\"],[0.7777777777777778,\"#fb9f3a\"],[0.8888888888888888,\"#fdca26\"],[1.0,\"#f0f921\"]]}],\"mesh3d\":[{\"type\":\"mesh3d\",\"colorbar\":{\"outlinewidth\":0,\"ticks\":\"\"}}],\"scatter\":[{\"fillpattern\":{\"fillmode\":\"overlay\",\"size\":10,\"solidity\":0.2},\"type\":\"scatter\"}],\"parcoords\":[{\"type\":\"parcoords\",\"line\":{\"colorbar\":{\"outlinewidth\":0,\"ticks\":\"\"}}}],\"scatterpolargl\":[{\"type\":\"scatterpolargl\",\"marker\":{\"colorbar\":{\"outlinewidth\":0,\"ticks\":\"\"}}}],\"bar\":[{\"error_x\":{\"color\":\"#2a3f5f\"},\"error_y\":{\"color\":\"#2a3f5f\"},\"marker\":{\"line\":{\"color\":\"#E5ECF6\",\"width\":0.5},\"pattern\":{\"fillmode\":\"overlay\",\"size\":10,\"solidity\":0.2}},\"type\":\"bar\"}],\"scattergeo\":[{\"type\":\"scattergeo\",\"marker\":{\"colorbar\":{\"outlinewidth\":0,\"ticks\":\"\"}}}],\"scatterpolar\":[{\"type\":\"scatterpolar\",\"marker\":{\"colorbar\":{\"outlinewidth\":0,\"ticks\":\"\"}}}],\"histogram\":[{\"marker\":{\"pattern\":{\"fillmode\":\"overlay\",\"size\":10,\"solidity\":0.2}},\"type\":\"histogram\"}],\"scattergl\":[{\"type\":\"scattergl\",\"marker\":{\"colorbar\":{\"outlinewidth\":0,\"ticks\":\"\"}}}],\"scatter3d\":[{\"type\":\"scatter3d\",\"line\":{\"colorbar\":{\"outlinewidth\":0,\"ticks\":\"\"}},\"marker\":{\"colorbar\":{\"outlinewidth\":0,\"ticks\":\"\"}}}],\"scattermapbox\":[{\"type\":\"scattermapbox\",\"marker\":{\"colorbar\":{\"outlinewidth\":0,\"ticks\":\"\"}}}],\"scatterternary\":[{\"type\":\"scatterternary\",\"marker\":{\"colorbar\":{\"outlinewidth\":0,\"ticks\":\"\"}}}],\"scattercarpet\":[{\"type\":\"scattercarpet\",\"marker\":{\"colorbar\":{\"outlinewidth\":0,\"ticks\":\"\"}}}],\"carpet\":[{\"aaxis\":{\"endlinecolor\":\"#2a3f5f\",\"gridcolor\":\"white\",\"linecolor\":\"white\",\"minorgridcolor\":\"white\",\"startlinecolor\":\"#2a3f5f\"},\"baxis\":{\"endlinecolor\":\"#2a3f5f\",\"gridcolor\":\"white\",\"linecolor\":\"white\",\"minorgridcolor\":\"white\",\"startlinecolor\":\"#2a3f5f\"},\"type\":\"carpet\"}],\"table\":[{\"cells\":{\"fill\":{\"color\":\"#EBF0F8\"},\"line\":{\"color\":\"white\"}},\"header\":{\"fill\":{\"color\":\"#C8D4E3\"},\"line\":{\"color\":\"white\"}},\"type\":\"table\"}],\"barpolar\":[{\"marker\":{\"line\":{\"color\":\"#E5ECF6\",\"width\":0.5},\"pattern\":{\"fillmode\":\"overlay\",\"size\":10,\"solidity\":0.2}},\"type\":\"barpolar\"}],\"pie\":[{\"automargin\":true,\"type\":\"pie\"}]},\"layout\":{\"autotypenumbers\":\"strict\",\"colorway\":[\"#636efa\",\"#EF553B\",\"#00cc96\",\"#ab63fa\",\"#FFA15A\",\"#19d3f3\",\"#FF6692\",\"#B6E880\",\"#FF97FF\",\"#FECB52\"],\"font\":{\"color\":\"#2a3f5f\"},\"hovermode\":\"closest\",\"hoverlabel\":{\"align\":\"left\"},\"paper_bgcolor\":\"white\",\"plot_bgcolor\":\"#E5ECF6\",\"polar\":{\"bgcolor\":\"#E5ECF6\",\"angularaxis\":{\"gridcolor\":\"white\",\"linecolor\":\"white\",\"ticks\":\"\"},\"radialaxis\":{\"gridcolor\":\"white\",\"linecolor\":\"white\",\"ticks\":\"\"}},\"ternary\":{\"bgcolor\":\"#E5ECF6\",\"aaxis\":{\"gridcolor\":\"white\",\"linecolor\":\"white\",\"ticks\":\"\"},\"baxis\":{\"gridcolor\":\"white\",\"linecolor\":\"white\",\"ticks\":\"\"},\"caxis\":{\"gridcolor\":\"white\",\"linecolor\":\"white\",\"ticks\":\"\"}},\"coloraxis\":{\"colorbar\":{\"outlinewidth\":0,\"ticks\":\"\"}},\"colorscale\":{\"sequential\":[[0.0,\"#0d0887\"],[0.1111111111111111,\"#46039f\"],[0.2222222222222222,\"#7201a8\"],[0.3333333333333333,\"#9c179e\"],[0.4444444444444444,\"#bd3786\"],[0.5555555555555556,\"#d8576b\"],[0.6666666666666666,\"#ed7953\"],[0.7777777777777778,\"#fb9f3a\"],[0.8888888888888888,\"#fdca26\"],[1.0,\"#f0f921\"]],\"sequentialminus\":[[0.0,\"#0d0887\"],[0.1111111111111111,\"#46039f\"],[0.2222222222222222,\"#7201a8\"],[0.3333333333333333,\"#9c179e\"],[0.4444444444444444,\"#bd3786\"],[0.5555555555555556,\"#d8576b\"],[0.6666666666666666,\"#ed7953\"],[0.7777777777777778,\"#fb9f3a\"],[0.8888888888888888,\"#fdca26\"],[1.0,\"#f0f921\"]],\"diverging\":[[0,\"#8e0152\"],[0.1,\"#c51b7d\"],[0.2,\"#de77ae\"],[0.3,\"#f1b6da\"],[0.4,\"#fde0ef\"],[0.5,\"#f7f7f7\"],[0.6,\"#e6f5d0\"],[0.7,\"#b8e186\"],[0.8,\"#7fbc41\"],[0.9,\"#4d9221\"],[1,\"#276419\"]]},\"xaxis\":{\"gridcolor\":\"white\",\"linecolor\":\"white\",\"ticks\":\"\",\"title\":{\"standoff\":15},\"zerolinecolor\":\"white\",\"automargin\":true,\"zerolinewidth\":2},\"yaxis\":{\"gridcolor\":\"white\",\"linecolor\":\"white\",\"ticks\":\"\",\"title\":{\"standoff\":15},\"zerolinecolor\":\"white\",\"automargin\":true,\"zerolinewidth\":2},\"scene\":{\"xaxis\":{\"backgroundcolor\":\"#E5ECF6\",\"gridcolor\":\"white\",\"linecolor\":\"white\",\"showbackground\":true,\"ticks\":\"\",\"zerolinecolor\":\"white\",\"gridwidth\":2},\"yaxis\":{\"backgroundcolor\":\"#E5ECF6\",\"gridcolor\":\"white\",\"linecolor\":\"white\",\"showbackground\":true,\"ticks\":\"\",\"zerolinecolor\":\"white\",\"gridwidth\":2},\"zaxis\":{\"backgroundcolor\":\"#E5ECF6\",\"gridcolor\":\"white\",\"linecolor\":\"white\",\"showbackground\":true,\"ticks\":\"\",\"zerolinecolor\":\"white\",\"gridwidth\":2}},\"shapedefaults\":{\"line\":{\"color\":\"#2a3f5f\"}},\"annotationdefaults\":{\"arrowcolor\":\"#2a3f5f\",\"arrowhead\":0,\"arrowwidth\":1},\"geo\":{\"bgcolor\":\"white\",\"landcolor\":\"#E5ECF6\",\"subunitcolor\":\"white\",\"showland\":true,\"showlakes\":true,\"lakecolor\":\"white\"},\"title\":{\"x\":0.05},\"mapbox\":{\"style\":\"light\"}}},\"xaxis\":{\"anchor\":\"y\",\"domain\":[0.0,1.0],\"title\":{\"text\":\"count\"}},\"yaxis\":{\"anchor\":\"x\",\"domain\":[0.0,1.0],\"title\":{\"text\":\"fitness\"}},\"legend\":{\"title\":{\"text\":\"experiment\"},\"tracegroupgap\":0},\"margin\":{\"t\":60}},                        {\"responsive\": true}                    ).then(function(){\n",
       "                            \n",
       "var gd = document.getElementById('6ca7fea9-1868-462b-b2f3-8f203516734c');\n",
       "var x = new MutationObserver(function (mutations, observer) {{\n",
       "        var display = window.getComputedStyle(gd).display;\n",
       "        if (!display || display === 'none') {{\n",
       "            console.log([gd, 'removed!']);\n",
       "            Plotly.purge(gd);\n",
       "            observer.disconnect();\n",
       "        }}\n",
       "}});\n",
       "\n",
       "// Listen for the removal of the full notebook cells\n",
       "var notebookContainer = gd.closest('#notebook-container');\n",
       "if (notebookContainer) {{\n",
       "    x.observe(notebookContainer, {childList: true});\n",
       "}}\n",
       "\n",
       "// Listen for the clearing of the current output cell\n",
       "var outputEl = gd.closest('.output');\n",
       "if (outputEl) {{\n",
       "    x.observe(outputEl, {childList: true});\n",
       "}}\n",
       "\n",
       "                        })                };                });            </script>        </div>"
      ]
     },
     "metadata": {},
     "output_type": "display_data"
    }
   ],
   "source": [
    "fig = px.scatter(f, x=\"count\", y=\"fitness\",\n",
    "#                         color_discrete_map={\n",
    "#                             \"random initial\": \"grey\",\n",
    "#                             \"greedy best first\": \"orange\",\n",
    "#                             \"greedy weighted\": \"yellow\",\n",
    "#                             \"GA 1\": \"blue\",\n",
    "#                             \"GA 6\": \"purple\"\n",
    "#                         },\n",
    "                        color=f[\"experiment\"]\n",
    "                        )\n",
    "\n",
    "fig.update_traces(marker=dict(size=10, opacity=0.75, symbol='x')) #colorscale='temps', color=f[\"source\"], opacity=0.75))\n",
    "fig.show()"
   ]
  },
  {
   "cell_type": "code",
   "execution_count": 12,
   "id": "32f14066",
   "metadata": {
    "scrolled": true
   },
   "outputs": [
    {
     "data": {
      "application/vnd.plotly.v1+json": {
       "config": {
        "plotlyServerURL": "https://plot.ly"
       },
       "data": [
        {
         "hovertemplate": "experiment=evolutionary algorithm<br>coverage=%{x}<br>overlap=%{y}<extra></extra>",
         "legendgroup": "evolutionary algorithm",
         "marker": {
          "color": "#19d3f3",
          "opacity": 0.75,
          "size": 10,
          "symbol": "x"
         },
         "mode": "markers",
         "name": "evolutionary algorithm",
         "orientation": "v",
         "showlegend": true,
         "type": "scatter",
         "x": [
          0.9272971291887995,
          0.497745348210404,
          0.6045366296210909,
          0.7147300550660254,
          0.7533743947747059,
          0.8126962634209193,
          0.8447745158380201,
          0.8715843502732249,
          0.8929087808666054
         ],
         "xaxis": "x",
         "y": [
          0.43254472048294906,
          0.4026269461977487,
          0.4004516620879482,
          0.402460614185948,
          0.40622249187655946,
          0.44648728423160833,
          0.40095284857646957,
          0.41443818693210543,
          0.40869415822025906
         ],
         "yaxis": "y"
        },
        {
         "hovertemplate": "experiment=greedy w fitness<br>coverage=%{x}<br>overlap=%{y}<extra></extra>",
         "legendgroup": "greedy w fitness",
         "marker": {
          "color": "#FF6692",
          "opacity": 0.75,
          "size": 10,
          "symbol": "x"
         },
         "mode": "markers",
         "name": "greedy w fitness",
         "orientation": "v",
         "showlegend": true,
         "type": "scatter",
         "x": [
          0.497745348210404,
          0.6045366296210909,
          0.6812797813616901,
          0.7406068533782864,
          0.78263096464779,
          0.813095936590269,
          0.855171382007022,
          0.8951526383608611,
          0.9202854683150715
         ],
         "xaxis": "x",
         "y": [
          0.4026269461977487,
          0.4004516620879482,
          0.4004516620879482,
          0.4004516620879482,
          0.4010851354735194,
          0.4026269461977487,
          0.4026269461977487,
          0.4026269461977487,
          0.4026269461977487
         ],
         "yaxis": "y"
        }
       ],
       "layout": {
        "legend": {
         "title": {
          "text": "experiment"
         },
         "tracegroupgap": 0
        },
        "margin": {
         "t": 60
        },
        "template": {
         "data": {
          "bar": [
           {
            "error_x": {
             "color": "#2a3f5f"
            },
            "error_y": {
             "color": "#2a3f5f"
            },
            "marker": {
             "line": {
              "color": "#E5ECF6",
              "width": 0.5
             },
             "pattern": {
              "fillmode": "overlay",
              "size": 10,
              "solidity": 0.2
             }
            },
            "type": "bar"
           }
          ],
          "barpolar": [
           {
            "marker": {
             "line": {
              "color": "#E5ECF6",
              "width": 0.5
             },
             "pattern": {
              "fillmode": "overlay",
              "size": 10,
              "solidity": 0.2
             }
            },
            "type": "barpolar"
           }
          ],
          "carpet": [
           {
            "aaxis": {
             "endlinecolor": "#2a3f5f",
             "gridcolor": "white",
             "linecolor": "white",
             "minorgridcolor": "white",
             "startlinecolor": "#2a3f5f"
            },
            "baxis": {
             "endlinecolor": "#2a3f5f",
             "gridcolor": "white",
             "linecolor": "white",
             "minorgridcolor": "white",
             "startlinecolor": "#2a3f5f"
            },
            "type": "carpet"
           }
          ],
          "choropleth": [
           {
            "colorbar": {
             "outlinewidth": 0,
             "ticks": ""
            },
            "type": "choropleth"
           }
          ],
          "contour": [
           {
            "colorbar": {
             "outlinewidth": 0,
             "ticks": ""
            },
            "colorscale": [
             [
              0,
              "#0d0887"
             ],
             [
              0.1111111111111111,
              "#46039f"
             ],
             [
              0.2222222222222222,
              "#7201a8"
             ],
             [
              0.3333333333333333,
              "#9c179e"
             ],
             [
              0.4444444444444444,
              "#bd3786"
             ],
             [
              0.5555555555555556,
              "#d8576b"
             ],
             [
              0.6666666666666666,
              "#ed7953"
             ],
             [
              0.7777777777777778,
              "#fb9f3a"
             ],
             [
              0.8888888888888888,
              "#fdca26"
             ],
             [
              1,
              "#f0f921"
             ]
            ],
            "type": "contour"
           }
          ],
          "contourcarpet": [
           {
            "colorbar": {
             "outlinewidth": 0,
             "ticks": ""
            },
            "type": "contourcarpet"
           }
          ],
          "heatmap": [
           {
            "colorbar": {
             "outlinewidth": 0,
             "ticks": ""
            },
            "colorscale": [
             [
              0,
              "#0d0887"
             ],
             [
              0.1111111111111111,
              "#46039f"
             ],
             [
              0.2222222222222222,
              "#7201a8"
             ],
             [
              0.3333333333333333,
              "#9c179e"
             ],
             [
              0.4444444444444444,
              "#bd3786"
             ],
             [
              0.5555555555555556,
              "#d8576b"
             ],
             [
              0.6666666666666666,
              "#ed7953"
             ],
             [
              0.7777777777777778,
              "#fb9f3a"
             ],
             [
              0.8888888888888888,
              "#fdca26"
             ],
             [
              1,
              "#f0f921"
             ]
            ],
            "type": "heatmap"
           }
          ],
          "heatmapgl": [
           {
            "colorbar": {
             "outlinewidth": 0,
             "ticks": ""
            },
            "colorscale": [
             [
              0,
              "#0d0887"
             ],
             [
              0.1111111111111111,
              "#46039f"
             ],
             [
              0.2222222222222222,
              "#7201a8"
             ],
             [
              0.3333333333333333,
              "#9c179e"
             ],
             [
              0.4444444444444444,
              "#bd3786"
             ],
             [
              0.5555555555555556,
              "#d8576b"
             ],
             [
              0.6666666666666666,
              "#ed7953"
             ],
             [
              0.7777777777777778,
              "#fb9f3a"
             ],
             [
              0.8888888888888888,
              "#fdca26"
             ],
             [
              1,
              "#f0f921"
             ]
            ],
            "type": "heatmapgl"
           }
          ],
          "histogram": [
           {
            "marker": {
             "pattern": {
              "fillmode": "overlay",
              "size": 10,
              "solidity": 0.2
             }
            },
            "type": "histogram"
           }
          ],
          "histogram2d": [
           {
            "colorbar": {
             "outlinewidth": 0,
             "ticks": ""
            },
            "colorscale": [
             [
              0,
              "#0d0887"
             ],
             [
              0.1111111111111111,
              "#46039f"
             ],
             [
              0.2222222222222222,
              "#7201a8"
             ],
             [
              0.3333333333333333,
              "#9c179e"
             ],
             [
              0.4444444444444444,
              "#bd3786"
             ],
             [
              0.5555555555555556,
              "#d8576b"
             ],
             [
              0.6666666666666666,
              "#ed7953"
             ],
             [
              0.7777777777777778,
              "#fb9f3a"
             ],
             [
              0.8888888888888888,
              "#fdca26"
             ],
             [
              1,
              "#f0f921"
             ]
            ],
            "type": "histogram2d"
           }
          ],
          "histogram2dcontour": [
           {
            "colorbar": {
             "outlinewidth": 0,
             "ticks": ""
            },
            "colorscale": [
             [
              0,
              "#0d0887"
             ],
             [
              0.1111111111111111,
              "#46039f"
             ],
             [
              0.2222222222222222,
              "#7201a8"
             ],
             [
              0.3333333333333333,
              "#9c179e"
             ],
             [
              0.4444444444444444,
              "#bd3786"
             ],
             [
              0.5555555555555556,
              "#d8576b"
             ],
             [
              0.6666666666666666,
              "#ed7953"
             ],
             [
              0.7777777777777778,
              "#fb9f3a"
             ],
             [
              0.8888888888888888,
              "#fdca26"
             ],
             [
              1,
              "#f0f921"
             ]
            ],
            "type": "histogram2dcontour"
           }
          ],
          "mesh3d": [
           {
            "colorbar": {
             "outlinewidth": 0,
             "ticks": ""
            },
            "type": "mesh3d"
           }
          ],
          "parcoords": [
           {
            "line": {
             "colorbar": {
              "outlinewidth": 0,
              "ticks": ""
             }
            },
            "type": "parcoords"
           }
          ],
          "pie": [
           {
            "automargin": true,
            "type": "pie"
           }
          ],
          "scatter": [
           {
            "fillpattern": {
             "fillmode": "overlay",
             "size": 10,
             "solidity": 0.2
            },
            "type": "scatter"
           }
          ],
          "scatter3d": [
           {
            "line": {
             "colorbar": {
              "outlinewidth": 0,
              "ticks": ""
             }
            },
            "marker": {
             "colorbar": {
              "outlinewidth": 0,
              "ticks": ""
             }
            },
            "type": "scatter3d"
           }
          ],
          "scattercarpet": [
           {
            "marker": {
             "colorbar": {
              "outlinewidth": 0,
              "ticks": ""
             }
            },
            "type": "scattercarpet"
           }
          ],
          "scattergeo": [
           {
            "marker": {
             "colorbar": {
              "outlinewidth": 0,
              "ticks": ""
             }
            },
            "type": "scattergeo"
           }
          ],
          "scattergl": [
           {
            "marker": {
             "colorbar": {
              "outlinewidth": 0,
              "ticks": ""
             }
            },
            "type": "scattergl"
           }
          ],
          "scattermapbox": [
           {
            "marker": {
             "colorbar": {
              "outlinewidth": 0,
              "ticks": ""
             }
            },
            "type": "scattermapbox"
           }
          ],
          "scatterpolar": [
           {
            "marker": {
             "colorbar": {
              "outlinewidth": 0,
              "ticks": ""
             }
            },
            "type": "scatterpolar"
           }
          ],
          "scatterpolargl": [
           {
            "marker": {
             "colorbar": {
              "outlinewidth": 0,
              "ticks": ""
             }
            },
            "type": "scatterpolargl"
           }
          ],
          "scatterternary": [
           {
            "marker": {
             "colorbar": {
              "outlinewidth": 0,
              "ticks": ""
             }
            },
            "type": "scatterternary"
           }
          ],
          "surface": [
           {
            "colorbar": {
             "outlinewidth": 0,
             "ticks": ""
            },
            "colorscale": [
             [
              0,
              "#0d0887"
             ],
             [
              0.1111111111111111,
              "#46039f"
             ],
             [
              0.2222222222222222,
              "#7201a8"
             ],
             [
              0.3333333333333333,
              "#9c179e"
             ],
             [
              0.4444444444444444,
              "#bd3786"
             ],
             [
              0.5555555555555556,
              "#d8576b"
             ],
             [
              0.6666666666666666,
              "#ed7953"
             ],
             [
              0.7777777777777778,
              "#fb9f3a"
             ],
             [
              0.8888888888888888,
              "#fdca26"
             ],
             [
              1,
              "#f0f921"
             ]
            ],
            "type": "surface"
           }
          ],
          "table": [
           {
            "cells": {
             "fill": {
              "color": "#EBF0F8"
             },
             "line": {
              "color": "white"
             }
            },
            "header": {
             "fill": {
              "color": "#C8D4E3"
             },
             "line": {
              "color": "white"
             }
            },
            "type": "table"
           }
          ]
         },
         "layout": {
          "annotationdefaults": {
           "arrowcolor": "#2a3f5f",
           "arrowhead": 0,
           "arrowwidth": 1
          },
          "autotypenumbers": "strict",
          "coloraxis": {
           "colorbar": {
            "outlinewidth": 0,
            "ticks": ""
           }
          },
          "colorscale": {
           "diverging": [
            [
             0,
             "#8e0152"
            ],
            [
             0.1,
             "#c51b7d"
            ],
            [
             0.2,
             "#de77ae"
            ],
            [
             0.3,
             "#f1b6da"
            ],
            [
             0.4,
             "#fde0ef"
            ],
            [
             0.5,
             "#f7f7f7"
            ],
            [
             0.6,
             "#e6f5d0"
            ],
            [
             0.7,
             "#b8e186"
            ],
            [
             0.8,
             "#7fbc41"
            ],
            [
             0.9,
             "#4d9221"
            ],
            [
             1,
             "#276419"
            ]
           ],
           "sequential": [
            [
             0,
             "#0d0887"
            ],
            [
             0.1111111111111111,
             "#46039f"
            ],
            [
             0.2222222222222222,
             "#7201a8"
            ],
            [
             0.3333333333333333,
             "#9c179e"
            ],
            [
             0.4444444444444444,
             "#bd3786"
            ],
            [
             0.5555555555555556,
             "#d8576b"
            ],
            [
             0.6666666666666666,
             "#ed7953"
            ],
            [
             0.7777777777777778,
             "#fb9f3a"
            ],
            [
             0.8888888888888888,
             "#fdca26"
            ],
            [
             1,
             "#f0f921"
            ]
           ],
           "sequentialminus": [
            [
             0,
             "#0d0887"
            ],
            [
             0.1111111111111111,
             "#46039f"
            ],
            [
             0.2222222222222222,
             "#7201a8"
            ],
            [
             0.3333333333333333,
             "#9c179e"
            ],
            [
             0.4444444444444444,
             "#bd3786"
            ],
            [
             0.5555555555555556,
             "#d8576b"
            ],
            [
             0.6666666666666666,
             "#ed7953"
            ],
            [
             0.7777777777777778,
             "#fb9f3a"
            ],
            [
             0.8888888888888888,
             "#fdca26"
            ],
            [
             1,
             "#f0f921"
            ]
           ]
          },
          "colorway": [
           "#636efa",
           "#EF553B",
           "#00cc96",
           "#ab63fa",
           "#FFA15A",
           "#19d3f3",
           "#FF6692",
           "#B6E880",
           "#FF97FF",
           "#FECB52"
          ],
          "font": {
           "color": "#2a3f5f"
          },
          "geo": {
           "bgcolor": "white",
           "lakecolor": "white",
           "landcolor": "#E5ECF6",
           "showlakes": true,
           "showland": true,
           "subunitcolor": "white"
          },
          "hoverlabel": {
           "align": "left"
          },
          "hovermode": "closest",
          "mapbox": {
           "style": "light"
          },
          "paper_bgcolor": "white",
          "plot_bgcolor": "#E5ECF6",
          "polar": {
           "angularaxis": {
            "gridcolor": "white",
            "linecolor": "white",
            "ticks": ""
           },
           "bgcolor": "#E5ECF6",
           "radialaxis": {
            "gridcolor": "white",
            "linecolor": "white",
            "ticks": ""
           }
          },
          "scene": {
           "xaxis": {
            "backgroundcolor": "#E5ECF6",
            "gridcolor": "white",
            "gridwidth": 2,
            "linecolor": "white",
            "showbackground": true,
            "ticks": "",
            "zerolinecolor": "white"
           },
           "yaxis": {
            "backgroundcolor": "#E5ECF6",
            "gridcolor": "white",
            "gridwidth": 2,
            "linecolor": "white",
            "showbackground": true,
            "ticks": "",
            "zerolinecolor": "white"
           },
           "zaxis": {
            "backgroundcolor": "#E5ECF6",
            "gridcolor": "white",
            "gridwidth": 2,
            "linecolor": "white",
            "showbackground": true,
            "ticks": "",
            "zerolinecolor": "white"
           }
          },
          "shapedefaults": {
           "line": {
            "color": "#2a3f5f"
           }
          },
          "ternary": {
           "aaxis": {
            "gridcolor": "white",
            "linecolor": "white",
            "ticks": ""
           },
           "baxis": {
            "gridcolor": "white",
            "linecolor": "white",
            "ticks": ""
           },
           "bgcolor": "#E5ECF6",
           "caxis": {
            "gridcolor": "white",
            "linecolor": "white",
            "ticks": ""
           }
          },
          "title": {
           "x": 0.05
          },
          "xaxis": {
           "automargin": true,
           "gridcolor": "white",
           "linecolor": "white",
           "ticks": "",
           "title": {
            "standoff": 15
           },
           "zerolinecolor": "white",
           "zerolinewidth": 2
          },
          "yaxis": {
           "automargin": true,
           "gridcolor": "white",
           "linecolor": "white",
           "ticks": "",
           "title": {
            "standoff": 15
           },
           "zerolinecolor": "white",
           "zerolinewidth": 2
          }
         }
        },
        "xaxis": {
         "anchor": "y",
         "domain": [
          0,
          1
         ],
         "title": {
          "text": "coverage"
         }
        },
        "yaxis": {
         "anchor": "x",
         "domain": [
          0,
          1
         ],
         "title": {
          "text": "overlap"
         }
        }
       }
      },
      "text/html": [
       "<div>                            <div id=\"c9488fbc-5ca6-464a-8125-bf144c07a0d9\" class=\"plotly-graph-div\" style=\"height:525px; width:100%;\"></div>            <script type=\"text/javascript\">                require([\"plotly\"], function(Plotly) {                    window.PLOTLYENV=window.PLOTLYENV || {};                                    if (document.getElementById(\"c9488fbc-5ca6-464a-8125-bf144c07a0d9\")) {                    Plotly.newPlot(                        \"c9488fbc-5ca6-464a-8125-bf144c07a0d9\",                        [{\"hovertemplate\":\"experiment=evolutionary algorithm<br>coverage=%{x}<br>overlap=%{y}<extra></extra>\",\"legendgroup\":\"evolutionary algorithm\",\"marker\":{\"color\":\"#19d3f3\",\"symbol\":\"x\",\"opacity\":0.75,\"size\":10},\"mode\":\"markers\",\"name\":\"evolutionary algorithm\",\"orientation\":\"v\",\"showlegend\":true,\"x\":[0.9272971291887995,0.497745348210404,0.6045366296210909,0.7147300550660254,0.7533743947747059,0.8126962634209193,0.8447745158380201,0.8715843502732249,0.8929087808666054],\"xaxis\":\"x\",\"y\":[0.43254472048294906,0.4026269461977487,0.4004516620879482,0.402460614185948,0.40622249187655946,0.44648728423160833,0.40095284857646957,0.41443818693210543,0.40869415822025906],\"yaxis\":\"y\",\"type\":\"scatter\"},{\"hovertemplate\":\"experiment=greedy w fitness<br>coverage=%{x}<br>overlap=%{y}<extra></extra>\",\"legendgroup\":\"greedy w fitness\",\"marker\":{\"color\":\"#FF6692\",\"symbol\":\"x\",\"opacity\":0.75,\"size\":10},\"mode\":\"markers\",\"name\":\"greedy w fitness\",\"orientation\":\"v\",\"showlegend\":true,\"x\":[0.497745348210404,0.6045366296210909,0.6812797813616901,0.7406068533782864,0.78263096464779,0.813095936590269,0.855171382007022,0.8951526383608611,0.9202854683150715],\"xaxis\":\"x\",\"y\":[0.4026269461977487,0.4004516620879482,0.4004516620879482,0.4004516620879482,0.4010851354735194,0.4026269461977487,0.4026269461977487,0.4026269461977487,0.4026269461977487],\"yaxis\":\"y\",\"type\":\"scatter\"}],                        {\"template\":{\"data\":{\"histogram2dcontour\":[{\"type\":\"histogram2dcontour\",\"colorbar\":{\"outlinewidth\":0,\"ticks\":\"\"},\"colorscale\":[[0.0,\"#0d0887\"],[0.1111111111111111,\"#46039f\"],[0.2222222222222222,\"#7201a8\"],[0.3333333333333333,\"#9c179e\"],[0.4444444444444444,\"#bd3786\"],[0.5555555555555556,\"#d8576b\"],[0.6666666666666666,\"#ed7953\"],[0.7777777777777778,\"#fb9f3a\"],[0.8888888888888888,\"#fdca26\"],[1.0,\"#f0f921\"]]}],\"choropleth\":[{\"type\":\"choropleth\",\"colorbar\":{\"outlinewidth\":0,\"ticks\":\"\"}}],\"histogram2d\":[{\"type\":\"histogram2d\",\"colorbar\":{\"outlinewidth\":0,\"ticks\":\"\"},\"colorscale\":[[0.0,\"#0d0887\"],[0.1111111111111111,\"#46039f\"],[0.2222222222222222,\"#7201a8\"],[0.3333333333333333,\"#9c179e\"],[0.4444444444444444,\"#bd3786\"],[0.5555555555555556,\"#d8576b\"],[0.6666666666666666,\"#ed7953\"],[0.7777777777777778,\"#fb9f3a\"],[0.8888888888888888,\"#fdca26\"],[1.0,\"#f0f921\"]]}],\"heatmap\":[{\"type\":\"heatmap\",\"colorbar\":{\"outlinewidth\":0,\"ticks\":\"\"},\"colorscale\":[[0.0,\"#0d0887\"],[0.1111111111111111,\"#46039f\"],[0.2222222222222222,\"#7201a8\"],[0.3333333333333333,\"#9c179e\"],[0.4444444444444444,\"#bd3786\"],[0.5555555555555556,\"#d8576b\"],[0.6666666666666666,\"#ed7953\"],[0.7777777777777778,\"#fb9f3a\"],[0.8888888888888888,\"#fdca26\"],[1.0,\"#f0f921\"]]}],\"heatmapgl\":[{\"type\":\"heatmapgl\",\"colorbar\":{\"outlinewidth\":0,\"ticks\":\"\"},\"colorscale\":[[0.0,\"#0d0887\"],[0.1111111111111111,\"#46039f\"],[0.2222222222222222,\"#7201a8\"],[0.3333333333333333,\"#9c179e\"],[0.4444444444444444,\"#bd3786\"],[0.5555555555555556,\"#d8576b\"],[0.6666666666666666,\"#ed7953\"],[0.7777777777777778,\"#fb9f3a\"],[0.8888888888888888,\"#fdca26\"],[1.0,\"#f0f921\"]]}],\"contourcarpet\":[{\"type\":\"contourcarpet\",\"colorbar\":{\"outlinewidth\":0,\"ticks\":\"\"}}],\"contour\":[{\"type\":\"contour\",\"colorbar\":{\"outlinewidth\":0,\"ticks\":\"\"},\"colorscale\":[[0.0,\"#0d0887\"],[0.1111111111111111,\"#46039f\"],[0.2222222222222222,\"#7201a8\"],[0.3333333333333333,\"#9c179e\"],[0.4444444444444444,\"#bd3786\"],[0.5555555555555556,\"#d8576b\"],[0.6666666666666666,\"#ed7953\"],[0.7777777777777778,\"#fb9f3a\"],[0.8888888888888888,\"#fdca26\"],[1.0,\"#f0f921\"]]}],\"surface\":[{\"type\":\"surface\",\"colorbar\":{\"outlinewidth\":0,\"ticks\":\"\"},\"colorscale\":[[0.0,\"#0d0887\"],[0.1111111111111111,\"#46039f\"],[0.2222222222222222,\"#7201a8\"],[0.3333333333333333,\"#9c179e\"],[0.4444444444444444,\"#bd3786\"],[0.5555555555555556,\"#d8576b\"],[0.6666666666666666,\"#ed7953\"],[0.7777777777777778,\"#fb9f3a\"],[0.8888888888888888,\"#fdca26\"],[1.0,\"#f0f921\"]]}],\"mesh3d\":[{\"type\":\"mesh3d\",\"colorbar\":{\"outlinewidth\":0,\"ticks\":\"\"}}],\"scatter\":[{\"fillpattern\":{\"fillmode\":\"overlay\",\"size\":10,\"solidity\":0.2},\"type\":\"scatter\"}],\"parcoords\":[{\"type\":\"parcoords\",\"line\":{\"colorbar\":{\"outlinewidth\":0,\"ticks\":\"\"}}}],\"scatterpolargl\":[{\"type\":\"scatterpolargl\",\"marker\":{\"colorbar\":{\"outlinewidth\":0,\"ticks\":\"\"}}}],\"bar\":[{\"error_x\":{\"color\":\"#2a3f5f\"},\"error_y\":{\"color\":\"#2a3f5f\"},\"marker\":{\"line\":{\"color\":\"#E5ECF6\",\"width\":0.5},\"pattern\":{\"fillmode\":\"overlay\",\"size\":10,\"solidity\":0.2}},\"type\":\"bar\"}],\"scattergeo\":[{\"type\":\"scattergeo\",\"marker\":{\"colorbar\":{\"outlinewidth\":0,\"ticks\":\"\"}}}],\"scatterpolar\":[{\"type\":\"scatterpolar\",\"marker\":{\"colorbar\":{\"outlinewidth\":0,\"ticks\":\"\"}}}],\"histogram\":[{\"marker\":{\"pattern\":{\"fillmode\":\"overlay\",\"size\":10,\"solidity\":0.2}},\"type\":\"histogram\"}],\"scattergl\":[{\"type\":\"scattergl\",\"marker\":{\"colorbar\":{\"outlinewidth\":0,\"ticks\":\"\"}}}],\"scatter3d\":[{\"type\":\"scatter3d\",\"line\":{\"colorbar\":{\"outlinewidth\":0,\"ticks\":\"\"}},\"marker\":{\"colorbar\":{\"outlinewidth\":0,\"ticks\":\"\"}}}],\"scattermapbox\":[{\"type\":\"scattermapbox\",\"marker\":{\"colorbar\":{\"outlinewidth\":0,\"ticks\":\"\"}}}],\"scatterternary\":[{\"type\":\"scatterternary\",\"marker\":{\"colorbar\":{\"outlinewidth\":0,\"ticks\":\"\"}}}],\"scattercarpet\":[{\"type\":\"scattercarpet\",\"marker\":{\"colorbar\":{\"outlinewidth\":0,\"ticks\":\"\"}}}],\"carpet\":[{\"aaxis\":{\"endlinecolor\":\"#2a3f5f\",\"gridcolor\":\"white\",\"linecolor\":\"white\",\"minorgridcolor\":\"white\",\"startlinecolor\":\"#2a3f5f\"},\"baxis\":{\"endlinecolor\":\"#2a3f5f\",\"gridcolor\":\"white\",\"linecolor\":\"white\",\"minorgridcolor\":\"white\",\"startlinecolor\":\"#2a3f5f\"},\"type\":\"carpet\"}],\"table\":[{\"cells\":{\"fill\":{\"color\":\"#EBF0F8\"},\"line\":{\"color\":\"white\"}},\"header\":{\"fill\":{\"color\":\"#C8D4E3\"},\"line\":{\"color\":\"white\"}},\"type\":\"table\"}],\"barpolar\":[{\"marker\":{\"line\":{\"color\":\"#E5ECF6\",\"width\":0.5},\"pattern\":{\"fillmode\":\"overlay\",\"size\":10,\"solidity\":0.2}},\"type\":\"barpolar\"}],\"pie\":[{\"automargin\":true,\"type\":\"pie\"}]},\"layout\":{\"autotypenumbers\":\"strict\",\"colorway\":[\"#636efa\",\"#EF553B\",\"#00cc96\",\"#ab63fa\",\"#FFA15A\",\"#19d3f3\",\"#FF6692\",\"#B6E880\",\"#FF97FF\",\"#FECB52\"],\"font\":{\"color\":\"#2a3f5f\"},\"hovermode\":\"closest\",\"hoverlabel\":{\"align\":\"left\"},\"paper_bgcolor\":\"white\",\"plot_bgcolor\":\"#E5ECF6\",\"polar\":{\"bgcolor\":\"#E5ECF6\",\"angularaxis\":{\"gridcolor\":\"white\",\"linecolor\":\"white\",\"ticks\":\"\"},\"radialaxis\":{\"gridcolor\":\"white\",\"linecolor\":\"white\",\"ticks\":\"\"}},\"ternary\":{\"bgcolor\":\"#E5ECF6\",\"aaxis\":{\"gridcolor\":\"white\",\"linecolor\":\"white\",\"ticks\":\"\"},\"baxis\":{\"gridcolor\":\"white\",\"linecolor\":\"white\",\"ticks\":\"\"},\"caxis\":{\"gridcolor\":\"white\",\"linecolor\":\"white\",\"ticks\":\"\"}},\"coloraxis\":{\"colorbar\":{\"outlinewidth\":0,\"ticks\":\"\"}},\"colorscale\":{\"sequential\":[[0.0,\"#0d0887\"],[0.1111111111111111,\"#46039f\"],[0.2222222222222222,\"#7201a8\"],[0.3333333333333333,\"#9c179e\"],[0.4444444444444444,\"#bd3786\"],[0.5555555555555556,\"#d8576b\"],[0.6666666666666666,\"#ed7953\"],[0.7777777777777778,\"#fb9f3a\"],[0.8888888888888888,\"#fdca26\"],[1.0,\"#f0f921\"]],\"sequentialminus\":[[0.0,\"#0d0887\"],[0.1111111111111111,\"#46039f\"],[0.2222222222222222,\"#7201a8\"],[0.3333333333333333,\"#9c179e\"],[0.4444444444444444,\"#bd3786\"],[0.5555555555555556,\"#d8576b\"],[0.6666666666666666,\"#ed7953\"],[0.7777777777777778,\"#fb9f3a\"],[0.8888888888888888,\"#fdca26\"],[1.0,\"#f0f921\"]],\"diverging\":[[0,\"#8e0152\"],[0.1,\"#c51b7d\"],[0.2,\"#de77ae\"],[0.3,\"#f1b6da\"],[0.4,\"#fde0ef\"],[0.5,\"#f7f7f7\"],[0.6,\"#e6f5d0\"],[0.7,\"#b8e186\"],[0.8,\"#7fbc41\"],[0.9,\"#4d9221\"],[1,\"#276419\"]]},\"xaxis\":{\"gridcolor\":\"white\",\"linecolor\":\"white\",\"ticks\":\"\",\"title\":{\"standoff\":15},\"zerolinecolor\":\"white\",\"automargin\":true,\"zerolinewidth\":2},\"yaxis\":{\"gridcolor\":\"white\",\"linecolor\":\"white\",\"ticks\":\"\",\"title\":{\"standoff\":15},\"zerolinecolor\":\"white\",\"automargin\":true,\"zerolinewidth\":2},\"scene\":{\"xaxis\":{\"backgroundcolor\":\"#E5ECF6\",\"gridcolor\":\"white\",\"linecolor\":\"white\",\"showbackground\":true,\"ticks\":\"\",\"zerolinecolor\":\"white\",\"gridwidth\":2},\"yaxis\":{\"backgroundcolor\":\"#E5ECF6\",\"gridcolor\":\"white\",\"linecolor\":\"white\",\"showbackground\":true,\"ticks\":\"\",\"zerolinecolor\":\"white\",\"gridwidth\":2},\"zaxis\":{\"backgroundcolor\":\"#E5ECF6\",\"gridcolor\":\"white\",\"linecolor\":\"white\",\"showbackground\":true,\"ticks\":\"\",\"zerolinecolor\":\"white\",\"gridwidth\":2}},\"shapedefaults\":{\"line\":{\"color\":\"#2a3f5f\"}},\"annotationdefaults\":{\"arrowcolor\":\"#2a3f5f\",\"arrowhead\":0,\"arrowwidth\":1},\"geo\":{\"bgcolor\":\"white\",\"landcolor\":\"#E5ECF6\",\"subunitcolor\":\"white\",\"showland\":true,\"showlakes\":true,\"lakecolor\":\"white\"},\"title\":{\"x\":0.05},\"mapbox\":{\"style\":\"light\"}}},\"xaxis\":{\"anchor\":\"y\",\"domain\":[0.0,1.0],\"title\":{\"text\":\"coverage\"}},\"yaxis\":{\"anchor\":\"x\",\"domain\":[0.0,1.0],\"title\":{\"text\":\"overlap\"}},\"legend\":{\"title\":{\"text\":\"experiment\"},\"tracegroupgap\":0},\"margin\":{\"t\":60}},                        {\"responsive\": true}                    ).then(function(){\n",
       "                            \n",
       "var gd = document.getElementById('c9488fbc-5ca6-464a-8125-bf144c07a0d9');\n",
       "var x = new MutationObserver(function (mutations, observer) {{\n",
       "        var display = window.getComputedStyle(gd).display;\n",
       "        if (!display || display === 'none') {{\n",
       "            console.log([gd, 'removed!']);\n",
       "            Plotly.purge(gd);\n",
       "            observer.disconnect();\n",
       "        }}\n",
       "}});\n",
       "\n",
       "// Listen for the removal of the full notebook cells\n",
       "var notebookContainer = gd.closest('#notebook-container');\n",
       "if (notebookContainer) {{\n",
       "    x.observe(notebookContainer, {childList: true});\n",
       "}}\n",
       "\n",
       "// Listen for the clearing of the current output cell\n",
       "var outputEl = gd.closest('.output');\n",
       "if (outputEl) {{\n",
       "    x.observe(outputEl, {childList: true});\n",
       "}}\n",
       "\n",
       "                        })                };                });            </script>        </div>"
      ]
     },
     "metadata": {},
     "output_type": "display_data"
    }
   ],
   "source": [
    "fig = px.scatter(f, x=\"coverage\", y=\"overlap\",\n",
    "                        color_discrete_map={\n",
    "                            \"random initial\": \"grey\",\n",
    "                            \"greedy best first\": \"orange\",\n",
    "                            \"greedy weighted\": \"yellow\",\n",
    "                            \"GA 1\": \"blue\",\n",
    "                            \"GA 6\": \"purple\"\n",
    "                        },\n",
    "                        color=f[\"experiment\"]\n",
    "                        )\n",
    "\n",
    "fig.update_traces(marker=dict(size=10, opacity=0.75, symbol='x')) #colorscale='temps', color=f[\"source\"], opacity=0.75))\n",
    "fig.show()"
   ]
  },
  {
   "cell_type": "code",
   "execution_count": 13,
   "id": "7e4365da",
   "metadata": {},
   "outputs": [
    {
     "data": {
      "application/vnd.plotly.v1+json": {
       "config": {
        "plotlyServerURL": "https://plot.ly"
       },
       "data": [
        {
         "hovertemplate": "experiment=evolutionary algorithm<br>coverage=%{x}<br>overlap=%{y}<extra></extra>",
         "legendgroup": "evolutionary algorithm",
         "marker": {
          "color": "#19d3f3",
          "opacity": 0.75,
          "size": 10,
          "symbol": "x"
         },
         "mode": "markers",
         "name": "evolutionary algorithm",
         "orientation": "v",
         "showlegend": true,
         "type": "scatter",
         "x": [
          0.9272971291887995,
          0.497745348210404,
          0.6045366296210909,
          0.7147300550660254,
          0.7533743947747059,
          0.8126962634209193,
          0.8447745158380201,
          0.8715843502732249,
          0.8929087808666054
         ],
         "xaxis": "x",
         "y": [
          0.43254472048294906,
          0.4026269461977487,
          0.4004516620879482,
          0.402460614185948,
          0.40622249187655946,
          0.44648728423160833,
          0.40095284857646957,
          0.41443818693210543,
          0.40869415822025906
         ],
         "yaxis": "y"
        },
        {
         "hovertemplate": "experiment=greedy w fitness<br>coverage=%{x}<br>overlap=%{y}<extra></extra>",
         "legendgroup": "greedy w fitness",
         "marker": {
          "color": "#FF6692",
          "opacity": 0.75,
          "size": 10,
          "symbol": "x"
         },
         "mode": "markers",
         "name": "greedy w fitness",
         "orientation": "v",
         "showlegend": true,
         "type": "scatter",
         "x": [
          0.497745348210404,
          0.6045366296210909,
          0.6812797813616901,
          0.7406068533782864,
          0.78263096464779,
          0.813095936590269,
          0.855171382007022,
          0.8951526383608611,
          0.9202854683150715
         ],
         "xaxis": "x",
         "y": [
          0.4026269461977487,
          0.4004516620879482,
          0.4004516620879482,
          0.4004516620879482,
          0.4010851354735194,
          0.4026269461977487,
          0.4026269461977487,
          0.4026269461977487,
          0.4026269461977487
         ],
         "yaxis": "y"
        }
       ],
       "layout": {
        "legend": {
         "title": {
          "text": "experiment"
         },
         "tracegroupgap": 0
        },
        "margin": {
         "t": 60
        },
        "template": {
         "data": {
          "bar": [
           {
            "error_x": {
             "color": "#2a3f5f"
            },
            "error_y": {
             "color": "#2a3f5f"
            },
            "marker": {
             "line": {
              "color": "#E5ECF6",
              "width": 0.5
             },
             "pattern": {
              "fillmode": "overlay",
              "size": 10,
              "solidity": 0.2
             }
            },
            "type": "bar"
           }
          ],
          "barpolar": [
           {
            "marker": {
             "line": {
              "color": "#E5ECF6",
              "width": 0.5
             },
             "pattern": {
              "fillmode": "overlay",
              "size": 10,
              "solidity": 0.2
             }
            },
            "type": "barpolar"
           }
          ],
          "carpet": [
           {
            "aaxis": {
             "endlinecolor": "#2a3f5f",
             "gridcolor": "white",
             "linecolor": "white",
             "minorgridcolor": "white",
             "startlinecolor": "#2a3f5f"
            },
            "baxis": {
             "endlinecolor": "#2a3f5f",
             "gridcolor": "white",
             "linecolor": "white",
             "minorgridcolor": "white",
             "startlinecolor": "#2a3f5f"
            },
            "type": "carpet"
           }
          ],
          "choropleth": [
           {
            "colorbar": {
             "outlinewidth": 0,
             "ticks": ""
            },
            "type": "choropleth"
           }
          ],
          "contour": [
           {
            "colorbar": {
             "outlinewidth": 0,
             "ticks": ""
            },
            "colorscale": [
             [
              0,
              "#0d0887"
             ],
             [
              0.1111111111111111,
              "#46039f"
             ],
             [
              0.2222222222222222,
              "#7201a8"
             ],
             [
              0.3333333333333333,
              "#9c179e"
             ],
             [
              0.4444444444444444,
              "#bd3786"
             ],
             [
              0.5555555555555556,
              "#d8576b"
             ],
             [
              0.6666666666666666,
              "#ed7953"
             ],
             [
              0.7777777777777778,
              "#fb9f3a"
             ],
             [
              0.8888888888888888,
              "#fdca26"
             ],
             [
              1,
              "#f0f921"
             ]
            ],
            "type": "contour"
           }
          ],
          "contourcarpet": [
           {
            "colorbar": {
             "outlinewidth": 0,
             "ticks": ""
            },
            "type": "contourcarpet"
           }
          ],
          "heatmap": [
           {
            "colorbar": {
             "outlinewidth": 0,
             "ticks": ""
            },
            "colorscale": [
             [
              0,
              "#0d0887"
             ],
             [
              0.1111111111111111,
              "#46039f"
             ],
             [
              0.2222222222222222,
              "#7201a8"
             ],
             [
              0.3333333333333333,
              "#9c179e"
             ],
             [
              0.4444444444444444,
              "#bd3786"
             ],
             [
              0.5555555555555556,
              "#d8576b"
             ],
             [
              0.6666666666666666,
              "#ed7953"
             ],
             [
              0.7777777777777778,
              "#fb9f3a"
             ],
             [
              0.8888888888888888,
              "#fdca26"
             ],
             [
              1,
              "#f0f921"
             ]
            ],
            "type": "heatmap"
           }
          ],
          "heatmapgl": [
           {
            "colorbar": {
             "outlinewidth": 0,
             "ticks": ""
            },
            "colorscale": [
             [
              0,
              "#0d0887"
             ],
             [
              0.1111111111111111,
              "#46039f"
             ],
             [
              0.2222222222222222,
              "#7201a8"
             ],
             [
              0.3333333333333333,
              "#9c179e"
             ],
             [
              0.4444444444444444,
              "#bd3786"
             ],
             [
              0.5555555555555556,
              "#d8576b"
             ],
             [
              0.6666666666666666,
              "#ed7953"
             ],
             [
              0.7777777777777778,
              "#fb9f3a"
             ],
             [
              0.8888888888888888,
              "#fdca26"
             ],
             [
              1,
              "#f0f921"
             ]
            ],
            "type": "heatmapgl"
           }
          ],
          "histogram": [
           {
            "marker": {
             "pattern": {
              "fillmode": "overlay",
              "size": 10,
              "solidity": 0.2
             }
            },
            "type": "histogram"
           }
          ],
          "histogram2d": [
           {
            "colorbar": {
             "outlinewidth": 0,
             "ticks": ""
            },
            "colorscale": [
             [
              0,
              "#0d0887"
             ],
             [
              0.1111111111111111,
              "#46039f"
             ],
             [
              0.2222222222222222,
              "#7201a8"
             ],
             [
              0.3333333333333333,
              "#9c179e"
             ],
             [
              0.4444444444444444,
              "#bd3786"
             ],
             [
              0.5555555555555556,
              "#d8576b"
             ],
             [
              0.6666666666666666,
              "#ed7953"
             ],
             [
              0.7777777777777778,
              "#fb9f3a"
             ],
             [
              0.8888888888888888,
              "#fdca26"
             ],
             [
              1,
              "#f0f921"
             ]
            ],
            "type": "histogram2d"
           }
          ],
          "histogram2dcontour": [
           {
            "colorbar": {
             "outlinewidth": 0,
             "ticks": ""
            },
            "colorscale": [
             [
              0,
              "#0d0887"
             ],
             [
              0.1111111111111111,
              "#46039f"
             ],
             [
              0.2222222222222222,
              "#7201a8"
             ],
             [
              0.3333333333333333,
              "#9c179e"
             ],
             [
              0.4444444444444444,
              "#bd3786"
             ],
             [
              0.5555555555555556,
              "#d8576b"
             ],
             [
              0.6666666666666666,
              "#ed7953"
             ],
             [
              0.7777777777777778,
              "#fb9f3a"
             ],
             [
              0.8888888888888888,
              "#fdca26"
             ],
             [
              1,
              "#f0f921"
             ]
            ],
            "type": "histogram2dcontour"
           }
          ],
          "mesh3d": [
           {
            "colorbar": {
             "outlinewidth": 0,
             "ticks": ""
            },
            "type": "mesh3d"
           }
          ],
          "parcoords": [
           {
            "line": {
             "colorbar": {
              "outlinewidth": 0,
              "ticks": ""
             }
            },
            "type": "parcoords"
           }
          ],
          "pie": [
           {
            "automargin": true,
            "type": "pie"
           }
          ],
          "scatter": [
           {
            "fillpattern": {
             "fillmode": "overlay",
             "size": 10,
             "solidity": 0.2
            },
            "type": "scatter"
           }
          ],
          "scatter3d": [
           {
            "line": {
             "colorbar": {
              "outlinewidth": 0,
              "ticks": ""
             }
            },
            "marker": {
             "colorbar": {
              "outlinewidth": 0,
              "ticks": ""
             }
            },
            "type": "scatter3d"
           }
          ],
          "scattercarpet": [
           {
            "marker": {
             "colorbar": {
              "outlinewidth": 0,
              "ticks": ""
             }
            },
            "type": "scattercarpet"
           }
          ],
          "scattergeo": [
           {
            "marker": {
             "colorbar": {
              "outlinewidth": 0,
              "ticks": ""
             }
            },
            "type": "scattergeo"
           }
          ],
          "scattergl": [
           {
            "marker": {
             "colorbar": {
              "outlinewidth": 0,
              "ticks": ""
             }
            },
            "type": "scattergl"
           }
          ],
          "scattermapbox": [
           {
            "marker": {
             "colorbar": {
              "outlinewidth": 0,
              "ticks": ""
             }
            },
            "type": "scattermapbox"
           }
          ],
          "scatterpolar": [
           {
            "marker": {
             "colorbar": {
              "outlinewidth": 0,
              "ticks": ""
             }
            },
            "type": "scatterpolar"
           }
          ],
          "scatterpolargl": [
           {
            "marker": {
             "colorbar": {
              "outlinewidth": 0,
              "ticks": ""
             }
            },
            "type": "scatterpolargl"
           }
          ],
          "scatterternary": [
           {
            "marker": {
             "colorbar": {
              "outlinewidth": 0,
              "ticks": ""
             }
            },
            "type": "scatterternary"
           }
          ],
          "surface": [
           {
            "colorbar": {
             "outlinewidth": 0,
             "ticks": ""
            },
            "colorscale": [
             [
              0,
              "#0d0887"
             ],
             [
              0.1111111111111111,
              "#46039f"
             ],
             [
              0.2222222222222222,
              "#7201a8"
             ],
             [
              0.3333333333333333,
              "#9c179e"
             ],
             [
              0.4444444444444444,
              "#bd3786"
             ],
             [
              0.5555555555555556,
              "#d8576b"
             ],
             [
              0.6666666666666666,
              "#ed7953"
             ],
             [
              0.7777777777777778,
              "#fb9f3a"
             ],
             [
              0.8888888888888888,
              "#fdca26"
             ],
             [
              1,
              "#f0f921"
             ]
            ],
            "type": "surface"
           }
          ],
          "table": [
           {
            "cells": {
             "fill": {
              "color": "#EBF0F8"
             },
             "line": {
              "color": "white"
             }
            },
            "header": {
             "fill": {
              "color": "#C8D4E3"
             },
             "line": {
              "color": "white"
             }
            },
            "type": "table"
           }
          ]
         },
         "layout": {
          "annotationdefaults": {
           "arrowcolor": "#2a3f5f",
           "arrowhead": 0,
           "arrowwidth": 1
          },
          "autotypenumbers": "strict",
          "coloraxis": {
           "colorbar": {
            "outlinewidth": 0,
            "ticks": ""
           }
          },
          "colorscale": {
           "diverging": [
            [
             0,
             "#8e0152"
            ],
            [
             0.1,
             "#c51b7d"
            ],
            [
             0.2,
             "#de77ae"
            ],
            [
             0.3,
             "#f1b6da"
            ],
            [
             0.4,
             "#fde0ef"
            ],
            [
             0.5,
             "#f7f7f7"
            ],
            [
             0.6,
             "#e6f5d0"
            ],
            [
             0.7,
             "#b8e186"
            ],
            [
             0.8,
             "#7fbc41"
            ],
            [
             0.9,
             "#4d9221"
            ],
            [
             1,
             "#276419"
            ]
           ],
           "sequential": [
            [
             0,
             "#0d0887"
            ],
            [
             0.1111111111111111,
             "#46039f"
            ],
            [
             0.2222222222222222,
             "#7201a8"
            ],
            [
             0.3333333333333333,
             "#9c179e"
            ],
            [
             0.4444444444444444,
             "#bd3786"
            ],
            [
             0.5555555555555556,
             "#d8576b"
            ],
            [
             0.6666666666666666,
             "#ed7953"
            ],
            [
             0.7777777777777778,
             "#fb9f3a"
            ],
            [
             0.8888888888888888,
             "#fdca26"
            ],
            [
             1,
             "#f0f921"
            ]
           ],
           "sequentialminus": [
            [
             0,
             "#0d0887"
            ],
            [
             0.1111111111111111,
             "#46039f"
            ],
            [
             0.2222222222222222,
             "#7201a8"
            ],
            [
             0.3333333333333333,
             "#9c179e"
            ],
            [
             0.4444444444444444,
             "#bd3786"
            ],
            [
             0.5555555555555556,
             "#d8576b"
            ],
            [
             0.6666666666666666,
             "#ed7953"
            ],
            [
             0.7777777777777778,
             "#fb9f3a"
            ],
            [
             0.8888888888888888,
             "#fdca26"
            ],
            [
             1,
             "#f0f921"
            ]
           ]
          },
          "colorway": [
           "#636efa",
           "#EF553B",
           "#00cc96",
           "#ab63fa",
           "#FFA15A",
           "#19d3f3",
           "#FF6692",
           "#B6E880",
           "#FF97FF",
           "#FECB52"
          ],
          "font": {
           "color": "#2a3f5f"
          },
          "geo": {
           "bgcolor": "white",
           "lakecolor": "white",
           "landcolor": "#E5ECF6",
           "showlakes": true,
           "showland": true,
           "subunitcolor": "white"
          },
          "hoverlabel": {
           "align": "left"
          },
          "hovermode": "closest",
          "mapbox": {
           "style": "light"
          },
          "paper_bgcolor": "white",
          "plot_bgcolor": "#E5ECF6",
          "polar": {
           "angularaxis": {
            "gridcolor": "white",
            "linecolor": "white",
            "ticks": ""
           },
           "bgcolor": "#E5ECF6",
           "radialaxis": {
            "gridcolor": "white",
            "linecolor": "white",
            "ticks": ""
           }
          },
          "scene": {
           "xaxis": {
            "backgroundcolor": "#E5ECF6",
            "gridcolor": "white",
            "gridwidth": 2,
            "linecolor": "white",
            "showbackground": true,
            "ticks": "",
            "zerolinecolor": "white"
           },
           "yaxis": {
            "backgroundcolor": "#E5ECF6",
            "gridcolor": "white",
            "gridwidth": 2,
            "linecolor": "white",
            "showbackground": true,
            "ticks": "",
            "zerolinecolor": "white"
           },
           "zaxis": {
            "backgroundcolor": "#E5ECF6",
            "gridcolor": "white",
            "gridwidth": 2,
            "linecolor": "white",
            "showbackground": true,
            "ticks": "",
            "zerolinecolor": "white"
           }
          },
          "shapedefaults": {
           "line": {
            "color": "#2a3f5f"
           }
          },
          "ternary": {
           "aaxis": {
            "gridcolor": "white",
            "linecolor": "white",
            "ticks": ""
           },
           "baxis": {
            "gridcolor": "white",
            "linecolor": "white",
            "ticks": ""
           },
           "bgcolor": "#E5ECF6",
           "caxis": {
            "gridcolor": "white",
            "linecolor": "white",
            "ticks": ""
           }
          },
          "title": {
           "x": 0.05
          },
          "xaxis": {
           "automargin": true,
           "gridcolor": "white",
           "linecolor": "white",
           "ticks": "",
           "title": {
            "standoff": 15
           },
           "zerolinecolor": "white",
           "zerolinewidth": 2
          },
          "yaxis": {
           "automargin": true,
           "gridcolor": "white",
           "linecolor": "white",
           "ticks": "",
           "title": {
            "standoff": 15
           },
           "zerolinecolor": "white",
           "zerolinewidth": 2
          }
         }
        },
        "xaxis": {
         "anchor": "y",
         "domain": [
          0,
          1
         ],
         "title": {
          "text": "coverage"
         }
        },
        "yaxis": {
         "anchor": "x",
         "domain": [
          0,
          1
         ],
         "title": {
          "text": "overlap"
         }
        }
       }
      },
      "text/html": [
       "<div>                            <div id=\"25a56ae4-82b6-4a5b-86ae-21148b612c25\" class=\"plotly-graph-div\" style=\"height:525px; width:100%;\"></div>            <script type=\"text/javascript\">                require([\"plotly\"], function(Plotly) {                    window.PLOTLYENV=window.PLOTLYENV || {};                                    if (document.getElementById(\"25a56ae4-82b6-4a5b-86ae-21148b612c25\")) {                    Plotly.newPlot(                        \"25a56ae4-82b6-4a5b-86ae-21148b612c25\",                        [{\"hovertemplate\":\"experiment=evolutionary algorithm<br>coverage=%{x}<br>overlap=%{y}<extra></extra>\",\"legendgroup\":\"evolutionary algorithm\",\"marker\":{\"color\":\"#19d3f3\",\"symbol\":\"x\",\"opacity\":0.75,\"size\":10},\"mode\":\"markers\",\"name\":\"evolutionary algorithm\",\"orientation\":\"v\",\"showlegend\":true,\"x\":[0.9272971291887995,0.497745348210404,0.6045366296210909,0.7147300550660254,0.7533743947747059,0.8126962634209193,0.8447745158380201,0.8715843502732249,0.8929087808666054],\"xaxis\":\"x\",\"y\":[0.43254472048294906,0.4026269461977487,0.4004516620879482,0.402460614185948,0.40622249187655946,0.44648728423160833,0.40095284857646957,0.41443818693210543,0.40869415822025906],\"yaxis\":\"y\",\"type\":\"scatter\"},{\"hovertemplate\":\"experiment=greedy w fitness<br>coverage=%{x}<br>overlap=%{y}<extra></extra>\",\"legendgroup\":\"greedy w fitness\",\"marker\":{\"color\":\"#FF6692\",\"symbol\":\"x\",\"opacity\":0.75,\"size\":10},\"mode\":\"markers\",\"name\":\"greedy w fitness\",\"orientation\":\"v\",\"showlegend\":true,\"x\":[0.497745348210404,0.6045366296210909,0.6812797813616901,0.7406068533782864,0.78263096464779,0.813095936590269,0.855171382007022,0.8951526383608611,0.9202854683150715],\"xaxis\":\"x\",\"y\":[0.4026269461977487,0.4004516620879482,0.4004516620879482,0.4004516620879482,0.4010851354735194,0.4026269461977487,0.4026269461977487,0.4026269461977487,0.4026269461977487],\"yaxis\":\"y\",\"type\":\"scatter\"}],                        {\"template\":{\"data\":{\"histogram2dcontour\":[{\"type\":\"histogram2dcontour\",\"colorbar\":{\"outlinewidth\":0,\"ticks\":\"\"},\"colorscale\":[[0.0,\"#0d0887\"],[0.1111111111111111,\"#46039f\"],[0.2222222222222222,\"#7201a8\"],[0.3333333333333333,\"#9c179e\"],[0.4444444444444444,\"#bd3786\"],[0.5555555555555556,\"#d8576b\"],[0.6666666666666666,\"#ed7953\"],[0.7777777777777778,\"#fb9f3a\"],[0.8888888888888888,\"#fdca26\"],[1.0,\"#f0f921\"]]}],\"choropleth\":[{\"type\":\"choropleth\",\"colorbar\":{\"outlinewidth\":0,\"ticks\":\"\"}}],\"histogram2d\":[{\"type\":\"histogram2d\",\"colorbar\":{\"outlinewidth\":0,\"ticks\":\"\"},\"colorscale\":[[0.0,\"#0d0887\"],[0.1111111111111111,\"#46039f\"],[0.2222222222222222,\"#7201a8\"],[0.3333333333333333,\"#9c179e\"],[0.4444444444444444,\"#bd3786\"],[0.5555555555555556,\"#d8576b\"],[0.6666666666666666,\"#ed7953\"],[0.7777777777777778,\"#fb9f3a\"],[0.8888888888888888,\"#fdca26\"],[1.0,\"#f0f921\"]]}],\"heatmap\":[{\"type\":\"heatmap\",\"colorbar\":{\"outlinewidth\":0,\"ticks\":\"\"},\"colorscale\":[[0.0,\"#0d0887\"],[0.1111111111111111,\"#46039f\"],[0.2222222222222222,\"#7201a8\"],[0.3333333333333333,\"#9c179e\"],[0.4444444444444444,\"#bd3786\"],[0.5555555555555556,\"#d8576b\"],[0.6666666666666666,\"#ed7953\"],[0.7777777777777778,\"#fb9f3a\"],[0.8888888888888888,\"#fdca26\"],[1.0,\"#f0f921\"]]}],\"heatmapgl\":[{\"type\":\"heatmapgl\",\"colorbar\":{\"outlinewidth\":0,\"ticks\":\"\"},\"colorscale\":[[0.0,\"#0d0887\"],[0.1111111111111111,\"#46039f\"],[0.2222222222222222,\"#7201a8\"],[0.3333333333333333,\"#9c179e\"],[0.4444444444444444,\"#bd3786\"],[0.5555555555555556,\"#d8576b\"],[0.6666666666666666,\"#ed7953\"],[0.7777777777777778,\"#fb9f3a\"],[0.8888888888888888,\"#fdca26\"],[1.0,\"#f0f921\"]]}],\"contourcarpet\":[{\"type\":\"contourcarpet\",\"colorbar\":{\"outlinewidth\":0,\"ticks\":\"\"}}],\"contour\":[{\"type\":\"contour\",\"colorbar\":{\"outlinewidth\":0,\"ticks\":\"\"},\"colorscale\":[[0.0,\"#0d0887\"],[0.1111111111111111,\"#46039f\"],[0.2222222222222222,\"#7201a8\"],[0.3333333333333333,\"#9c179e\"],[0.4444444444444444,\"#bd3786\"],[0.5555555555555556,\"#d8576b\"],[0.6666666666666666,\"#ed7953\"],[0.7777777777777778,\"#fb9f3a\"],[0.8888888888888888,\"#fdca26\"],[1.0,\"#f0f921\"]]}],\"surface\":[{\"type\":\"surface\",\"colorbar\":{\"outlinewidth\":0,\"ticks\":\"\"},\"colorscale\":[[0.0,\"#0d0887\"],[0.1111111111111111,\"#46039f\"],[0.2222222222222222,\"#7201a8\"],[0.3333333333333333,\"#9c179e\"],[0.4444444444444444,\"#bd3786\"],[0.5555555555555556,\"#d8576b\"],[0.6666666666666666,\"#ed7953\"],[0.7777777777777778,\"#fb9f3a\"],[0.8888888888888888,\"#fdca26\"],[1.0,\"#f0f921\"]]}],\"mesh3d\":[{\"type\":\"mesh3d\",\"colorbar\":{\"outlinewidth\":0,\"ticks\":\"\"}}],\"scatter\":[{\"fillpattern\":{\"fillmode\":\"overlay\",\"size\":10,\"solidity\":0.2},\"type\":\"scatter\"}],\"parcoords\":[{\"type\":\"parcoords\",\"line\":{\"colorbar\":{\"outlinewidth\":0,\"ticks\":\"\"}}}],\"scatterpolargl\":[{\"type\":\"scatterpolargl\",\"marker\":{\"colorbar\":{\"outlinewidth\":0,\"ticks\":\"\"}}}],\"bar\":[{\"error_x\":{\"color\":\"#2a3f5f\"},\"error_y\":{\"color\":\"#2a3f5f\"},\"marker\":{\"line\":{\"color\":\"#E5ECF6\",\"width\":0.5},\"pattern\":{\"fillmode\":\"overlay\",\"size\":10,\"solidity\":0.2}},\"type\":\"bar\"}],\"scattergeo\":[{\"type\":\"scattergeo\",\"marker\":{\"colorbar\":{\"outlinewidth\":0,\"ticks\":\"\"}}}],\"scatterpolar\":[{\"type\":\"scatterpolar\",\"marker\":{\"colorbar\":{\"outlinewidth\":0,\"ticks\":\"\"}}}],\"histogram\":[{\"marker\":{\"pattern\":{\"fillmode\":\"overlay\",\"size\":10,\"solidity\":0.2}},\"type\":\"histogram\"}],\"scattergl\":[{\"type\":\"scattergl\",\"marker\":{\"colorbar\":{\"outlinewidth\":0,\"ticks\":\"\"}}}],\"scatter3d\":[{\"type\":\"scatter3d\",\"line\":{\"colorbar\":{\"outlinewidth\":0,\"ticks\":\"\"}},\"marker\":{\"colorbar\":{\"outlinewidth\":0,\"ticks\":\"\"}}}],\"scattermapbox\":[{\"type\":\"scattermapbox\",\"marker\":{\"colorbar\":{\"outlinewidth\":0,\"ticks\":\"\"}}}],\"scatterternary\":[{\"type\":\"scatterternary\",\"marker\":{\"colorbar\":{\"outlinewidth\":0,\"ticks\":\"\"}}}],\"scattercarpet\":[{\"type\":\"scattercarpet\",\"marker\":{\"colorbar\":{\"outlinewidth\":0,\"ticks\":\"\"}}}],\"carpet\":[{\"aaxis\":{\"endlinecolor\":\"#2a3f5f\",\"gridcolor\":\"white\",\"linecolor\":\"white\",\"minorgridcolor\":\"white\",\"startlinecolor\":\"#2a3f5f\"},\"baxis\":{\"endlinecolor\":\"#2a3f5f\",\"gridcolor\":\"white\",\"linecolor\":\"white\",\"minorgridcolor\":\"white\",\"startlinecolor\":\"#2a3f5f\"},\"type\":\"carpet\"}],\"table\":[{\"cells\":{\"fill\":{\"color\":\"#EBF0F8\"},\"line\":{\"color\":\"white\"}},\"header\":{\"fill\":{\"color\":\"#C8D4E3\"},\"line\":{\"color\":\"white\"}},\"type\":\"table\"}],\"barpolar\":[{\"marker\":{\"line\":{\"color\":\"#E5ECF6\",\"width\":0.5},\"pattern\":{\"fillmode\":\"overlay\",\"size\":10,\"solidity\":0.2}},\"type\":\"barpolar\"}],\"pie\":[{\"automargin\":true,\"type\":\"pie\"}]},\"layout\":{\"autotypenumbers\":\"strict\",\"colorway\":[\"#636efa\",\"#EF553B\",\"#00cc96\",\"#ab63fa\",\"#FFA15A\",\"#19d3f3\",\"#FF6692\",\"#B6E880\",\"#FF97FF\",\"#FECB52\"],\"font\":{\"color\":\"#2a3f5f\"},\"hovermode\":\"closest\",\"hoverlabel\":{\"align\":\"left\"},\"paper_bgcolor\":\"white\",\"plot_bgcolor\":\"#E5ECF6\",\"polar\":{\"bgcolor\":\"#E5ECF6\",\"angularaxis\":{\"gridcolor\":\"white\",\"linecolor\":\"white\",\"ticks\":\"\"},\"radialaxis\":{\"gridcolor\":\"white\",\"linecolor\":\"white\",\"ticks\":\"\"}},\"ternary\":{\"bgcolor\":\"#E5ECF6\",\"aaxis\":{\"gridcolor\":\"white\",\"linecolor\":\"white\",\"ticks\":\"\"},\"baxis\":{\"gridcolor\":\"white\",\"linecolor\":\"white\",\"ticks\":\"\"},\"caxis\":{\"gridcolor\":\"white\",\"linecolor\":\"white\",\"ticks\":\"\"}},\"coloraxis\":{\"colorbar\":{\"outlinewidth\":0,\"ticks\":\"\"}},\"colorscale\":{\"sequential\":[[0.0,\"#0d0887\"],[0.1111111111111111,\"#46039f\"],[0.2222222222222222,\"#7201a8\"],[0.3333333333333333,\"#9c179e\"],[0.4444444444444444,\"#bd3786\"],[0.5555555555555556,\"#d8576b\"],[0.6666666666666666,\"#ed7953\"],[0.7777777777777778,\"#fb9f3a\"],[0.8888888888888888,\"#fdca26\"],[1.0,\"#f0f921\"]],\"sequentialminus\":[[0.0,\"#0d0887\"],[0.1111111111111111,\"#46039f\"],[0.2222222222222222,\"#7201a8\"],[0.3333333333333333,\"#9c179e\"],[0.4444444444444444,\"#bd3786\"],[0.5555555555555556,\"#d8576b\"],[0.6666666666666666,\"#ed7953\"],[0.7777777777777778,\"#fb9f3a\"],[0.8888888888888888,\"#fdca26\"],[1.0,\"#f0f921\"]],\"diverging\":[[0,\"#8e0152\"],[0.1,\"#c51b7d\"],[0.2,\"#de77ae\"],[0.3,\"#f1b6da\"],[0.4,\"#fde0ef\"],[0.5,\"#f7f7f7\"],[0.6,\"#e6f5d0\"],[0.7,\"#b8e186\"],[0.8,\"#7fbc41\"],[0.9,\"#4d9221\"],[1,\"#276419\"]]},\"xaxis\":{\"gridcolor\":\"white\",\"linecolor\":\"white\",\"ticks\":\"\",\"title\":{\"standoff\":15},\"zerolinecolor\":\"white\",\"automargin\":true,\"zerolinewidth\":2},\"yaxis\":{\"gridcolor\":\"white\",\"linecolor\":\"white\",\"ticks\":\"\",\"title\":{\"standoff\":15},\"zerolinecolor\":\"white\",\"automargin\":true,\"zerolinewidth\":2},\"scene\":{\"xaxis\":{\"backgroundcolor\":\"#E5ECF6\",\"gridcolor\":\"white\",\"linecolor\":\"white\",\"showbackground\":true,\"ticks\":\"\",\"zerolinecolor\":\"white\",\"gridwidth\":2},\"yaxis\":{\"backgroundcolor\":\"#E5ECF6\",\"gridcolor\":\"white\",\"linecolor\":\"white\",\"showbackground\":true,\"ticks\":\"\",\"zerolinecolor\":\"white\",\"gridwidth\":2},\"zaxis\":{\"backgroundcolor\":\"#E5ECF6\",\"gridcolor\":\"white\",\"linecolor\":\"white\",\"showbackground\":true,\"ticks\":\"\",\"zerolinecolor\":\"white\",\"gridwidth\":2}},\"shapedefaults\":{\"line\":{\"color\":\"#2a3f5f\"}},\"annotationdefaults\":{\"arrowcolor\":\"#2a3f5f\",\"arrowhead\":0,\"arrowwidth\":1},\"geo\":{\"bgcolor\":\"white\",\"landcolor\":\"#E5ECF6\",\"subunitcolor\":\"white\",\"showland\":true,\"showlakes\":true,\"lakecolor\":\"white\"},\"title\":{\"x\":0.05},\"mapbox\":{\"style\":\"light\"}}},\"xaxis\":{\"anchor\":\"y\",\"domain\":[0.0,1.0],\"title\":{\"text\":\"coverage\"}},\"yaxis\":{\"anchor\":\"x\",\"domain\":[0.0,1.0],\"title\":{\"text\":\"overlap\"}},\"legend\":{\"title\":{\"text\":\"experiment\"},\"tracegroupgap\":0},\"margin\":{\"t\":60}},                        {\"responsive\": true}                    ).then(function(){\n",
       "                            \n",
       "var gd = document.getElementById('25a56ae4-82b6-4a5b-86ae-21148b612c25');\n",
       "var x = new MutationObserver(function (mutations, observer) {{\n",
       "        var display = window.getComputedStyle(gd).display;\n",
       "        if (!display || display === 'none') {{\n",
       "            console.log([gd, 'removed!']);\n",
       "            Plotly.purge(gd);\n",
       "            observer.disconnect();\n",
       "        }}\n",
       "}});\n",
       "\n",
       "// Listen for the removal of the full notebook cells\n",
       "var notebookContainer = gd.closest('#notebook-container');\n",
       "if (notebookContainer) {{\n",
       "    x.observe(notebookContainer, {childList: true});\n",
       "}}\n",
       "\n",
       "// Listen for the clearing of the current output cell\n",
       "var outputEl = gd.closest('.output');\n",
       "if (outputEl) {{\n",
       "    x.observe(outputEl, {childList: true});\n",
       "}}\n",
       "\n",
       "                        })                };                });            </script>        </div>"
      ]
     },
     "metadata": {},
     "output_type": "display_data"
    }
   ],
   "source": [
    "fig = px.scatter(f, x=\"coverage\", y=\"overlap\",\n",
    "                        color_discrete_map={\n",
    "                            \"random initial\": \"grey\",\n",
    "                            \"greedy best first\": \"orange\",\n",
    "                            \"greedy weighted\": \"yellow\",\n",
    "                            \"GA 1\": \"blue\",\n",
    "                            \"GA 6\": \"purple\"\n",
    "                        },\n",
    "                        color=f[\"experiment\"]\n",
    "                        )\n",
    "\n",
    "fig.update_traces(marker=dict(size=10, opacity=0.75, symbol='x')) #colorscale='temps', color=f[\"source\"], opacity=0.75))\n",
    "fig.show()"
   ]
  },
  {
   "cell_type": "code",
   "execution_count": 14,
   "id": "e81b7471",
   "metadata": {},
   "outputs": [
    {
     "data": {
      "application/vnd.plotly.v1+json": {
       "config": {
        "plotlyServerURL": "https://plot.ly"
       },
       "data": [
        {
         "hovertemplate": "experiment=evolutionary algorithm<br>count=%{x}<br>coverage=%{y}<extra></extra>",
         "legendgroup": "evolutionary algorithm",
         "line": {
          "color": "#19d3f3",
          "dash": "solid"
         },
         "marker": {
          "opacity": 0.75,
          "size": 10,
          "symbol": "x"
         },
         "mode": "markers+lines",
         "name": "evolutionary algorithm",
         "orientation": "v",
         "showlegend": true,
         "type": "scatter",
         "x": [
          2,
          3,
          4,
          5,
          6,
          7,
          8,
          9,
          10
         ],
         "xaxis": "x",
         "y": [
          0.497745348210404,
          0.6045366296210909,
          0.7147300550660254,
          0.7533743947747059,
          0.8126962634209193,
          0.8447745158380201,
          0.8715843502732249,
          0.8929087808666054,
          0.9272971291887995
         ],
         "yaxis": "y"
        },
        {
         "hovertemplate": "experiment=greedy w fitness<br>count=%{x}<br>coverage=%{y}<extra></extra>",
         "legendgroup": "greedy w fitness",
         "line": {
          "color": "#FF6692",
          "dash": "solid"
         },
         "marker": {
          "opacity": 0.75,
          "size": 10,
          "symbol": "x"
         },
         "mode": "markers+lines",
         "name": "greedy w fitness",
         "orientation": "v",
         "showlegend": true,
         "type": "scatter",
         "x": [
          2,
          3,
          4,
          5,
          6,
          7,
          8,
          9,
          10
         ],
         "xaxis": "x",
         "y": [
          0.497745348210404,
          0.6045366296210909,
          0.6812797813616901,
          0.7406068533782864,
          0.78263096464779,
          0.813095936590269,
          0.855171382007022,
          0.8951526383608611,
          0.9202854683150715
         ],
         "yaxis": "y"
        }
       ],
       "layout": {
        "legend": {
         "title": {
          "text": "experiment"
         },
         "tracegroupgap": 0
        },
        "margin": {
         "t": 60
        },
        "template": {
         "data": {
          "bar": [
           {
            "error_x": {
             "color": "#2a3f5f"
            },
            "error_y": {
             "color": "#2a3f5f"
            },
            "marker": {
             "line": {
              "color": "#E5ECF6",
              "width": 0.5
             },
             "pattern": {
              "fillmode": "overlay",
              "size": 10,
              "solidity": 0.2
             }
            },
            "type": "bar"
           }
          ],
          "barpolar": [
           {
            "marker": {
             "line": {
              "color": "#E5ECF6",
              "width": 0.5
             },
             "pattern": {
              "fillmode": "overlay",
              "size": 10,
              "solidity": 0.2
             }
            },
            "type": "barpolar"
           }
          ],
          "carpet": [
           {
            "aaxis": {
             "endlinecolor": "#2a3f5f",
             "gridcolor": "white",
             "linecolor": "white",
             "minorgridcolor": "white",
             "startlinecolor": "#2a3f5f"
            },
            "baxis": {
             "endlinecolor": "#2a3f5f",
             "gridcolor": "white",
             "linecolor": "white",
             "minorgridcolor": "white",
             "startlinecolor": "#2a3f5f"
            },
            "type": "carpet"
           }
          ],
          "choropleth": [
           {
            "colorbar": {
             "outlinewidth": 0,
             "ticks": ""
            },
            "type": "choropleth"
           }
          ],
          "contour": [
           {
            "colorbar": {
             "outlinewidth": 0,
             "ticks": ""
            },
            "colorscale": [
             [
              0,
              "#0d0887"
             ],
             [
              0.1111111111111111,
              "#46039f"
             ],
             [
              0.2222222222222222,
              "#7201a8"
             ],
             [
              0.3333333333333333,
              "#9c179e"
             ],
             [
              0.4444444444444444,
              "#bd3786"
             ],
             [
              0.5555555555555556,
              "#d8576b"
             ],
             [
              0.6666666666666666,
              "#ed7953"
             ],
             [
              0.7777777777777778,
              "#fb9f3a"
             ],
             [
              0.8888888888888888,
              "#fdca26"
             ],
             [
              1,
              "#f0f921"
             ]
            ],
            "type": "contour"
           }
          ],
          "contourcarpet": [
           {
            "colorbar": {
             "outlinewidth": 0,
             "ticks": ""
            },
            "type": "contourcarpet"
           }
          ],
          "heatmap": [
           {
            "colorbar": {
             "outlinewidth": 0,
             "ticks": ""
            },
            "colorscale": [
             [
              0,
              "#0d0887"
             ],
             [
              0.1111111111111111,
              "#46039f"
             ],
             [
              0.2222222222222222,
              "#7201a8"
             ],
             [
              0.3333333333333333,
              "#9c179e"
             ],
             [
              0.4444444444444444,
              "#bd3786"
             ],
             [
              0.5555555555555556,
              "#d8576b"
             ],
             [
              0.6666666666666666,
              "#ed7953"
             ],
             [
              0.7777777777777778,
              "#fb9f3a"
             ],
             [
              0.8888888888888888,
              "#fdca26"
             ],
             [
              1,
              "#f0f921"
             ]
            ],
            "type": "heatmap"
           }
          ],
          "heatmapgl": [
           {
            "colorbar": {
             "outlinewidth": 0,
             "ticks": ""
            },
            "colorscale": [
             [
              0,
              "#0d0887"
             ],
             [
              0.1111111111111111,
              "#46039f"
             ],
             [
              0.2222222222222222,
              "#7201a8"
             ],
             [
              0.3333333333333333,
              "#9c179e"
             ],
             [
              0.4444444444444444,
              "#bd3786"
             ],
             [
              0.5555555555555556,
              "#d8576b"
             ],
             [
              0.6666666666666666,
              "#ed7953"
             ],
             [
              0.7777777777777778,
              "#fb9f3a"
             ],
             [
              0.8888888888888888,
              "#fdca26"
             ],
             [
              1,
              "#f0f921"
             ]
            ],
            "type": "heatmapgl"
           }
          ],
          "histogram": [
           {
            "marker": {
             "pattern": {
              "fillmode": "overlay",
              "size": 10,
              "solidity": 0.2
             }
            },
            "type": "histogram"
           }
          ],
          "histogram2d": [
           {
            "colorbar": {
             "outlinewidth": 0,
             "ticks": ""
            },
            "colorscale": [
             [
              0,
              "#0d0887"
             ],
             [
              0.1111111111111111,
              "#46039f"
             ],
             [
              0.2222222222222222,
              "#7201a8"
             ],
             [
              0.3333333333333333,
              "#9c179e"
             ],
             [
              0.4444444444444444,
              "#bd3786"
             ],
             [
              0.5555555555555556,
              "#d8576b"
             ],
             [
              0.6666666666666666,
              "#ed7953"
             ],
             [
              0.7777777777777778,
              "#fb9f3a"
             ],
             [
              0.8888888888888888,
              "#fdca26"
             ],
             [
              1,
              "#f0f921"
             ]
            ],
            "type": "histogram2d"
           }
          ],
          "histogram2dcontour": [
           {
            "colorbar": {
             "outlinewidth": 0,
             "ticks": ""
            },
            "colorscale": [
             [
              0,
              "#0d0887"
             ],
             [
              0.1111111111111111,
              "#46039f"
             ],
             [
              0.2222222222222222,
              "#7201a8"
             ],
             [
              0.3333333333333333,
              "#9c179e"
             ],
             [
              0.4444444444444444,
              "#bd3786"
             ],
             [
              0.5555555555555556,
              "#d8576b"
             ],
             [
              0.6666666666666666,
              "#ed7953"
             ],
             [
              0.7777777777777778,
              "#fb9f3a"
             ],
             [
              0.8888888888888888,
              "#fdca26"
             ],
             [
              1,
              "#f0f921"
             ]
            ],
            "type": "histogram2dcontour"
           }
          ],
          "mesh3d": [
           {
            "colorbar": {
             "outlinewidth": 0,
             "ticks": ""
            },
            "type": "mesh3d"
           }
          ],
          "parcoords": [
           {
            "line": {
             "colorbar": {
              "outlinewidth": 0,
              "ticks": ""
             }
            },
            "type": "parcoords"
           }
          ],
          "pie": [
           {
            "automargin": true,
            "type": "pie"
           }
          ],
          "scatter": [
           {
            "fillpattern": {
             "fillmode": "overlay",
             "size": 10,
             "solidity": 0.2
            },
            "type": "scatter"
           }
          ],
          "scatter3d": [
           {
            "line": {
             "colorbar": {
              "outlinewidth": 0,
              "ticks": ""
             }
            },
            "marker": {
             "colorbar": {
              "outlinewidth": 0,
              "ticks": ""
             }
            },
            "type": "scatter3d"
           }
          ],
          "scattercarpet": [
           {
            "marker": {
             "colorbar": {
              "outlinewidth": 0,
              "ticks": ""
             }
            },
            "type": "scattercarpet"
           }
          ],
          "scattergeo": [
           {
            "marker": {
             "colorbar": {
              "outlinewidth": 0,
              "ticks": ""
             }
            },
            "type": "scattergeo"
           }
          ],
          "scattergl": [
           {
            "marker": {
             "colorbar": {
              "outlinewidth": 0,
              "ticks": ""
             }
            },
            "type": "scattergl"
           }
          ],
          "scattermapbox": [
           {
            "marker": {
             "colorbar": {
              "outlinewidth": 0,
              "ticks": ""
             }
            },
            "type": "scattermapbox"
           }
          ],
          "scatterpolar": [
           {
            "marker": {
             "colorbar": {
              "outlinewidth": 0,
              "ticks": ""
             }
            },
            "type": "scatterpolar"
           }
          ],
          "scatterpolargl": [
           {
            "marker": {
             "colorbar": {
              "outlinewidth": 0,
              "ticks": ""
             }
            },
            "type": "scatterpolargl"
           }
          ],
          "scatterternary": [
           {
            "marker": {
             "colorbar": {
              "outlinewidth": 0,
              "ticks": ""
             }
            },
            "type": "scatterternary"
           }
          ],
          "surface": [
           {
            "colorbar": {
             "outlinewidth": 0,
             "ticks": ""
            },
            "colorscale": [
             [
              0,
              "#0d0887"
             ],
             [
              0.1111111111111111,
              "#46039f"
             ],
             [
              0.2222222222222222,
              "#7201a8"
             ],
             [
              0.3333333333333333,
              "#9c179e"
             ],
             [
              0.4444444444444444,
              "#bd3786"
             ],
             [
              0.5555555555555556,
              "#d8576b"
             ],
             [
              0.6666666666666666,
              "#ed7953"
             ],
             [
              0.7777777777777778,
              "#fb9f3a"
             ],
             [
              0.8888888888888888,
              "#fdca26"
             ],
             [
              1,
              "#f0f921"
             ]
            ],
            "type": "surface"
           }
          ],
          "table": [
           {
            "cells": {
             "fill": {
              "color": "#EBF0F8"
             },
             "line": {
              "color": "white"
             }
            },
            "header": {
             "fill": {
              "color": "#C8D4E3"
             },
             "line": {
              "color": "white"
             }
            },
            "type": "table"
           }
          ]
         },
         "layout": {
          "annotationdefaults": {
           "arrowcolor": "#2a3f5f",
           "arrowhead": 0,
           "arrowwidth": 1
          },
          "autotypenumbers": "strict",
          "coloraxis": {
           "colorbar": {
            "outlinewidth": 0,
            "ticks": ""
           }
          },
          "colorscale": {
           "diverging": [
            [
             0,
             "#8e0152"
            ],
            [
             0.1,
             "#c51b7d"
            ],
            [
             0.2,
             "#de77ae"
            ],
            [
             0.3,
             "#f1b6da"
            ],
            [
             0.4,
             "#fde0ef"
            ],
            [
             0.5,
             "#f7f7f7"
            ],
            [
             0.6,
             "#e6f5d0"
            ],
            [
             0.7,
             "#b8e186"
            ],
            [
             0.8,
             "#7fbc41"
            ],
            [
             0.9,
             "#4d9221"
            ],
            [
             1,
             "#276419"
            ]
           ],
           "sequential": [
            [
             0,
             "#0d0887"
            ],
            [
             0.1111111111111111,
             "#46039f"
            ],
            [
             0.2222222222222222,
             "#7201a8"
            ],
            [
             0.3333333333333333,
             "#9c179e"
            ],
            [
             0.4444444444444444,
             "#bd3786"
            ],
            [
             0.5555555555555556,
             "#d8576b"
            ],
            [
             0.6666666666666666,
             "#ed7953"
            ],
            [
             0.7777777777777778,
             "#fb9f3a"
            ],
            [
             0.8888888888888888,
             "#fdca26"
            ],
            [
             1,
             "#f0f921"
            ]
           ],
           "sequentialminus": [
            [
             0,
             "#0d0887"
            ],
            [
             0.1111111111111111,
             "#46039f"
            ],
            [
             0.2222222222222222,
             "#7201a8"
            ],
            [
             0.3333333333333333,
             "#9c179e"
            ],
            [
             0.4444444444444444,
             "#bd3786"
            ],
            [
             0.5555555555555556,
             "#d8576b"
            ],
            [
             0.6666666666666666,
             "#ed7953"
            ],
            [
             0.7777777777777778,
             "#fb9f3a"
            ],
            [
             0.8888888888888888,
             "#fdca26"
            ],
            [
             1,
             "#f0f921"
            ]
           ]
          },
          "colorway": [
           "#636efa",
           "#EF553B",
           "#00cc96",
           "#ab63fa",
           "#FFA15A",
           "#19d3f3",
           "#FF6692",
           "#B6E880",
           "#FF97FF",
           "#FECB52"
          ],
          "font": {
           "color": "#2a3f5f"
          },
          "geo": {
           "bgcolor": "white",
           "lakecolor": "white",
           "landcolor": "#E5ECF6",
           "showlakes": true,
           "showland": true,
           "subunitcolor": "white"
          },
          "hoverlabel": {
           "align": "left"
          },
          "hovermode": "closest",
          "mapbox": {
           "style": "light"
          },
          "paper_bgcolor": "white",
          "plot_bgcolor": "#E5ECF6",
          "polar": {
           "angularaxis": {
            "gridcolor": "white",
            "linecolor": "white",
            "ticks": ""
           },
           "bgcolor": "#E5ECF6",
           "radialaxis": {
            "gridcolor": "white",
            "linecolor": "white",
            "ticks": ""
           }
          },
          "scene": {
           "xaxis": {
            "backgroundcolor": "#E5ECF6",
            "gridcolor": "white",
            "gridwidth": 2,
            "linecolor": "white",
            "showbackground": true,
            "ticks": "",
            "zerolinecolor": "white"
           },
           "yaxis": {
            "backgroundcolor": "#E5ECF6",
            "gridcolor": "white",
            "gridwidth": 2,
            "linecolor": "white",
            "showbackground": true,
            "ticks": "",
            "zerolinecolor": "white"
           },
           "zaxis": {
            "backgroundcolor": "#E5ECF6",
            "gridcolor": "white",
            "gridwidth": 2,
            "linecolor": "white",
            "showbackground": true,
            "ticks": "",
            "zerolinecolor": "white"
           }
          },
          "shapedefaults": {
           "line": {
            "color": "#2a3f5f"
           }
          },
          "ternary": {
           "aaxis": {
            "gridcolor": "white",
            "linecolor": "white",
            "ticks": ""
           },
           "baxis": {
            "gridcolor": "white",
            "linecolor": "white",
            "ticks": ""
           },
           "bgcolor": "#E5ECF6",
           "caxis": {
            "gridcolor": "white",
            "linecolor": "white",
            "ticks": ""
           }
          },
          "title": {
           "x": 0.05
          },
          "xaxis": {
           "automargin": true,
           "gridcolor": "white",
           "linecolor": "white",
           "ticks": "",
           "title": {
            "standoff": 15
           },
           "zerolinecolor": "white",
           "zerolinewidth": 2
          },
          "yaxis": {
           "automargin": true,
           "gridcolor": "white",
           "linecolor": "white",
           "ticks": "",
           "title": {
            "standoff": 15
           },
           "zerolinecolor": "white",
           "zerolinewidth": 2
          }
         }
        },
        "xaxis": {
         "anchor": "y",
         "domain": [
          0,
          1
         ],
         "title": {
          "text": "count"
         }
        },
        "yaxis": {
         "anchor": "x",
         "domain": [
          0,
          1
         ],
         "title": {
          "text": "coverage"
         }
        }
       }
      },
      "text/html": [
       "<div>                            <div id=\"1e130e87-7cc2-4f0a-ad89-2fff4d044362\" class=\"plotly-graph-div\" style=\"height:525px; width:100%;\"></div>            <script type=\"text/javascript\">                require([\"plotly\"], function(Plotly) {                    window.PLOTLYENV=window.PLOTLYENV || {};                                    if (document.getElementById(\"1e130e87-7cc2-4f0a-ad89-2fff4d044362\")) {                    Plotly.newPlot(                        \"1e130e87-7cc2-4f0a-ad89-2fff4d044362\",                        [{\"hovertemplate\":\"experiment=evolutionary algorithm<br>count=%{x}<br>coverage=%{y}<extra></extra>\",\"legendgroup\":\"evolutionary algorithm\",\"line\":{\"color\":\"#19d3f3\",\"dash\":\"solid\"},\"marker\":{\"symbol\":\"x\",\"opacity\":0.75,\"size\":10},\"mode\":\"markers+lines\",\"name\":\"evolutionary algorithm\",\"orientation\":\"v\",\"showlegend\":true,\"x\":[2,3,4,5,6,7,8,9,10],\"xaxis\":\"x\",\"y\":[0.497745348210404,0.6045366296210909,0.7147300550660254,0.7533743947747059,0.8126962634209193,0.8447745158380201,0.8715843502732249,0.8929087808666054,0.9272971291887995],\"yaxis\":\"y\",\"type\":\"scatter\"},{\"hovertemplate\":\"experiment=greedy w fitness<br>count=%{x}<br>coverage=%{y}<extra></extra>\",\"legendgroup\":\"greedy w fitness\",\"line\":{\"color\":\"#FF6692\",\"dash\":\"solid\"},\"marker\":{\"symbol\":\"x\",\"opacity\":0.75,\"size\":10},\"mode\":\"markers+lines\",\"name\":\"greedy w fitness\",\"orientation\":\"v\",\"showlegend\":true,\"x\":[2,3,4,5,6,7,8,9,10],\"xaxis\":\"x\",\"y\":[0.497745348210404,0.6045366296210909,0.6812797813616901,0.7406068533782864,0.78263096464779,0.813095936590269,0.855171382007022,0.8951526383608611,0.9202854683150715],\"yaxis\":\"y\",\"type\":\"scatter\"}],                        {\"template\":{\"data\":{\"histogram2dcontour\":[{\"type\":\"histogram2dcontour\",\"colorbar\":{\"outlinewidth\":0,\"ticks\":\"\"},\"colorscale\":[[0.0,\"#0d0887\"],[0.1111111111111111,\"#46039f\"],[0.2222222222222222,\"#7201a8\"],[0.3333333333333333,\"#9c179e\"],[0.4444444444444444,\"#bd3786\"],[0.5555555555555556,\"#d8576b\"],[0.6666666666666666,\"#ed7953\"],[0.7777777777777778,\"#fb9f3a\"],[0.8888888888888888,\"#fdca26\"],[1.0,\"#f0f921\"]]}],\"choropleth\":[{\"type\":\"choropleth\",\"colorbar\":{\"outlinewidth\":0,\"ticks\":\"\"}}],\"histogram2d\":[{\"type\":\"histogram2d\",\"colorbar\":{\"outlinewidth\":0,\"ticks\":\"\"},\"colorscale\":[[0.0,\"#0d0887\"],[0.1111111111111111,\"#46039f\"],[0.2222222222222222,\"#7201a8\"],[0.3333333333333333,\"#9c179e\"],[0.4444444444444444,\"#bd3786\"],[0.5555555555555556,\"#d8576b\"],[0.6666666666666666,\"#ed7953\"],[0.7777777777777778,\"#fb9f3a\"],[0.8888888888888888,\"#fdca26\"],[1.0,\"#f0f921\"]]}],\"heatmap\":[{\"type\":\"heatmap\",\"colorbar\":{\"outlinewidth\":0,\"ticks\":\"\"},\"colorscale\":[[0.0,\"#0d0887\"],[0.1111111111111111,\"#46039f\"],[0.2222222222222222,\"#7201a8\"],[0.3333333333333333,\"#9c179e\"],[0.4444444444444444,\"#bd3786\"],[0.5555555555555556,\"#d8576b\"],[0.6666666666666666,\"#ed7953\"],[0.7777777777777778,\"#fb9f3a\"],[0.8888888888888888,\"#fdca26\"],[1.0,\"#f0f921\"]]}],\"heatmapgl\":[{\"type\":\"heatmapgl\",\"colorbar\":{\"outlinewidth\":0,\"ticks\":\"\"},\"colorscale\":[[0.0,\"#0d0887\"],[0.1111111111111111,\"#46039f\"],[0.2222222222222222,\"#7201a8\"],[0.3333333333333333,\"#9c179e\"],[0.4444444444444444,\"#bd3786\"],[0.5555555555555556,\"#d8576b\"],[0.6666666666666666,\"#ed7953\"],[0.7777777777777778,\"#fb9f3a\"],[0.8888888888888888,\"#fdca26\"],[1.0,\"#f0f921\"]]}],\"contourcarpet\":[{\"type\":\"contourcarpet\",\"colorbar\":{\"outlinewidth\":0,\"ticks\":\"\"}}],\"contour\":[{\"type\":\"contour\",\"colorbar\":{\"outlinewidth\":0,\"ticks\":\"\"},\"colorscale\":[[0.0,\"#0d0887\"],[0.1111111111111111,\"#46039f\"],[0.2222222222222222,\"#7201a8\"],[0.3333333333333333,\"#9c179e\"],[0.4444444444444444,\"#bd3786\"],[0.5555555555555556,\"#d8576b\"],[0.6666666666666666,\"#ed7953\"],[0.7777777777777778,\"#fb9f3a\"],[0.8888888888888888,\"#fdca26\"],[1.0,\"#f0f921\"]]}],\"surface\":[{\"type\":\"surface\",\"colorbar\":{\"outlinewidth\":0,\"ticks\":\"\"},\"colorscale\":[[0.0,\"#0d0887\"],[0.1111111111111111,\"#46039f\"],[0.2222222222222222,\"#7201a8\"],[0.3333333333333333,\"#9c179e\"],[0.4444444444444444,\"#bd3786\"],[0.5555555555555556,\"#d8576b\"],[0.6666666666666666,\"#ed7953\"],[0.7777777777777778,\"#fb9f3a\"],[0.8888888888888888,\"#fdca26\"],[1.0,\"#f0f921\"]]}],\"mesh3d\":[{\"type\":\"mesh3d\",\"colorbar\":{\"outlinewidth\":0,\"ticks\":\"\"}}],\"scatter\":[{\"fillpattern\":{\"fillmode\":\"overlay\",\"size\":10,\"solidity\":0.2},\"type\":\"scatter\"}],\"parcoords\":[{\"type\":\"parcoords\",\"line\":{\"colorbar\":{\"outlinewidth\":0,\"ticks\":\"\"}}}],\"scatterpolargl\":[{\"type\":\"scatterpolargl\",\"marker\":{\"colorbar\":{\"outlinewidth\":0,\"ticks\":\"\"}}}],\"bar\":[{\"error_x\":{\"color\":\"#2a3f5f\"},\"error_y\":{\"color\":\"#2a3f5f\"},\"marker\":{\"line\":{\"color\":\"#E5ECF6\",\"width\":0.5},\"pattern\":{\"fillmode\":\"overlay\",\"size\":10,\"solidity\":0.2}},\"type\":\"bar\"}],\"scattergeo\":[{\"type\":\"scattergeo\",\"marker\":{\"colorbar\":{\"outlinewidth\":0,\"ticks\":\"\"}}}],\"scatterpolar\":[{\"type\":\"scatterpolar\",\"marker\":{\"colorbar\":{\"outlinewidth\":0,\"ticks\":\"\"}}}],\"histogram\":[{\"marker\":{\"pattern\":{\"fillmode\":\"overlay\",\"size\":10,\"solidity\":0.2}},\"type\":\"histogram\"}],\"scattergl\":[{\"type\":\"scattergl\",\"marker\":{\"colorbar\":{\"outlinewidth\":0,\"ticks\":\"\"}}}],\"scatter3d\":[{\"type\":\"scatter3d\",\"line\":{\"colorbar\":{\"outlinewidth\":0,\"ticks\":\"\"}},\"marker\":{\"colorbar\":{\"outlinewidth\":0,\"ticks\":\"\"}}}],\"scattermapbox\":[{\"type\":\"scattermapbox\",\"marker\":{\"colorbar\":{\"outlinewidth\":0,\"ticks\":\"\"}}}],\"scatterternary\":[{\"type\":\"scatterternary\",\"marker\":{\"colorbar\":{\"outlinewidth\":0,\"ticks\":\"\"}}}],\"scattercarpet\":[{\"type\":\"scattercarpet\",\"marker\":{\"colorbar\":{\"outlinewidth\":0,\"ticks\":\"\"}}}],\"carpet\":[{\"aaxis\":{\"endlinecolor\":\"#2a3f5f\",\"gridcolor\":\"white\",\"linecolor\":\"white\",\"minorgridcolor\":\"white\",\"startlinecolor\":\"#2a3f5f\"},\"baxis\":{\"endlinecolor\":\"#2a3f5f\",\"gridcolor\":\"white\",\"linecolor\":\"white\",\"minorgridcolor\":\"white\",\"startlinecolor\":\"#2a3f5f\"},\"type\":\"carpet\"}],\"table\":[{\"cells\":{\"fill\":{\"color\":\"#EBF0F8\"},\"line\":{\"color\":\"white\"}},\"header\":{\"fill\":{\"color\":\"#C8D4E3\"},\"line\":{\"color\":\"white\"}},\"type\":\"table\"}],\"barpolar\":[{\"marker\":{\"line\":{\"color\":\"#E5ECF6\",\"width\":0.5},\"pattern\":{\"fillmode\":\"overlay\",\"size\":10,\"solidity\":0.2}},\"type\":\"barpolar\"}],\"pie\":[{\"automargin\":true,\"type\":\"pie\"}]},\"layout\":{\"autotypenumbers\":\"strict\",\"colorway\":[\"#636efa\",\"#EF553B\",\"#00cc96\",\"#ab63fa\",\"#FFA15A\",\"#19d3f3\",\"#FF6692\",\"#B6E880\",\"#FF97FF\",\"#FECB52\"],\"font\":{\"color\":\"#2a3f5f\"},\"hovermode\":\"closest\",\"hoverlabel\":{\"align\":\"left\"},\"paper_bgcolor\":\"white\",\"plot_bgcolor\":\"#E5ECF6\",\"polar\":{\"bgcolor\":\"#E5ECF6\",\"angularaxis\":{\"gridcolor\":\"white\",\"linecolor\":\"white\",\"ticks\":\"\"},\"radialaxis\":{\"gridcolor\":\"white\",\"linecolor\":\"white\",\"ticks\":\"\"}},\"ternary\":{\"bgcolor\":\"#E5ECF6\",\"aaxis\":{\"gridcolor\":\"white\",\"linecolor\":\"white\",\"ticks\":\"\"},\"baxis\":{\"gridcolor\":\"white\",\"linecolor\":\"white\",\"ticks\":\"\"},\"caxis\":{\"gridcolor\":\"white\",\"linecolor\":\"white\",\"ticks\":\"\"}},\"coloraxis\":{\"colorbar\":{\"outlinewidth\":0,\"ticks\":\"\"}},\"colorscale\":{\"sequential\":[[0.0,\"#0d0887\"],[0.1111111111111111,\"#46039f\"],[0.2222222222222222,\"#7201a8\"],[0.3333333333333333,\"#9c179e\"],[0.4444444444444444,\"#bd3786\"],[0.5555555555555556,\"#d8576b\"],[0.6666666666666666,\"#ed7953\"],[0.7777777777777778,\"#fb9f3a\"],[0.8888888888888888,\"#fdca26\"],[1.0,\"#f0f921\"]],\"sequentialminus\":[[0.0,\"#0d0887\"],[0.1111111111111111,\"#46039f\"],[0.2222222222222222,\"#7201a8\"],[0.3333333333333333,\"#9c179e\"],[0.4444444444444444,\"#bd3786\"],[0.5555555555555556,\"#d8576b\"],[0.6666666666666666,\"#ed7953\"],[0.7777777777777778,\"#fb9f3a\"],[0.8888888888888888,\"#fdca26\"],[1.0,\"#f0f921\"]],\"diverging\":[[0,\"#8e0152\"],[0.1,\"#c51b7d\"],[0.2,\"#de77ae\"],[0.3,\"#f1b6da\"],[0.4,\"#fde0ef\"],[0.5,\"#f7f7f7\"],[0.6,\"#e6f5d0\"],[0.7,\"#b8e186\"],[0.8,\"#7fbc41\"],[0.9,\"#4d9221\"],[1,\"#276419\"]]},\"xaxis\":{\"gridcolor\":\"white\",\"linecolor\":\"white\",\"ticks\":\"\",\"title\":{\"standoff\":15},\"zerolinecolor\":\"white\",\"automargin\":true,\"zerolinewidth\":2},\"yaxis\":{\"gridcolor\":\"white\",\"linecolor\":\"white\",\"ticks\":\"\",\"title\":{\"standoff\":15},\"zerolinecolor\":\"white\",\"automargin\":true,\"zerolinewidth\":2},\"scene\":{\"xaxis\":{\"backgroundcolor\":\"#E5ECF6\",\"gridcolor\":\"white\",\"linecolor\":\"white\",\"showbackground\":true,\"ticks\":\"\",\"zerolinecolor\":\"white\",\"gridwidth\":2},\"yaxis\":{\"backgroundcolor\":\"#E5ECF6\",\"gridcolor\":\"white\",\"linecolor\":\"white\",\"showbackground\":true,\"ticks\":\"\",\"zerolinecolor\":\"white\",\"gridwidth\":2},\"zaxis\":{\"backgroundcolor\":\"#E5ECF6\",\"gridcolor\":\"white\",\"linecolor\":\"white\",\"showbackground\":true,\"ticks\":\"\",\"zerolinecolor\":\"white\",\"gridwidth\":2}},\"shapedefaults\":{\"line\":{\"color\":\"#2a3f5f\"}},\"annotationdefaults\":{\"arrowcolor\":\"#2a3f5f\",\"arrowhead\":0,\"arrowwidth\":1},\"geo\":{\"bgcolor\":\"white\",\"landcolor\":\"#E5ECF6\",\"subunitcolor\":\"white\",\"showland\":true,\"showlakes\":true,\"lakecolor\":\"white\"},\"title\":{\"x\":0.05},\"mapbox\":{\"style\":\"light\"}}},\"xaxis\":{\"anchor\":\"y\",\"domain\":[0.0,1.0],\"title\":{\"text\":\"count\"}},\"yaxis\":{\"anchor\":\"x\",\"domain\":[0.0,1.0],\"title\":{\"text\":\"coverage\"}},\"legend\":{\"title\":{\"text\":\"experiment\"},\"tracegroupgap\":0},\"margin\":{\"t\":60}},                        {\"responsive\": true}                    ).then(function(){\n",
       "                            \n",
       "var gd = document.getElementById('1e130e87-7cc2-4f0a-ad89-2fff4d044362');\n",
       "var x = new MutationObserver(function (mutations, observer) {{\n",
       "        var display = window.getComputedStyle(gd).display;\n",
       "        if (!display || display === 'none') {{\n",
       "            console.log([gd, 'removed!']);\n",
       "            Plotly.purge(gd);\n",
       "            observer.disconnect();\n",
       "        }}\n",
       "}});\n",
       "\n",
       "// Listen for the removal of the full notebook cells\n",
       "var notebookContainer = gd.closest('#notebook-container');\n",
       "if (notebookContainer) {{\n",
       "    x.observe(notebookContainer, {childList: true});\n",
       "}}\n",
       "\n",
       "// Listen for the clearing of the current output cell\n",
       "var outputEl = gd.closest('.output');\n",
       "if (outputEl) {{\n",
       "    x.observe(outputEl, {childList: true});\n",
       "}}\n",
       "\n",
       "                        })                };                });            </script>        </div>"
      ]
     },
     "metadata": {},
     "output_type": "display_data"
    }
   ],
   "source": [
    "f.sort_values(by=['count'], inplace=True)\n",
    "\n",
    "fig = px.line(f, x=\"count\", y=\"coverage\",\n",
    "              color_discrete_map={\n",
    "                  \"random initial\": \"grey\",\n",
    "                  \"greedy best first\": \"orange\",\n",
    "                  \"greedy weighted\": \"yellow\",\n",
    "                  \"GA 1\": \"blue\",\n",
    "                  \"GA 6\": \"purple\"\n",
    "              },\n",
    "              color=f[\"experiment\"],\n",
    "              markers=True\n",
    "             )\n",
    "\n",
    "fig.update_traces(marker=dict(size=10, opacity=0.75, symbol='x')) #colorscale='temps', color=f[\"source\"], opacity=0.75))\n",
    "fig.show()"
   ]
  },
  {
   "cell_type": "code",
   "execution_count": 15,
   "id": "f87bdcc0",
   "metadata": {
    "pycharm": {
     "name": "#%%\n"
    }
   },
   "outputs": [
    {
     "data": {
      "application/vnd.plotly.v1+json": {
       "config": {
        "plotlyServerURL": "https://plot.ly"
       },
       "data": [
        {
         "hovertemplate": "experiment=evolutionary algorithm<br>overlap=%{x}<br>coverage=%{y}<br>count=%{z}<extra></extra>",
         "legendgroup": "evolutionary algorithm",
         "marker": {
          "color": "#636efa",
          "opacity": 0.5,
          "size": 5,
          "symbol": "circle"
         },
         "mode": "markers",
         "name": "evolutionary algorithm",
         "scene": "scene",
         "showlegend": true,
         "type": "scatter3d",
         "x": [
          0.4026269461977487,
          0.4004516620879482,
          0.402460614185948,
          0.40622249187655946,
          0.44648728423160833,
          0.40095284857646957,
          0.41443818693210543,
          0.40869415822025906,
          0.43254472048294906
         ],
         "y": [
          0.497745348210404,
          0.6045366296210909,
          0.7147300550660254,
          0.7533743947747059,
          0.8126962634209193,
          0.8447745158380201,
          0.8715843502732249,
          0.8929087808666054,
          0.9272971291887995
         ],
         "z": [
          2,
          3,
          4,
          5,
          6,
          7,
          8,
          9,
          10
         ]
        },
        {
         "hovertemplate": "experiment=greedy w fitness<br>overlap=%{x}<br>coverage=%{y}<br>count=%{z}<extra></extra>",
         "legendgroup": "greedy w fitness",
         "marker": {
          "color": "#EF553B",
          "opacity": 0.5,
          "size": 5,
          "symbol": "circle"
         },
         "mode": "markers",
         "name": "greedy w fitness",
         "scene": "scene",
         "showlegend": true,
         "type": "scatter3d",
         "x": [
          0.4026269461977487,
          0.4004516620879482,
          0.4004516620879482,
          0.4004516620879482,
          0.4010851354735194,
          0.4026269461977487,
          0.4026269461977487,
          0.4026269461977487,
          0.4026269461977487
         ],
         "y": [
          0.497745348210404,
          0.6045366296210909,
          0.6812797813616901,
          0.7406068533782864,
          0.78263096464779,
          0.813095936590269,
          0.855171382007022,
          0.8951526383608611,
          0.9202854683150715
         ],
         "z": [
          2,
          3,
          4,
          5,
          6,
          7,
          8,
          9,
          10
         ]
        }
       ],
       "layout": {
        "legend": {
         "title": {
          "text": "experiment"
         },
         "tracegroupgap": 0
        },
        "margin": {
         "t": 60
        },
        "scene": {
         "domain": {
          "x": [
           0,
           1
          ],
          "y": [
           0,
           1
          ]
         },
         "xaxis": {
          "title": {
           "text": "overlap"
          }
         },
         "yaxis": {
          "title": {
           "text": "coverage"
          }
         },
         "zaxis": {
          "title": {
           "text": "count"
          }
         }
        },
        "template": {
         "data": {
          "bar": [
           {
            "error_x": {
             "color": "#2a3f5f"
            },
            "error_y": {
             "color": "#2a3f5f"
            },
            "marker": {
             "line": {
              "color": "#E5ECF6",
              "width": 0.5
             },
             "pattern": {
              "fillmode": "overlay",
              "size": 10,
              "solidity": 0.2
             }
            },
            "type": "bar"
           }
          ],
          "barpolar": [
           {
            "marker": {
             "line": {
              "color": "#E5ECF6",
              "width": 0.5
             },
             "pattern": {
              "fillmode": "overlay",
              "size": 10,
              "solidity": 0.2
             }
            },
            "type": "barpolar"
           }
          ],
          "carpet": [
           {
            "aaxis": {
             "endlinecolor": "#2a3f5f",
             "gridcolor": "white",
             "linecolor": "white",
             "minorgridcolor": "white",
             "startlinecolor": "#2a3f5f"
            },
            "baxis": {
             "endlinecolor": "#2a3f5f",
             "gridcolor": "white",
             "linecolor": "white",
             "minorgridcolor": "white",
             "startlinecolor": "#2a3f5f"
            },
            "type": "carpet"
           }
          ],
          "choropleth": [
           {
            "colorbar": {
             "outlinewidth": 0,
             "ticks": ""
            },
            "type": "choropleth"
           }
          ],
          "contour": [
           {
            "colorbar": {
             "outlinewidth": 0,
             "ticks": ""
            },
            "colorscale": [
             [
              0,
              "#0d0887"
             ],
             [
              0.1111111111111111,
              "#46039f"
             ],
             [
              0.2222222222222222,
              "#7201a8"
             ],
             [
              0.3333333333333333,
              "#9c179e"
             ],
             [
              0.4444444444444444,
              "#bd3786"
             ],
             [
              0.5555555555555556,
              "#d8576b"
             ],
             [
              0.6666666666666666,
              "#ed7953"
             ],
             [
              0.7777777777777778,
              "#fb9f3a"
             ],
             [
              0.8888888888888888,
              "#fdca26"
             ],
             [
              1,
              "#f0f921"
             ]
            ],
            "type": "contour"
           }
          ],
          "contourcarpet": [
           {
            "colorbar": {
             "outlinewidth": 0,
             "ticks": ""
            },
            "type": "contourcarpet"
           }
          ],
          "heatmap": [
           {
            "colorbar": {
             "outlinewidth": 0,
             "ticks": ""
            },
            "colorscale": [
             [
              0,
              "#0d0887"
             ],
             [
              0.1111111111111111,
              "#46039f"
             ],
             [
              0.2222222222222222,
              "#7201a8"
             ],
             [
              0.3333333333333333,
              "#9c179e"
             ],
             [
              0.4444444444444444,
              "#bd3786"
             ],
             [
              0.5555555555555556,
              "#d8576b"
             ],
             [
              0.6666666666666666,
              "#ed7953"
             ],
             [
              0.7777777777777778,
              "#fb9f3a"
             ],
             [
              0.8888888888888888,
              "#fdca26"
             ],
             [
              1,
              "#f0f921"
             ]
            ],
            "type": "heatmap"
           }
          ],
          "heatmapgl": [
           {
            "colorbar": {
             "outlinewidth": 0,
             "ticks": ""
            },
            "colorscale": [
             [
              0,
              "#0d0887"
             ],
             [
              0.1111111111111111,
              "#46039f"
             ],
             [
              0.2222222222222222,
              "#7201a8"
             ],
             [
              0.3333333333333333,
              "#9c179e"
             ],
             [
              0.4444444444444444,
              "#bd3786"
             ],
             [
              0.5555555555555556,
              "#d8576b"
             ],
             [
              0.6666666666666666,
              "#ed7953"
             ],
             [
              0.7777777777777778,
              "#fb9f3a"
             ],
             [
              0.8888888888888888,
              "#fdca26"
             ],
             [
              1,
              "#f0f921"
             ]
            ],
            "type": "heatmapgl"
           }
          ],
          "histogram": [
           {
            "marker": {
             "pattern": {
              "fillmode": "overlay",
              "size": 10,
              "solidity": 0.2
             }
            },
            "type": "histogram"
           }
          ],
          "histogram2d": [
           {
            "colorbar": {
             "outlinewidth": 0,
             "ticks": ""
            },
            "colorscale": [
             [
              0,
              "#0d0887"
             ],
             [
              0.1111111111111111,
              "#46039f"
             ],
             [
              0.2222222222222222,
              "#7201a8"
             ],
             [
              0.3333333333333333,
              "#9c179e"
             ],
             [
              0.4444444444444444,
              "#bd3786"
             ],
             [
              0.5555555555555556,
              "#d8576b"
             ],
             [
              0.6666666666666666,
              "#ed7953"
             ],
             [
              0.7777777777777778,
              "#fb9f3a"
             ],
             [
              0.8888888888888888,
              "#fdca26"
             ],
             [
              1,
              "#f0f921"
             ]
            ],
            "type": "histogram2d"
           }
          ],
          "histogram2dcontour": [
           {
            "colorbar": {
             "outlinewidth": 0,
             "ticks": ""
            },
            "colorscale": [
             [
              0,
              "#0d0887"
             ],
             [
              0.1111111111111111,
              "#46039f"
             ],
             [
              0.2222222222222222,
              "#7201a8"
             ],
             [
              0.3333333333333333,
              "#9c179e"
             ],
             [
              0.4444444444444444,
              "#bd3786"
             ],
             [
              0.5555555555555556,
              "#d8576b"
             ],
             [
              0.6666666666666666,
              "#ed7953"
             ],
             [
              0.7777777777777778,
              "#fb9f3a"
             ],
             [
              0.8888888888888888,
              "#fdca26"
             ],
             [
              1,
              "#f0f921"
             ]
            ],
            "type": "histogram2dcontour"
           }
          ],
          "mesh3d": [
           {
            "colorbar": {
             "outlinewidth": 0,
             "ticks": ""
            },
            "type": "mesh3d"
           }
          ],
          "parcoords": [
           {
            "line": {
             "colorbar": {
              "outlinewidth": 0,
              "ticks": ""
             }
            },
            "type": "parcoords"
           }
          ],
          "pie": [
           {
            "automargin": true,
            "type": "pie"
           }
          ],
          "scatter": [
           {
            "fillpattern": {
             "fillmode": "overlay",
             "size": 10,
             "solidity": 0.2
            },
            "type": "scatter"
           }
          ],
          "scatter3d": [
           {
            "line": {
             "colorbar": {
              "outlinewidth": 0,
              "ticks": ""
             }
            },
            "marker": {
             "colorbar": {
              "outlinewidth": 0,
              "ticks": ""
             }
            },
            "type": "scatter3d"
           }
          ],
          "scattercarpet": [
           {
            "marker": {
             "colorbar": {
              "outlinewidth": 0,
              "ticks": ""
             }
            },
            "type": "scattercarpet"
           }
          ],
          "scattergeo": [
           {
            "marker": {
             "colorbar": {
              "outlinewidth": 0,
              "ticks": ""
             }
            },
            "type": "scattergeo"
           }
          ],
          "scattergl": [
           {
            "marker": {
             "colorbar": {
              "outlinewidth": 0,
              "ticks": ""
             }
            },
            "type": "scattergl"
           }
          ],
          "scattermapbox": [
           {
            "marker": {
             "colorbar": {
              "outlinewidth": 0,
              "ticks": ""
             }
            },
            "type": "scattermapbox"
           }
          ],
          "scatterpolar": [
           {
            "marker": {
             "colorbar": {
              "outlinewidth": 0,
              "ticks": ""
             }
            },
            "type": "scatterpolar"
           }
          ],
          "scatterpolargl": [
           {
            "marker": {
             "colorbar": {
              "outlinewidth": 0,
              "ticks": ""
             }
            },
            "type": "scatterpolargl"
           }
          ],
          "scatterternary": [
           {
            "marker": {
             "colorbar": {
              "outlinewidth": 0,
              "ticks": ""
             }
            },
            "type": "scatterternary"
           }
          ],
          "surface": [
           {
            "colorbar": {
             "outlinewidth": 0,
             "ticks": ""
            },
            "colorscale": [
             [
              0,
              "#0d0887"
             ],
             [
              0.1111111111111111,
              "#46039f"
             ],
             [
              0.2222222222222222,
              "#7201a8"
             ],
             [
              0.3333333333333333,
              "#9c179e"
             ],
             [
              0.4444444444444444,
              "#bd3786"
             ],
             [
              0.5555555555555556,
              "#d8576b"
             ],
             [
              0.6666666666666666,
              "#ed7953"
             ],
             [
              0.7777777777777778,
              "#fb9f3a"
             ],
             [
              0.8888888888888888,
              "#fdca26"
             ],
             [
              1,
              "#f0f921"
             ]
            ],
            "type": "surface"
           }
          ],
          "table": [
           {
            "cells": {
             "fill": {
              "color": "#EBF0F8"
             },
             "line": {
              "color": "white"
             }
            },
            "header": {
             "fill": {
              "color": "#C8D4E3"
             },
             "line": {
              "color": "white"
             }
            },
            "type": "table"
           }
          ]
         },
         "layout": {
          "annotationdefaults": {
           "arrowcolor": "#2a3f5f",
           "arrowhead": 0,
           "arrowwidth": 1
          },
          "autotypenumbers": "strict",
          "coloraxis": {
           "colorbar": {
            "outlinewidth": 0,
            "ticks": ""
           }
          },
          "colorscale": {
           "diverging": [
            [
             0,
             "#8e0152"
            ],
            [
             0.1,
             "#c51b7d"
            ],
            [
             0.2,
             "#de77ae"
            ],
            [
             0.3,
             "#f1b6da"
            ],
            [
             0.4,
             "#fde0ef"
            ],
            [
             0.5,
             "#f7f7f7"
            ],
            [
             0.6,
             "#e6f5d0"
            ],
            [
             0.7,
             "#b8e186"
            ],
            [
             0.8,
             "#7fbc41"
            ],
            [
             0.9,
             "#4d9221"
            ],
            [
             1,
             "#276419"
            ]
           ],
           "sequential": [
            [
             0,
             "#0d0887"
            ],
            [
             0.1111111111111111,
             "#46039f"
            ],
            [
             0.2222222222222222,
             "#7201a8"
            ],
            [
             0.3333333333333333,
             "#9c179e"
            ],
            [
             0.4444444444444444,
             "#bd3786"
            ],
            [
             0.5555555555555556,
             "#d8576b"
            ],
            [
             0.6666666666666666,
             "#ed7953"
            ],
            [
             0.7777777777777778,
             "#fb9f3a"
            ],
            [
             0.8888888888888888,
             "#fdca26"
            ],
            [
             1,
             "#f0f921"
            ]
           ],
           "sequentialminus": [
            [
             0,
             "#0d0887"
            ],
            [
             0.1111111111111111,
             "#46039f"
            ],
            [
             0.2222222222222222,
             "#7201a8"
            ],
            [
             0.3333333333333333,
             "#9c179e"
            ],
            [
             0.4444444444444444,
             "#bd3786"
            ],
            [
             0.5555555555555556,
             "#d8576b"
            ],
            [
             0.6666666666666666,
             "#ed7953"
            ],
            [
             0.7777777777777778,
             "#fb9f3a"
            ],
            [
             0.8888888888888888,
             "#fdca26"
            ],
            [
             1,
             "#f0f921"
            ]
           ]
          },
          "colorway": [
           "#636efa",
           "#EF553B",
           "#00cc96",
           "#ab63fa",
           "#FFA15A",
           "#19d3f3",
           "#FF6692",
           "#B6E880",
           "#FF97FF",
           "#FECB52"
          ],
          "font": {
           "color": "#2a3f5f"
          },
          "geo": {
           "bgcolor": "white",
           "lakecolor": "white",
           "landcolor": "#E5ECF6",
           "showlakes": true,
           "showland": true,
           "subunitcolor": "white"
          },
          "hoverlabel": {
           "align": "left"
          },
          "hovermode": "closest",
          "mapbox": {
           "style": "light"
          },
          "paper_bgcolor": "white",
          "plot_bgcolor": "#E5ECF6",
          "polar": {
           "angularaxis": {
            "gridcolor": "white",
            "linecolor": "white",
            "ticks": ""
           },
           "bgcolor": "#E5ECF6",
           "radialaxis": {
            "gridcolor": "white",
            "linecolor": "white",
            "ticks": ""
           }
          },
          "scene": {
           "xaxis": {
            "backgroundcolor": "#E5ECF6",
            "gridcolor": "white",
            "gridwidth": 2,
            "linecolor": "white",
            "showbackground": true,
            "ticks": "",
            "zerolinecolor": "white"
           },
           "yaxis": {
            "backgroundcolor": "#E5ECF6",
            "gridcolor": "white",
            "gridwidth": 2,
            "linecolor": "white",
            "showbackground": true,
            "ticks": "",
            "zerolinecolor": "white"
           },
           "zaxis": {
            "backgroundcolor": "#E5ECF6",
            "gridcolor": "white",
            "gridwidth": 2,
            "linecolor": "white",
            "showbackground": true,
            "ticks": "",
            "zerolinecolor": "white"
           }
          },
          "shapedefaults": {
           "line": {
            "color": "#2a3f5f"
           }
          },
          "ternary": {
           "aaxis": {
            "gridcolor": "white",
            "linecolor": "white",
            "ticks": ""
           },
           "baxis": {
            "gridcolor": "white",
            "linecolor": "white",
            "ticks": ""
           },
           "bgcolor": "#E5ECF6",
           "caxis": {
            "gridcolor": "white",
            "linecolor": "white",
            "ticks": ""
           }
          },
          "title": {
           "x": 0.05
          },
          "xaxis": {
           "automargin": true,
           "gridcolor": "white",
           "linecolor": "white",
           "ticks": "",
           "title": {
            "standoff": 15
           },
           "zerolinecolor": "white",
           "zerolinewidth": 2
          },
          "yaxis": {
           "automargin": true,
           "gridcolor": "white",
           "linecolor": "white",
           "ticks": "",
           "title": {
            "standoff": 15
           },
           "zerolinecolor": "white",
           "zerolinewidth": 2
          }
         }
        }
       }
      },
      "text/html": [
       "<div>                            <div id=\"b255ff98-03b3-40d9-bb89-f2398985d971\" class=\"plotly-graph-div\" style=\"height:525px; width:100%;\"></div>            <script type=\"text/javascript\">                require([\"plotly\"], function(Plotly) {                    window.PLOTLYENV=window.PLOTLYENV || {};                                    if (document.getElementById(\"b255ff98-03b3-40d9-bb89-f2398985d971\")) {                    Plotly.newPlot(                        \"b255ff98-03b3-40d9-bb89-f2398985d971\",                        [{\"hovertemplate\":\"experiment=evolutionary algorithm<br>overlap=%{x}<br>coverage=%{y}<br>count=%{z}<extra></extra>\",\"legendgroup\":\"evolutionary algorithm\",\"marker\":{\"color\":\"#636efa\",\"symbol\":\"circle\",\"opacity\":0.5,\"size\":5},\"mode\":\"markers\",\"name\":\"evolutionary algorithm\",\"scene\":\"scene\",\"showlegend\":true,\"x\":[0.4026269461977487,0.4004516620879482,0.402460614185948,0.40622249187655946,0.44648728423160833,0.40095284857646957,0.41443818693210543,0.40869415822025906,0.43254472048294906],\"y\":[0.497745348210404,0.6045366296210909,0.7147300550660254,0.7533743947747059,0.8126962634209193,0.8447745158380201,0.8715843502732249,0.8929087808666054,0.9272971291887995],\"z\":[2,3,4,5,6,7,8,9,10],\"type\":\"scatter3d\"},{\"hovertemplate\":\"experiment=greedy w fitness<br>overlap=%{x}<br>coverage=%{y}<br>count=%{z}<extra></extra>\",\"legendgroup\":\"greedy w fitness\",\"marker\":{\"color\":\"#EF553B\",\"symbol\":\"circle\",\"opacity\":0.5,\"size\":5},\"mode\":\"markers\",\"name\":\"greedy w fitness\",\"scene\":\"scene\",\"showlegend\":true,\"x\":[0.4026269461977487,0.4004516620879482,0.4004516620879482,0.4004516620879482,0.4010851354735194,0.4026269461977487,0.4026269461977487,0.4026269461977487,0.4026269461977487],\"y\":[0.497745348210404,0.6045366296210909,0.6812797813616901,0.7406068533782864,0.78263096464779,0.813095936590269,0.855171382007022,0.8951526383608611,0.9202854683150715],\"z\":[2,3,4,5,6,7,8,9,10],\"type\":\"scatter3d\"}],                        {\"template\":{\"data\":{\"histogram2dcontour\":[{\"type\":\"histogram2dcontour\",\"colorbar\":{\"outlinewidth\":0,\"ticks\":\"\"},\"colorscale\":[[0.0,\"#0d0887\"],[0.1111111111111111,\"#46039f\"],[0.2222222222222222,\"#7201a8\"],[0.3333333333333333,\"#9c179e\"],[0.4444444444444444,\"#bd3786\"],[0.5555555555555556,\"#d8576b\"],[0.6666666666666666,\"#ed7953\"],[0.7777777777777778,\"#fb9f3a\"],[0.8888888888888888,\"#fdca26\"],[1.0,\"#f0f921\"]]}],\"choropleth\":[{\"type\":\"choropleth\",\"colorbar\":{\"outlinewidth\":0,\"ticks\":\"\"}}],\"histogram2d\":[{\"type\":\"histogram2d\",\"colorbar\":{\"outlinewidth\":0,\"ticks\":\"\"},\"colorscale\":[[0.0,\"#0d0887\"],[0.1111111111111111,\"#46039f\"],[0.2222222222222222,\"#7201a8\"],[0.3333333333333333,\"#9c179e\"],[0.4444444444444444,\"#bd3786\"],[0.5555555555555556,\"#d8576b\"],[0.6666666666666666,\"#ed7953\"],[0.7777777777777778,\"#fb9f3a\"],[0.8888888888888888,\"#fdca26\"],[1.0,\"#f0f921\"]]}],\"heatmap\":[{\"type\":\"heatmap\",\"colorbar\":{\"outlinewidth\":0,\"ticks\":\"\"},\"colorscale\":[[0.0,\"#0d0887\"],[0.1111111111111111,\"#46039f\"],[0.2222222222222222,\"#7201a8\"],[0.3333333333333333,\"#9c179e\"],[0.4444444444444444,\"#bd3786\"],[0.5555555555555556,\"#d8576b\"],[0.6666666666666666,\"#ed7953\"],[0.7777777777777778,\"#fb9f3a\"],[0.8888888888888888,\"#fdca26\"],[1.0,\"#f0f921\"]]}],\"heatmapgl\":[{\"type\":\"heatmapgl\",\"colorbar\":{\"outlinewidth\":0,\"ticks\":\"\"},\"colorscale\":[[0.0,\"#0d0887\"],[0.1111111111111111,\"#46039f\"],[0.2222222222222222,\"#7201a8\"],[0.3333333333333333,\"#9c179e\"],[0.4444444444444444,\"#bd3786\"],[0.5555555555555556,\"#d8576b\"],[0.6666666666666666,\"#ed7953\"],[0.7777777777777778,\"#fb9f3a\"],[0.8888888888888888,\"#fdca26\"],[1.0,\"#f0f921\"]]}],\"contourcarpet\":[{\"type\":\"contourcarpet\",\"colorbar\":{\"outlinewidth\":0,\"ticks\":\"\"}}],\"contour\":[{\"type\":\"contour\",\"colorbar\":{\"outlinewidth\":0,\"ticks\":\"\"},\"colorscale\":[[0.0,\"#0d0887\"],[0.1111111111111111,\"#46039f\"],[0.2222222222222222,\"#7201a8\"],[0.3333333333333333,\"#9c179e\"],[0.4444444444444444,\"#bd3786\"],[0.5555555555555556,\"#d8576b\"],[0.6666666666666666,\"#ed7953\"],[0.7777777777777778,\"#fb9f3a\"],[0.8888888888888888,\"#fdca26\"],[1.0,\"#f0f921\"]]}],\"surface\":[{\"type\":\"surface\",\"colorbar\":{\"outlinewidth\":0,\"ticks\":\"\"},\"colorscale\":[[0.0,\"#0d0887\"],[0.1111111111111111,\"#46039f\"],[0.2222222222222222,\"#7201a8\"],[0.3333333333333333,\"#9c179e\"],[0.4444444444444444,\"#bd3786\"],[0.5555555555555556,\"#d8576b\"],[0.6666666666666666,\"#ed7953\"],[0.7777777777777778,\"#fb9f3a\"],[0.8888888888888888,\"#fdca26\"],[1.0,\"#f0f921\"]]}],\"mesh3d\":[{\"type\":\"mesh3d\",\"colorbar\":{\"outlinewidth\":0,\"ticks\":\"\"}}],\"scatter\":[{\"fillpattern\":{\"fillmode\":\"overlay\",\"size\":10,\"solidity\":0.2},\"type\":\"scatter\"}],\"parcoords\":[{\"type\":\"parcoords\",\"line\":{\"colorbar\":{\"outlinewidth\":0,\"ticks\":\"\"}}}],\"scatterpolargl\":[{\"type\":\"scatterpolargl\",\"marker\":{\"colorbar\":{\"outlinewidth\":0,\"ticks\":\"\"}}}],\"bar\":[{\"error_x\":{\"color\":\"#2a3f5f\"},\"error_y\":{\"color\":\"#2a3f5f\"},\"marker\":{\"line\":{\"color\":\"#E5ECF6\",\"width\":0.5},\"pattern\":{\"fillmode\":\"overlay\",\"size\":10,\"solidity\":0.2}},\"type\":\"bar\"}],\"scattergeo\":[{\"type\":\"scattergeo\",\"marker\":{\"colorbar\":{\"outlinewidth\":0,\"ticks\":\"\"}}}],\"scatterpolar\":[{\"type\":\"scatterpolar\",\"marker\":{\"colorbar\":{\"outlinewidth\":0,\"ticks\":\"\"}}}],\"histogram\":[{\"marker\":{\"pattern\":{\"fillmode\":\"overlay\",\"size\":10,\"solidity\":0.2}},\"type\":\"histogram\"}],\"scattergl\":[{\"type\":\"scattergl\",\"marker\":{\"colorbar\":{\"outlinewidth\":0,\"ticks\":\"\"}}}],\"scatter3d\":[{\"type\":\"scatter3d\",\"line\":{\"colorbar\":{\"outlinewidth\":0,\"ticks\":\"\"}},\"marker\":{\"colorbar\":{\"outlinewidth\":0,\"ticks\":\"\"}}}],\"scattermapbox\":[{\"type\":\"scattermapbox\",\"marker\":{\"colorbar\":{\"outlinewidth\":0,\"ticks\":\"\"}}}],\"scatterternary\":[{\"type\":\"scatterternary\",\"marker\":{\"colorbar\":{\"outlinewidth\":0,\"ticks\":\"\"}}}],\"scattercarpet\":[{\"type\":\"scattercarpet\",\"marker\":{\"colorbar\":{\"outlinewidth\":0,\"ticks\":\"\"}}}],\"carpet\":[{\"aaxis\":{\"endlinecolor\":\"#2a3f5f\",\"gridcolor\":\"white\",\"linecolor\":\"white\",\"minorgridcolor\":\"white\",\"startlinecolor\":\"#2a3f5f\"},\"baxis\":{\"endlinecolor\":\"#2a3f5f\",\"gridcolor\":\"white\",\"linecolor\":\"white\",\"minorgridcolor\":\"white\",\"startlinecolor\":\"#2a3f5f\"},\"type\":\"carpet\"}],\"table\":[{\"cells\":{\"fill\":{\"color\":\"#EBF0F8\"},\"line\":{\"color\":\"white\"}},\"header\":{\"fill\":{\"color\":\"#C8D4E3\"},\"line\":{\"color\":\"white\"}},\"type\":\"table\"}],\"barpolar\":[{\"marker\":{\"line\":{\"color\":\"#E5ECF6\",\"width\":0.5},\"pattern\":{\"fillmode\":\"overlay\",\"size\":10,\"solidity\":0.2}},\"type\":\"barpolar\"}],\"pie\":[{\"automargin\":true,\"type\":\"pie\"}]},\"layout\":{\"autotypenumbers\":\"strict\",\"colorway\":[\"#636efa\",\"#EF553B\",\"#00cc96\",\"#ab63fa\",\"#FFA15A\",\"#19d3f3\",\"#FF6692\",\"#B6E880\",\"#FF97FF\",\"#FECB52\"],\"font\":{\"color\":\"#2a3f5f\"},\"hovermode\":\"closest\",\"hoverlabel\":{\"align\":\"left\"},\"paper_bgcolor\":\"white\",\"plot_bgcolor\":\"#E5ECF6\",\"polar\":{\"bgcolor\":\"#E5ECF6\",\"angularaxis\":{\"gridcolor\":\"white\",\"linecolor\":\"white\",\"ticks\":\"\"},\"radialaxis\":{\"gridcolor\":\"white\",\"linecolor\":\"white\",\"ticks\":\"\"}},\"ternary\":{\"bgcolor\":\"#E5ECF6\",\"aaxis\":{\"gridcolor\":\"white\",\"linecolor\":\"white\",\"ticks\":\"\"},\"baxis\":{\"gridcolor\":\"white\",\"linecolor\":\"white\",\"ticks\":\"\"},\"caxis\":{\"gridcolor\":\"white\",\"linecolor\":\"white\",\"ticks\":\"\"}},\"coloraxis\":{\"colorbar\":{\"outlinewidth\":0,\"ticks\":\"\"}},\"colorscale\":{\"sequential\":[[0.0,\"#0d0887\"],[0.1111111111111111,\"#46039f\"],[0.2222222222222222,\"#7201a8\"],[0.3333333333333333,\"#9c179e\"],[0.4444444444444444,\"#bd3786\"],[0.5555555555555556,\"#d8576b\"],[0.6666666666666666,\"#ed7953\"],[0.7777777777777778,\"#fb9f3a\"],[0.8888888888888888,\"#fdca26\"],[1.0,\"#f0f921\"]],\"sequentialminus\":[[0.0,\"#0d0887\"],[0.1111111111111111,\"#46039f\"],[0.2222222222222222,\"#7201a8\"],[0.3333333333333333,\"#9c179e\"],[0.4444444444444444,\"#bd3786\"],[0.5555555555555556,\"#d8576b\"],[0.6666666666666666,\"#ed7953\"],[0.7777777777777778,\"#fb9f3a\"],[0.8888888888888888,\"#fdca26\"],[1.0,\"#f0f921\"]],\"diverging\":[[0,\"#8e0152\"],[0.1,\"#c51b7d\"],[0.2,\"#de77ae\"],[0.3,\"#f1b6da\"],[0.4,\"#fde0ef\"],[0.5,\"#f7f7f7\"],[0.6,\"#e6f5d0\"],[0.7,\"#b8e186\"],[0.8,\"#7fbc41\"],[0.9,\"#4d9221\"],[1,\"#276419\"]]},\"xaxis\":{\"gridcolor\":\"white\",\"linecolor\":\"white\",\"ticks\":\"\",\"title\":{\"standoff\":15},\"zerolinecolor\":\"white\",\"automargin\":true,\"zerolinewidth\":2},\"yaxis\":{\"gridcolor\":\"white\",\"linecolor\":\"white\",\"ticks\":\"\",\"title\":{\"standoff\":15},\"zerolinecolor\":\"white\",\"automargin\":true,\"zerolinewidth\":2},\"scene\":{\"xaxis\":{\"backgroundcolor\":\"#E5ECF6\",\"gridcolor\":\"white\",\"linecolor\":\"white\",\"showbackground\":true,\"ticks\":\"\",\"zerolinecolor\":\"white\",\"gridwidth\":2},\"yaxis\":{\"backgroundcolor\":\"#E5ECF6\",\"gridcolor\":\"white\",\"linecolor\":\"white\",\"showbackground\":true,\"ticks\":\"\",\"zerolinecolor\":\"white\",\"gridwidth\":2},\"zaxis\":{\"backgroundcolor\":\"#E5ECF6\",\"gridcolor\":\"white\",\"linecolor\":\"white\",\"showbackground\":true,\"ticks\":\"\",\"zerolinecolor\":\"white\",\"gridwidth\":2}},\"shapedefaults\":{\"line\":{\"color\":\"#2a3f5f\"}},\"annotationdefaults\":{\"arrowcolor\":\"#2a3f5f\",\"arrowhead\":0,\"arrowwidth\":1},\"geo\":{\"bgcolor\":\"white\",\"landcolor\":\"#E5ECF6\",\"subunitcolor\":\"white\",\"showland\":true,\"showlakes\":true,\"lakecolor\":\"white\"},\"title\":{\"x\":0.05},\"mapbox\":{\"style\":\"light\"}}},\"scene\":{\"domain\":{\"x\":[0.0,1.0],\"y\":[0.0,1.0]},\"xaxis\":{\"title\":{\"text\":\"overlap\"}},\"yaxis\":{\"title\":{\"text\":\"coverage\"}},\"zaxis\":{\"title\":{\"text\":\"count\"}}},\"legend\":{\"title\":{\"text\":\"experiment\"},\"tracegroupgap\":0},\"margin\":{\"t\":60}},                        {\"responsive\": true}                    ).then(function(){\n",
       "                            \n",
       "var gd = document.getElementById('b255ff98-03b3-40d9-bb89-f2398985d971');\n",
       "var x = new MutationObserver(function (mutations, observer) {{\n",
       "        var display = window.getComputedStyle(gd).display;\n",
       "        if (!display || display === 'none') {{\n",
       "            console.log([gd, 'removed!']);\n",
       "            Plotly.purge(gd);\n",
       "            observer.disconnect();\n",
       "        }}\n",
       "}});\n",
       "\n",
       "// Listen for the removal of the full notebook cells\n",
       "var notebookContainer = gd.closest('#notebook-container');\n",
       "if (notebookContainer) {{\n",
       "    x.observe(notebookContainer, {childList: true});\n",
       "}}\n",
       "\n",
       "// Listen for the clearing of the current output cell\n",
       "var outputEl = gd.closest('.output');\n",
       "if (outputEl) {{\n",
       "    x.observe(outputEl, {childList: true});\n",
       "}}\n",
       "\n",
       "                        })                };                });            </script>        </div>"
      ]
     },
     "metadata": {},
     "output_type": "display_data"
    }
   ],
   "source": [
    "fig = px.scatter_3d(f, x=\"overlap\", y=\"coverage\", z=\"count\",\n",
    "#                    color_discrete_map={\n",
    "#                             \"random initial\": \"grey\",\n",
    "#                             \"greedy best first\": \"orange\",\n",
    "#                             \"greedy weighted\": \"yellow\",\n",
    "#                             \"GA 1\": \"blue\"\n",
    "#                         },\n",
    "                   color=f[\"experiment\"])\n",
    "fig.update_traces(marker=dict(size=5, opacity=0.5)) #colorscale='temps', color=f[\"source\"], opacity=0.75))\n",
    "fig.show()"
   ]
  },
  {
   "cell_type": "markdown",
   "id": "541b4a6c",
   "metadata": {},
   "source": [
    "# REVISIT COV COUNT PLOT GREEDY"
   ]
  },
  {
   "cell_type": "code",
   "execution_count": 16,
   "id": "918c3473",
   "metadata": {},
   "outputs": [],
   "source": [
    "g = []\n",
    "for nomen, set in zip(['weighted', 'non weighted'],[solutions_greedy_weighted, solutions_greedy]):\n",
    "    greedy_sets = [set[0:i+1] for i in range(1, len(set))]\n",
    "    \n",
    "    for greedy_set in greedy_sets:\n",
    "        _ = one_fit(\n",
    "            individual=greedy_set,\n",
    "            overlap_rel=overlap_relative,\n",
    "            qualified_hitlists_source=hitlists,\n",
    "            arealist=face_areas,\n",
    "            max_cov=max_cover)\n",
    "        __ = fitness(\n",
    "            individual=greedy_set,\n",
    "            overlap_rel=overlap_relative,\n",
    "            qualified_hitlists_source=hitlists,\n",
    "            arealist=face_areas,\n",
    "            max_cov=max_cover)\n",
    "        g.append(\n",
    "            {\n",
    "                'experiment': nomen,\n",
    "                'count': __[0],\n",
    "                'fitness': _[0],\n",
    "                'coverage': __[1],\n",
    "                'overlap': __[2]\n",
    "            }\n",
    "        )\n",
    "g = pd.DataFrame(g)"
   ]
  },
  {
   "cell_type": "code",
   "execution_count": 17,
   "id": "ffaeaf88",
   "metadata": {},
   "outputs": [
    {
     "data": {
      "text/plain": [
       "(100, 1.0, 0.2141505755662108)"
      ]
     },
     "execution_count": 17,
     "metadata": {},
     "output_type": "execute_result"
    }
   ],
   "source": [
    "_ = fitness(\n",
    "individual= solutions_greedy,\n",
    "overlap_rel= overlap_relative,\n",
    "qualified_hitlists_source=hitlists,\n",
    "arealist=face_areas,\n",
    "max_cov=max_cover)\n",
    "_"
   ]
  },
  {
   "cell_type": "code",
   "execution_count": 18,
   "id": "d3d119b0",
   "metadata": {},
   "outputs": [
    {
     "data": {
      "text/html": [
       "<div>\n",
       "<style scoped>\n",
       "    .dataframe tbody tr th:only-of-type {\n",
       "        vertical-align: middle;\n",
       "    }\n",
       "\n",
       "    .dataframe tbody tr th {\n",
       "        vertical-align: top;\n",
       "    }\n",
       "\n",
       "    .dataframe thead th {\n",
       "        text-align: right;\n",
       "    }\n",
       "</style>\n",
       "<table border=\"1\" class=\"dataframe\">\n",
       "  <thead>\n",
       "    <tr style=\"text-align: right;\">\n",
       "      <th></th>\n",
       "      <th>experiment</th>\n",
       "      <th>count</th>\n",
       "      <th>fitness</th>\n",
       "      <th>coverage</th>\n",
       "      <th>overlap</th>\n",
       "    </tr>\n",
       "  </thead>\n",
       "  <tbody>\n",
       "    <tr>\n",
       "      <th>0</th>\n",
       "      <td>weighted</td>\n",
       "      <td>2</td>\n",
       "      <td>99.771803</td>\n",
       "      <td>0.228197</td>\n",
       "      <td>0.187431</td>\n",
       "    </tr>\n",
       "    <tr>\n",
       "      <th>1</th>\n",
       "      <td>weighted</td>\n",
       "      <td>3</td>\n",
       "      <td>99.632423</td>\n",
       "      <td>0.367577</td>\n",
       "      <td>0.162849</td>\n",
       "    </tr>\n",
       "    <tr>\n",
       "      <th>2</th>\n",
       "      <td>weighted</td>\n",
       "      <td>4</td>\n",
       "      <td>99.373187</td>\n",
       "      <td>0.626813</td>\n",
       "      <td>0.090899</td>\n",
       "    </tr>\n",
       "    <tr>\n",
       "      <th>3</th>\n",
       "      <td>weighted</td>\n",
       "      <td>5</td>\n",
       "      <td>99.241741</td>\n",
       "      <td>0.758259</td>\n",
       "      <td>0.090899</td>\n",
       "    </tr>\n",
       "    <tr>\n",
       "      <th>4</th>\n",
       "      <td>weighted</td>\n",
       "      <td>6</td>\n",
       "      <td>99.205993</td>\n",
       "      <td>0.794007</td>\n",
       "      <td>0.090899</td>\n",
       "    </tr>\n",
       "    <tr>\n",
       "      <th>5</th>\n",
       "      <td>weighted</td>\n",
       "      <td>7</td>\n",
       "      <td>99.111122</td>\n",
       "      <td>0.888878</td>\n",
       "      <td>0.144733</td>\n",
       "    </tr>\n",
       "    <tr>\n",
       "      <th>6</th>\n",
       "      <td>weighted</td>\n",
       "      <td>8</td>\n",
       "      <td>99.101204</td>\n",
       "      <td>0.898796</td>\n",
       "      <td>0.144733</td>\n",
       "    </tr>\n",
       "    <tr>\n",
       "      <th>7</th>\n",
       "      <td>weighted</td>\n",
       "      <td>9</td>\n",
       "      <td>99.062099</td>\n",
       "      <td>0.937901</td>\n",
       "      <td>0.209741</td>\n",
       "    </tr>\n",
       "    <tr>\n",
       "      <th>8</th>\n",
       "      <td>weighted</td>\n",
       "      <td>10</td>\n",
       "      <td>99.059659</td>\n",
       "      <td>0.940341</td>\n",
       "      <td>0.212617</td>\n",
       "    </tr>\n",
       "    <tr>\n",
       "      <th>9</th>\n",
       "      <td>weighted</td>\n",
       "      <td>11</td>\n",
       "      <td>99.057939</td>\n",
       "      <td>0.942061</td>\n",
       "      <td>0.212617</td>\n",
       "    </tr>\n",
       "    <tr>\n",
       "      <th>10</th>\n",
       "      <td>weighted</td>\n",
       "      <td>12</td>\n",
       "      <td>99.035581</td>\n",
       "      <td>0.964419</td>\n",
       "      <td>0.212617</td>\n",
       "    </tr>\n",
       "    <tr>\n",
       "      <th>11</th>\n",
       "      <td>weighted</td>\n",
       "      <td>13</td>\n",
       "      <td>99.035134</td>\n",
       "      <td>0.964866</td>\n",
       "      <td>0.212617</td>\n",
       "    </tr>\n",
       "    <tr>\n",
       "      <th>12</th>\n",
       "      <td>weighted</td>\n",
       "      <td>14</td>\n",
       "      <td>99.028061</td>\n",
       "      <td>0.971939</td>\n",
       "      <td>0.212617</td>\n",
       "    </tr>\n",
       "    <tr>\n",
       "      <th>13</th>\n",
       "      <td>weighted</td>\n",
       "      <td>15</td>\n",
       "      <td>99.027898</td>\n",
       "      <td>0.972102</td>\n",
       "      <td>0.212617</td>\n",
       "    </tr>\n",
       "    <tr>\n",
       "      <th>14</th>\n",
       "      <td>weighted</td>\n",
       "      <td>16</td>\n",
       "      <td>99.026917</td>\n",
       "      <td>0.973083</td>\n",
       "      <td>0.251877</td>\n",
       "    </tr>\n",
       "    <tr>\n",
       "      <th>15</th>\n",
       "      <td>weighted</td>\n",
       "      <td>17</td>\n",
       "      <td>99.022710</td>\n",
       "      <td>0.977290</td>\n",
       "      <td>0.266336</td>\n",
       "    </tr>\n",
       "    <tr>\n",
       "      <th>16</th>\n",
       "      <td>weighted</td>\n",
       "      <td>18</td>\n",
       "      <td>99.022416</td>\n",
       "      <td>0.977584</td>\n",
       "      <td>0.343691</td>\n",
       "    </tr>\n",
       "    <tr>\n",
       "      <th>17</th>\n",
       "      <td>weighted</td>\n",
       "      <td>19</td>\n",
       "      <td>99.022281</td>\n",
       "      <td>0.977719</td>\n",
       "      <td>0.343691</td>\n",
       "    </tr>\n",
       "    <tr>\n",
       "      <th>18</th>\n",
       "      <td>weighted</td>\n",
       "      <td>20</td>\n",
       "      <td>99.019434</td>\n",
       "      <td>0.980566</td>\n",
       "      <td>0.395304</td>\n",
       "    </tr>\n",
       "    <tr>\n",
       "      <th>19</th>\n",
       "      <td>weighted</td>\n",
       "      <td>21</td>\n",
       "      <td>99.012491</td>\n",
       "      <td>0.987509</td>\n",
       "      <td>0.395304</td>\n",
       "    </tr>\n",
       "    <tr>\n",
       "      <th>20</th>\n",
       "      <td>weighted</td>\n",
       "      <td>22</td>\n",
       "      <td>99.011299</td>\n",
       "      <td>0.988701</td>\n",
       "      <td>0.370068</td>\n",
       "    </tr>\n",
       "    <tr>\n",
       "      <th>21</th>\n",
       "      <td>weighted</td>\n",
       "      <td>23</td>\n",
       "      <td>99.009374</td>\n",
       "      <td>0.990626</td>\n",
       "      <td>0.370068</td>\n",
       "    </tr>\n",
       "    <tr>\n",
       "      <th>22</th>\n",
       "      <td>weighted</td>\n",
       "      <td>24</td>\n",
       "      <td>99.009289</td>\n",
       "      <td>0.990711</td>\n",
       "      <td>0.370068</td>\n",
       "    </tr>\n",
       "    <tr>\n",
       "      <th>23</th>\n",
       "      <td>weighted</td>\n",
       "      <td>25</td>\n",
       "      <td>99.009178</td>\n",
       "      <td>0.990822</td>\n",
       "      <td>0.370068</td>\n",
       "    </tr>\n",
       "    <tr>\n",
       "      <th>24</th>\n",
       "      <td>weighted</td>\n",
       "      <td>26</td>\n",
       "      <td>99.009049</td>\n",
       "      <td>0.990951</td>\n",
       "      <td>0.370068</td>\n",
       "    </tr>\n",
       "    <tr>\n",
       "      <th>25</th>\n",
       "      <td>weighted</td>\n",
       "      <td>27</td>\n",
       "      <td>99.008953</td>\n",
       "      <td>0.991047</td>\n",
       "      <td>0.370068</td>\n",
       "    </tr>\n",
       "    <tr>\n",
       "      <th>26</th>\n",
       "      <td>weighted</td>\n",
       "      <td>28</td>\n",
       "      <td>99.008855</td>\n",
       "      <td>0.991145</td>\n",
       "      <td>0.370068</td>\n",
       "    </tr>\n",
       "    <tr>\n",
       "      <th>27</th>\n",
       "      <td>weighted</td>\n",
       "      <td>29</td>\n",
       "      <td>99.007202</td>\n",
       "      <td>0.992798</td>\n",
       "      <td>0.370068</td>\n",
       "    </tr>\n",
       "    <tr>\n",
       "      <th>28</th>\n",
       "      <td>weighted</td>\n",
       "      <td>30</td>\n",
       "      <td>99.004872</td>\n",
       "      <td>0.995128</td>\n",
       "      <td>0.299072</td>\n",
       "    </tr>\n",
       "    <tr>\n",
       "      <th>29</th>\n",
       "      <td>weighted</td>\n",
       "      <td>31</td>\n",
       "      <td>99.004339</td>\n",
       "      <td>0.995661</td>\n",
       "      <td>0.299072</td>\n",
       "    </tr>\n",
       "    <tr>\n",
       "      <th>30</th>\n",
       "      <td>weighted</td>\n",
       "      <td>32</td>\n",
       "      <td>99.003904</td>\n",
       "      <td>0.996096</td>\n",
       "      <td>0.299072</td>\n",
       "    </tr>\n",
       "    <tr>\n",
       "      <th>31</th>\n",
       "      <td>weighted</td>\n",
       "      <td>33</td>\n",
       "      <td>99.003867</td>\n",
       "      <td>0.996133</td>\n",
       "      <td>0.299072</td>\n",
       "    </tr>\n",
       "    <tr>\n",
       "      <th>32</th>\n",
       "      <td>weighted</td>\n",
       "      <td>34</td>\n",
       "      <td>99.003808</td>\n",
       "      <td>0.996192</td>\n",
       "      <td>0.299072</td>\n",
       "    </tr>\n",
       "    <tr>\n",
       "      <th>33</th>\n",
       "      <td>weighted</td>\n",
       "      <td>35</td>\n",
       "      <td>99.003478</td>\n",
       "      <td>0.996522</td>\n",
       "      <td>0.299072</td>\n",
       "    </tr>\n",
       "    <tr>\n",
       "      <th>34</th>\n",
       "      <td>weighted</td>\n",
       "      <td>36</td>\n",
       "      <td>99.003463</td>\n",
       "      <td>0.996537</td>\n",
       "      <td>0.324096</td>\n",
       "    </tr>\n",
       "    <tr>\n",
       "      <th>35</th>\n",
       "      <td>weighted</td>\n",
       "      <td>37</td>\n",
       "      <td>99.003419</td>\n",
       "      <td>0.996581</td>\n",
       "      <td>0.324096</td>\n",
       "    </tr>\n",
       "    <tr>\n",
       "      <th>36</th>\n",
       "      <td>weighted</td>\n",
       "      <td>38</td>\n",
       "      <td>99.003198</td>\n",
       "      <td>0.996802</td>\n",
       "      <td>0.324096</td>\n",
       "    </tr>\n",
       "    <tr>\n",
       "      <th>37</th>\n",
       "      <td>weighted</td>\n",
       "      <td>39</td>\n",
       "      <td>99.003146</td>\n",
       "      <td>0.996854</td>\n",
       "      <td>0.324096</td>\n",
       "    </tr>\n",
       "    <tr>\n",
       "      <th>38</th>\n",
       "      <td>weighted</td>\n",
       "      <td>40</td>\n",
       "      <td>99.003103</td>\n",
       "      <td>0.996897</td>\n",
       "      <td>0.324096</td>\n",
       "    </tr>\n",
       "    <tr>\n",
       "      <th>39</th>\n",
       "      <td>weighted</td>\n",
       "      <td>41</td>\n",
       "      <td>99.002856</td>\n",
       "      <td>0.997144</td>\n",
       "      <td>0.324096</td>\n",
       "    </tr>\n",
       "    <tr>\n",
       "      <th>40</th>\n",
       "      <td>weighted</td>\n",
       "      <td>42</td>\n",
       "      <td>99.001721</td>\n",
       "      <td>0.998279</td>\n",
       "      <td>0.324096</td>\n",
       "    </tr>\n",
       "    <tr>\n",
       "      <th>41</th>\n",
       "      <td>weighted</td>\n",
       "      <td>43</td>\n",
       "      <td>99.001694</td>\n",
       "      <td>0.998306</td>\n",
       "      <td>0.324096</td>\n",
       "    </tr>\n",
       "    <tr>\n",
       "      <th>42</th>\n",
       "      <td>weighted</td>\n",
       "      <td>44</td>\n",
       "      <td>99.001266</td>\n",
       "      <td>0.998734</td>\n",
       "      <td>0.324096</td>\n",
       "    </tr>\n",
       "    <tr>\n",
       "      <th>43</th>\n",
       "      <td>weighted</td>\n",
       "      <td>45</td>\n",
       "      <td>99.001160</td>\n",
       "      <td>0.998840</td>\n",
       "      <td>0.389169</td>\n",
       "    </tr>\n",
       "    <tr>\n",
       "      <th>44</th>\n",
       "      <td>weighted</td>\n",
       "      <td>46</td>\n",
       "      <td>99.001069</td>\n",
       "      <td>0.998931</td>\n",
       "      <td>0.389169</td>\n",
       "    </tr>\n",
       "    <tr>\n",
       "      <th>45</th>\n",
       "      <td>weighted</td>\n",
       "      <td>47</td>\n",
       "      <td>99.001057</td>\n",
       "      <td>0.998943</td>\n",
       "      <td>0.389169</td>\n",
       "    </tr>\n",
       "    <tr>\n",
       "      <th>46</th>\n",
       "      <td>weighted</td>\n",
       "      <td>48</td>\n",
       "      <td>99.001035</td>\n",
       "      <td>0.998965</td>\n",
       "      <td>0.389169</td>\n",
       "    </tr>\n",
       "    <tr>\n",
       "      <th>47</th>\n",
       "      <td>weighted</td>\n",
       "      <td>49</td>\n",
       "      <td>99.001006</td>\n",
       "      <td>0.998994</td>\n",
       "      <td>0.389169</td>\n",
       "    </tr>\n",
       "    <tr>\n",
       "      <th>48</th>\n",
       "      <td>weighted</td>\n",
       "      <td>50</td>\n",
       "      <td>99.000996</td>\n",
       "      <td>0.999004</td>\n",
       "      <td>0.389169</td>\n",
       "    </tr>\n",
       "    <tr>\n",
       "      <th>49</th>\n",
       "      <td>weighted</td>\n",
       "      <td>51</td>\n",
       "      <td>99.000568</td>\n",
       "      <td>0.999432</td>\n",
       "      <td>0.298724</td>\n",
       "    </tr>\n",
       "    <tr>\n",
       "      <th>50</th>\n",
       "      <td>weighted</td>\n",
       "      <td>52</td>\n",
       "      <td>99.000553</td>\n",
       "      <td>0.999447</td>\n",
       "      <td>0.298724</td>\n",
       "    </tr>\n",
       "    <tr>\n",
       "      <th>51</th>\n",
       "      <td>weighted</td>\n",
       "      <td>53</td>\n",
       "      <td>99.000540</td>\n",
       "      <td>0.999460</td>\n",
       "      <td>0.298724</td>\n",
       "    </tr>\n",
       "    <tr>\n",
       "      <th>52</th>\n",
       "      <td>weighted</td>\n",
       "      <td>54</td>\n",
       "      <td>99.000511</td>\n",
       "      <td>0.999489</td>\n",
       "      <td>0.298724</td>\n",
       "    </tr>\n",
       "    <tr>\n",
       "      <th>53</th>\n",
       "      <td>weighted</td>\n",
       "      <td>55</td>\n",
       "      <td>99.000495</td>\n",
       "      <td>0.999505</td>\n",
       "      <td>0.298724</td>\n",
       "    </tr>\n",
       "    <tr>\n",
       "      <th>54</th>\n",
       "      <td>weighted</td>\n",
       "      <td>56</td>\n",
       "      <td>99.000489</td>\n",
       "      <td>0.999511</td>\n",
       "      <td>0.298724</td>\n",
       "    </tr>\n",
       "    <tr>\n",
       "      <th>55</th>\n",
       "      <td>weighted</td>\n",
       "      <td>57</td>\n",
       "      <td>99.000475</td>\n",
       "      <td>0.999525</td>\n",
       "      <td>0.298724</td>\n",
       "    </tr>\n",
       "    <tr>\n",
       "      <th>56</th>\n",
       "      <td>weighted</td>\n",
       "      <td>58</td>\n",
       "      <td>99.000453</td>\n",
       "      <td>0.999547</td>\n",
       "      <td>0.334281</td>\n",
       "    </tr>\n",
       "    <tr>\n",
       "      <th>57</th>\n",
       "      <td>weighted</td>\n",
       "      <td>59</td>\n",
       "      <td>99.000439</td>\n",
       "      <td>0.999561</td>\n",
       "      <td>0.334281</td>\n",
       "    </tr>\n",
       "    <tr>\n",
       "      <th>58</th>\n",
       "      <td>weighted</td>\n",
       "      <td>60</td>\n",
       "      <td>99.000428</td>\n",
       "      <td>0.999572</td>\n",
       "      <td>0.334281</td>\n",
       "    </tr>\n",
       "    <tr>\n",
       "      <th>59</th>\n",
       "      <td>weighted</td>\n",
       "      <td>61</td>\n",
       "      <td>99.000416</td>\n",
       "      <td>0.999584</td>\n",
       "      <td>0.334281</td>\n",
       "    </tr>\n",
       "    <tr>\n",
       "      <th>60</th>\n",
       "      <td>weighted</td>\n",
       "      <td>62</td>\n",
       "      <td>99.000370</td>\n",
       "      <td>0.999630</td>\n",
       "      <td>0.334281</td>\n",
       "    </tr>\n",
       "    <tr>\n",
       "      <th>61</th>\n",
       "      <td>weighted</td>\n",
       "      <td>63</td>\n",
       "      <td>99.000363</td>\n",
       "      <td>0.999637</td>\n",
       "      <td>0.341304</td>\n",
       "    </tr>\n",
       "    <tr>\n",
       "      <th>62</th>\n",
       "      <td>weighted</td>\n",
       "      <td>64</td>\n",
       "      <td>99.000359</td>\n",
       "      <td>0.999641</td>\n",
       "      <td>0.341304</td>\n",
       "    </tr>\n",
       "    <tr>\n",
       "      <th>63</th>\n",
       "      <td>weighted</td>\n",
       "      <td>65</td>\n",
       "      <td>99.000340</td>\n",
       "      <td>0.999660</td>\n",
       "      <td>0.341304</td>\n",
       "    </tr>\n",
       "    <tr>\n",
       "      <th>64</th>\n",
       "      <td>weighted</td>\n",
       "      <td>66</td>\n",
       "      <td>99.000229</td>\n",
       "      <td>0.999771</td>\n",
       "      <td>0.308576</td>\n",
       "    </tr>\n",
       "    <tr>\n",
       "      <th>65</th>\n",
       "      <td>weighted</td>\n",
       "      <td>67</td>\n",
       "      <td>99.000222</td>\n",
       "      <td>0.999778</td>\n",
       "      <td>0.308576</td>\n",
       "    </tr>\n",
       "    <tr>\n",
       "      <th>66</th>\n",
       "      <td>weighted</td>\n",
       "      <td>68</td>\n",
       "      <td>99.000217</td>\n",
       "      <td>0.999783</td>\n",
       "      <td>0.308576</td>\n",
       "    </tr>\n",
       "    <tr>\n",
       "      <th>67</th>\n",
       "      <td>weighted</td>\n",
       "      <td>69</td>\n",
       "      <td>99.000210</td>\n",
       "      <td>0.999790</td>\n",
       "      <td>0.308576</td>\n",
       "    </tr>\n",
       "    <tr>\n",
       "      <th>68</th>\n",
       "      <td>weighted</td>\n",
       "      <td>70</td>\n",
       "      <td>99.000208</td>\n",
       "      <td>0.999792</td>\n",
       "      <td>0.308576</td>\n",
       "    </tr>\n",
       "    <tr>\n",
       "      <th>69</th>\n",
       "      <td>weighted</td>\n",
       "      <td>71</td>\n",
       "      <td>99.000141</td>\n",
       "      <td>0.999859</td>\n",
       "      <td>0.308576</td>\n",
       "    </tr>\n",
       "    <tr>\n",
       "      <th>70</th>\n",
       "      <td>weighted</td>\n",
       "      <td>72</td>\n",
       "      <td>99.000130</td>\n",
       "      <td>0.999870</td>\n",
       "      <td>0.308576</td>\n",
       "    </tr>\n",
       "    <tr>\n",
       "      <th>71</th>\n",
       "      <td>weighted</td>\n",
       "      <td>73</td>\n",
       "      <td>99.000123</td>\n",
       "      <td>0.999877</td>\n",
       "      <td>0.308576</td>\n",
       "    </tr>\n",
       "    <tr>\n",
       "      <th>72</th>\n",
       "      <td>weighted</td>\n",
       "      <td>74</td>\n",
       "      <td>99.000119</td>\n",
       "      <td>0.999881</td>\n",
       "      <td>0.308576</td>\n",
       "    </tr>\n",
       "    <tr>\n",
       "      <th>73</th>\n",
       "      <td>weighted</td>\n",
       "      <td>75</td>\n",
       "      <td>99.000086</td>\n",
       "      <td>0.999914</td>\n",
       "      <td>0.308576</td>\n",
       "    </tr>\n",
       "    <tr>\n",
       "      <th>74</th>\n",
       "      <td>weighted</td>\n",
       "      <td>76</td>\n",
       "      <td>99.000083</td>\n",
       "      <td>0.999917</td>\n",
       "      <td>0.308576</td>\n",
       "    </tr>\n",
       "    <tr>\n",
       "      <th>75</th>\n",
       "      <td>weighted</td>\n",
       "      <td>77</td>\n",
       "      <td>99.000062</td>\n",
       "      <td>0.999938</td>\n",
       "      <td>0.308576</td>\n",
       "    </tr>\n",
       "    <tr>\n",
       "      <th>76</th>\n",
       "      <td>weighted</td>\n",
       "      <td>78</td>\n",
       "      <td>99.000051</td>\n",
       "      <td>0.999949</td>\n",
       "      <td>0.308576</td>\n",
       "    </tr>\n",
       "    <tr>\n",
       "      <th>77</th>\n",
       "      <td>weighted</td>\n",
       "      <td>79</td>\n",
       "      <td>99.000048</td>\n",
       "      <td>0.999952</td>\n",
       "      <td>0.308576</td>\n",
       "    </tr>\n",
       "    <tr>\n",
       "      <th>78</th>\n",
       "      <td>weighted</td>\n",
       "      <td>80</td>\n",
       "      <td>99.000043</td>\n",
       "      <td>0.999957</td>\n",
       "      <td>0.308576</td>\n",
       "    </tr>\n",
       "    <tr>\n",
       "      <th>79</th>\n",
       "      <td>weighted</td>\n",
       "      <td>81</td>\n",
       "      <td>99.000042</td>\n",
       "      <td>0.999958</td>\n",
       "      <td>0.308576</td>\n",
       "    </tr>\n",
       "    <tr>\n",
       "      <th>80</th>\n",
       "      <td>weighted</td>\n",
       "      <td>82</td>\n",
       "      <td>99.000035</td>\n",
       "      <td>0.999965</td>\n",
       "      <td>0.308576</td>\n",
       "    </tr>\n",
       "    <tr>\n",
       "      <th>81</th>\n",
       "      <td>weighted</td>\n",
       "      <td>83</td>\n",
       "      <td>99.000034</td>\n",
       "      <td>0.999966</td>\n",
       "      <td>0.308576</td>\n",
       "    </tr>\n",
       "    <tr>\n",
       "      <th>82</th>\n",
       "      <td>weighted</td>\n",
       "      <td>84</td>\n",
       "      <td>99.000033</td>\n",
       "      <td>0.999967</td>\n",
       "      <td>0.308576</td>\n",
       "    </tr>\n",
       "    <tr>\n",
       "      <th>83</th>\n",
       "      <td>weighted</td>\n",
       "      <td>85</td>\n",
       "      <td>99.000033</td>\n",
       "      <td>0.999967</td>\n",
       "      <td>0.308576</td>\n",
       "    </tr>\n",
       "    <tr>\n",
       "      <th>84</th>\n",
       "      <td>weighted</td>\n",
       "      <td>86</td>\n",
       "      <td>99.000012</td>\n",
       "      <td>0.999988</td>\n",
       "      <td>0.247016</td>\n",
       "    </tr>\n",
       "    <tr>\n",
       "      <th>85</th>\n",
       "      <td>weighted</td>\n",
       "      <td>87</td>\n",
       "      <td>99.000012</td>\n",
       "      <td>0.999988</td>\n",
       "      <td>0.247016</td>\n",
       "    </tr>\n",
       "    <tr>\n",
       "      <th>86</th>\n",
       "      <td>weighted</td>\n",
       "      <td>88</td>\n",
       "      <td>99.000010</td>\n",
       "      <td>0.999990</td>\n",
       "      <td>0.247016</td>\n",
       "    </tr>\n",
       "    <tr>\n",
       "      <th>87</th>\n",
       "      <td>weighted</td>\n",
       "      <td>89</td>\n",
       "      <td>99.000009</td>\n",
       "      <td>0.999991</td>\n",
       "      <td>0.247016</td>\n",
       "    </tr>\n",
       "    <tr>\n",
       "      <th>88</th>\n",
       "      <td>weighted</td>\n",
       "      <td>90</td>\n",
       "      <td>99.000008</td>\n",
       "      <td>0.999992</td>\n",
       "      <td>0.247016</td>\n",
       "    </tr>\n",
       "    <tr>\n",
       "      <th>89</th>\n",
       "      <td>weighted</td>\n",
       "      <td>91</td>\n",
       "      <td>99.000007</td>\n",
       "      <td>0.999993</td>\n",
       "      <td>0.247016</td>\n",
       "    </tr>\n",
       "    <tr>\n",
       "      <th>90</th>\n",
       "      <td>weighted</td>\n",
       "      <td>92</td>\n",
       "      <td>99.000006</td>\n",
       "      <td>0.999994</td>\n",
       "      <td>0.247016</td>\n",
       "    </tr>\n",
       "    <tr>\n",
       "      <th>91</th>\n",
       "      <td>weighted</td>\n",
       "      <td>93</td>\n",
       "      <td>99.000005</td>\n",
       "      <td>0.999995</td>\n",
       "      <td>0.247016</td>\n",
       "    </tr>\n",
       "    <tr>\n",
       "      <th>92</th>\n",
       "      <td>weighted</td>\n",
       "      <td>94</td>\n",
       "      <td>99.000005</td>\n",
       "      <td>0.999995</td>\n",
       "      <td>0.247016</td>\n",
       "    </tr>\n",
       "    <tr>\n",
       "      <th>93</th>\n",
       "      <td>weighted</td>\n",
       "      <td>95</td>\n",
       "      <td>99.000001</td>\n",
       "      <td>0.999999</td>\n",
       "      <td>0.247016</td>\n",
       "    </tr>\n",
       "    <tr>\n",
       "      <th>94</th>\n",
       "      <td>weighted</td>\n",
       "      <td>96</td>\n",
       "      <td>99.000000</td>\n",
       "      <td>1.000000</td>\n",
       "      <td>0.247016</td>\n",
       "    </tr>\n",
       "    <tr>\n",
       "      <th>95</th>\n",
       "      <td>non weighted</td>\n",
       "      <td>2</td>\n",
       "      <td>99.470977</td>\n",
       "      <td>0.529023</td>\n",
       "      <td>0.237187</td>\n",
       "    </tr>\n",
       "    <tr>\n",
       "      <th>96</th>\n",
       "      <td>non weighted</td>\n",
       "      <td>3</td>\n",
       "      <td>99.349094</td>\n",
       "      <td>0.650906</td>\n",
       "      <td>0.221187</td>\n",
       "    </tr>\n",
       "    <tr>\n",
       "      <th>97</th>\n",
       "      <td>non weighted</td>\n",
       "      <td>4</td>\n",
       "      <td>99.258179</td>\n",
       "      <td>0.741821</td>\n",
       "      <td>0.148228</td>\n",
       "    </tr>\n",
       "    <tr>\n",
       "      <th>98</th>\n",
       "      <td>non weighted</td>\n",
       "      <td>5</td>\n",
       "      <td>99.181085</td>\n",
       "      <td>0.818915</td>\n",
       "      <td>0.170352</td>\n",
       "    </tr>\n",
       "    <tr>\n",
       "      <th>99</th>\n",
       "      <td>non weighted</td>\n",
       "      <td>6</td>\n",
       "      <td>99.116673</td>\n",
       "      <td>0.883327</td>\n",
       "      <td>0.209307</td>\n",
       "    </tr>\n",
       "    <tr>\n",
       "      <th>100</th>\n",
       "      <td>non weighted</td>\n",
       "      <td>7</td>\n",
       "      <td>99.089398</td>\n",
       "      <td>0.910602</td>\n",
       "      <td>0.209307</td>\n",
       "    </tr>\n",
       "    <tr>\n",
       "      <th>101</th>\n",
       "      <td>non weighted</td>\n",
       "      <td>8</td>\n",
       "      <td>99.064265</td>\n",
       "      <td>0.935735</td>\n",
       "      <td>0.209307</td>\n",
       "    </tr>\n",
       "    <tr>\n",
       "      <th>102</th>\n",
       "      <td>non weighted</td>\n",
       "      <td>9</td>\n",
       "      <td>99.043686</td>\n",
       "      <td>0.956314</td>\n",
       "      <td>0.209307</td>\n",
       "    </tr>\n",
       "    <tr>\n",
       "      <th>103</th>\n",
       "      <td>non weighted</td>\n",
       "      <td>10</td>\n",
       "      <td>99.030927</td>\n",
       "      <td>0.969073</td>\n",
       "      <td>0.209307</td>\n",
       "    </tr>\n",
       "    <tr>\n",
       "      <th>104</th>\n",
       "      <td>non weighted</td>\n",
       "      <td>11</td>\n",
       "      <td>99.022826</td>\n",
       "      <td>0.977174</td>\n",
       "      <td>0.293611</td>\n",
       "    </tr>\n",
       "    <tr>\n",
       "      <th>105</th>\n",
       "      <td>non weighted</td>\n",
       "      <td>12</td>\n",
       "      <td>99.017809</td>\n",
       "      <td>0.982191</td>\n",
       "      <td>0.293611</td>\n",
       "    </tr>\n",
       "    <tr>\n",
       "      <th>106</th>\n",
       "      <td>non weighted</td>\n",
       "      <td>13</td>\n",
       "      <td>99.014751</td>\n",
       "      <td>0.985249</td>\n",
       "      <td>0.344998</td>\n",
       "    </tr>\n",
       "    <tr>\n",
       "      <th>107</th>\n",
       "      <td>non weighted</td>\n",
       "      <td>14</td>\n",
       "      <td>99.012085</td>\n",
       "      <td>0.987915</td>\n",
       "      <td>0.344998</td>\n",
       "    </tr>\n",
       "    <tr>\n",
       "      <th>108</th>\n",
       "      <td>non weighted</td>\n",
       "      <td>15</td>\n",
       "      <td>99.010333</td>\n",
       "      <td>0.989667</td>\n",
       "      <td>0.344998</td>\n",
       "    </tr>\n",
       "    <tr>\n",
       "      <th>109</th>\n",
       "      <td>non weighted</td>\n",
       "      <td>16</td>\n",
       "      <td>99.008663</td>\n",
       "      <td>0.991337</td>\n",
       "      <td>0.335271</td>\n",
       "    </tr>\n",
       "    <tr>\n",
       "      <th>110</th>\n",
       "      <td>non weighted</td>\n",
       "      <td>17</td>\n",
       "      <td>99.007350</td>\n",
       "      <td>0.992650</td>\n",
       "      <td>0.335271</td>\n",
       "    </tr>\n",
       "    <tr>\n",
       "      <th>111</th>\n",
       "      <td>non weighted</td>\n",
       "      <td>18</td>\n",
       "      <td>99.006351</td>\n",
       "      <td>0.993649</td>\n",
       "      <td>0.335271</td>\n",
       "    </tr>\n",
       "    <tr>\n",
       "      <th>112</th>\n",
       "      <td>non weighted</td>\n",
       "      <td>19</td>\n",
       "      <td>99.005529</td>\n",
       "      <td>0.994471</td>\n",
       "      <td>0.335271</td>\n",
       "    </tr>\n",
       "    <tr>\n",
       "      <th>113</th>\n",
       "      <td>non weighted</td>\n",
       "      <td>20</td>\n",
       "      <td>99.004853</td>\n",
       "      <td>0.995147</td>\n",
       "      <td>0.335271</td>\n",
       "    </tr>\n",
       "    <tr>\n",
       "      <th>114</th>\n",
       "      <td>non weighted</td>\n",
       "      <td>21</td>\n",
       "      <td>99.004253</td>\n",
       "      <td>0.995747</td>\n",
       "      <td>0.318571</td>\n",
       "    </tr>\n",
       "    <tr>\n",
       "      <th>115</th>\n",
       "      <td>non weighted</td>\n",
       "      <td>22</td>\n",
       "      <td>99.003846</td>\n",
       "      <td>0.996154</td>\n",
       "      <td>0.318571</td>\n",
       "    </tr>\n",
       "    <tr>\n",
       "      <th>116</th>\n",
       "      <td>non weighted</td>\n",
       "      <td>23</td>\n",
       "      <td>99.003490</td>\n",
       "      <td>0.996510</td>\n",
       "      <td>0.318571</td>\n",
       "    </tr>\n",
       "    <tr>\n",
       "      <th>117</th>\n",
       "      <td>non weighted</td>\n",
       "      <td>24</td>\n",
       "      <td>99.003165</td>\n",
       "      <td>0.996835</td>\n",
       "      <td>0.348467</td>\n",
       "    </tr>\n",
       "    <tr>\n",
       "      <th>118</th>\n",
       "      <td>non weighted</td>\n",
       "      <td>25</td>\n",
       "      <td>99.002868</td>\n",
       "      <td>0.997132</td>\n",
       "      <td>0.300551</td>\n",
       "    </tr>\n",
       "    <tr>\n",
       "      <th>119</th>\n",
       "      <td>non weighted</td>\n",
       "      <td>26</td>\n",
       "      <td>99.002668</td>\n",
       "      <td>0.997332</td>\n",
       "      <td>0.300551</td>\n",
       "    </tr>\n",
       "    <tr>\n",
       "      <th>120</th>\n",
       "      <td>non weighted</td>\n",
       "      <td>27</td>\n",
       "      <td>99.002490</td>\n",
       "      <td>0.997510</td>\n",
       "      <td>0.300551</td>\n",
       "    </tr>\n",
       "    <tr>\n",
       "      <th>121</th>\n",
       "      <td>non weighted</td>\n",
       "      <td>28</td>\n",
       "      <td>99.002335</td>\n",
       "      <td>0.997665</td>\n",
       "      <td>0.332574</td>\n",
       "    </tr>\n",
       "    <tr>\n",
       "      <th>122</th>\n",
       "      <td>non weighted</td>\n",
       "      <td>29</td>\n",
       "      <td>99.002187</td>\n",
       "      <td>0.997813</td>\n",
       "      <td>0.154059</td>\n",
       "    </tr>\n",
       "    <tr>\n",
       "      <th>123</th>\n",
       "      <td>non weighted</td>\n",
       "      <td>30</td>\n",
       "      <td>99.002041</td>\n",
       "      <td>0.997959</td>\n",
       "      <td>0.154059</td>\n",
       "    </tr>\n",
       "    <tr>\n",
       "      <th>124</th>\n",
       "      <td>non weighted</td>\n",
       "      <td>31</td>\n",
       "      <td>99.001898</td>\n",
       "      <td>0.998102</td>\n",
       "      <td>0.154059</td>\n",
       "    </tr>\n",
       "    <tr>\n",
       "      <th>125</th>\n",
       "      <td>non weighted</td>\n",
       "      <td>32</td>\n",
       "      <td>99.001757</td>\n",
       "      <td>0.998243</td>\n",
       "      <td>0.154059</td>\n",
       "    </tr>\n",
       "    <tr>\n",
       "      <th>126</th>\n",
       "      <td>non weighted</td>\n",
       "      <td>33</td>\n",
       "      <td>99.001622</td>\n",
       "      <td>0.998378</td>\n",
       "      <td>0.154059</td>\n",
       "    </tr>\n",
       "    <tr>\n",
       "      <th>127</th>\n",
       "      <td>non weighted</td>\n",
       "      <td>34</td>\n",
       "      <td>99.001496</td>\n",
       "      <td>0.998504</td>\n",
       "      <td>0.154059</td>\n",
       "    </tr>\n",
       "    <tr>\n",
       "      <th>128</th>\n",
       "      <td>non weighted</td>\n",
       "      <td>35</td>\n",
       "      <td>99.001376</td>\n",
       "      <td>0.998624</td>\n",
       "      <td>0.154059</td>\n",
       "    </tr>\n",
       "    <tr>\n",
       "      <th>129</th>\n",
       "      <td>non weighted</td>\n",
       "      <td>36</td>\n",
       "      <td>99.001265</td>\n",
       "      <td>0.998735</td>\n",
       "      <td>0.154059</td>\n",
       "    </tr>\n",
       "    <tr>\n",
       "      <th>130</th>\n",
       "      <td>non weighted</td>\n",
       "      <td>37</td>\n",
       "      <td>99.001157</td>\n",
       "      <td>0.998843</td>\n",
       "      <td>0.154059</td>\n",
       "    </tr>\n",
       "    <tr>\n",
       "      <th>131</th>\n",
       "      <td>non weighted</td>\n",
       "      <td>38</td>\n",
       "      <td>99.001055</td>\n",
       "      <td>0.998945</td>\n",
       "      <td>0.259304</td>\n",
       "    </tr>\n",
       "    <tr>\n",
       "      <th>132</th>\n",
       "      <td>non weighted</td>\n",
       "      <td>39</td>\n",
       "      <td>99.000976</td>\n",
       "      <td>0.999024</td>\n",
       "      <td>0.259304</td>\n",
       "    </tr>\n",
       "    <tr>\n",
       "      <th>133</th>\n",
       "      <td>non weighted</td>\n",
       "      <td>40</td>\n",
       "      <td>99.000902</td>\n",
       "      <td>0.999098</td>\n",
       "      <td>0.183132</td>\n",
       "    </tr>\n",
       "    <tr>\n",
       "      <th>134</th>\n",
       "      <td>non weighted</td>\n",
       "      <td>41</td>\n",
       "      <td>99.000832</td>\n",
       "      <td>0.999168</td>\n",
       "      <td>0.183132</td>\n",
       "    </tr>\n",
       "    <tr>\n",
       "      <th>135</th>\n",
       "      <td>non weighted</td>\n",
       "      <td>42</td>\n",
       "      <td>99.000768</td>\n",
       "      <td>0.999232</td>\n",
       "      <td>0.183132</td>\n",
       "    </tr>\n",
       "    <tr>\n",
       "      <th>136</th>\n",
       "      <td>non weighted</td>\n",
       "      <td>43</td>\n",
       "      <td>99.000706</td>\n",
       "      <td>0.999294</td>\n",
       "      <td>0.183132</td>\n",
       "    </tr>\n",
       "    <tr>\n",
       "      <th>137</th>\n",
       "      <td>non weighted</td>\n",
       "      <td>44</td>\n",
       "      <td>99.000648</td>\n",
       "      <td>0.999352</td>\n",
       "      <td>0.183132</td>\n",
       "    </tr>\n",
       "    <tr>\n",
       "      <th>138</th>\n",
       "      <td>non weighted</td>\n",
       "      <td>45</td>\n",
       "      <td>99.000592</td>\n",
       "      <td>0.999408</td>\n",
       "      <td>0.183132</td>\n",
       "    </tr>\n",
       "    <tr>\n",
       "      <th>139</th>\n",
       "      <td>non weighted</td>\n",
       "      <td>46</td>\n",
       "      <td>99.000540</td>\n",
       "      <td>0.999460</td>\n",
       "      <td>0.183132</td>\n",
       "    </tr>\n",
       "    <tr>\n",
       "      <th>140</th>\n",
       "      <td>non weighted</td>\n",
       "      <td>47</td>\n",
       "      <td>99.000500</td>\n",
       "      <td>0.999500</td>\n",
       "      <td>0.183132</td>\n",
       "    </tr>\n",
       "    <tr>\n",
       "      <th>141</th>\n",
       "      <td>non weighted</td>\n",
       "      <td>48</td>\n",
       "      <td>99.000468</td>\n",
       "      <td>0.999532</td>\n",
       "      <td>0.183132</td>\n",
       "    </tr>\n",
       "    <tr>\n",
       "      <th>142</th>\n",
       "      <td>non weighted</td>\n",
       "      <td>49</td>\n",
       "      <td>99.000439</td>\n",
       "      <td>0.999561</td>\n",
       "      <td>0.183132</td>\n",
       "    </tr>\n",
       "    <tr>\n",
       "      <th>143</th>\n",
       "      <td>non weighted</td>\n",
       "      <td>50</td>\n",
       "      <td>99.000412</td>\n",
       "      <td>0.999588</td>\n",
       "      <td>0.183132</td>\n",
       "    </tr>\n",
       "    <tr>\n",
       "      <th>144</th>\n",
       "      <td>non weighted</td>\n",
       "      <td>51</td>\n",
       "      <td>99.000388</td>\n",
       "      <td>0.999612</td>\n",
       "      <td>0.183132</td>\n",
       "    </tr>\n",
       "    <tr>\n",
       "      <th>145</th>\n",
       "      <td>non weighted</td>\n",
       "      <td>52</td>\n",
       "      <td>99.000365</td>\n",
       "      <td>0.999635</td>\n",
       "      <td>0.183132</td>\n",
       "    </tr>\n",
       "    <tr>\n",
       "      <th>146</th>\n",
       "      <td>non weighted</td>\n",
       "      <td>53</td>\n",
       "      <td>99.000343</td>\n",
       "      <td>0.999657</td>\n",
       "      <td>0.183132</td>\n",
       "    </tr>\n",
       "    <tr>\n",
       "      <th>147</th>\n",
       "      <td>non weighted</td>\n",
       "      <td>54</td>\n",
       "      <td>99.000320</td>\n",
       "      <td>0.999680</td>\n",
       "      <td>0.183132</td>\n",
       "    </tr>\n",
       "    <tr>\n",
       "      <th>148</th>\n",
       "      <td>non weighted</td>\n",
       "      <td>55</td>\n",
       "      <td>99.000302</td>\n",
       "      <td>0.999698</td>\n",
       "      <td>0.183132</td>\n",
       "    </tr>\n",
       "    <tr>\n",
       "      <th>149</th>\n",
       "      <td>non weighted</td>\n",
       "      <td>56</td>\n",
       "      <td>99.000284</td>\n",
       "      <td>0.999716</td>\n",
       "      <td>0.183132</td>\n",
       "    </tr>\n",
       "    <tr>\n",
       "      <th>150</th>\n",
       "      <td>non weighted</td>\n",
       "      <td>57</td>\n",
       "      <td>99.000266</td>\n",
       "      <td>0.999734</td>\n",
       "      <td>0.183132</td>\n",
       "    </tr>\n",
       "    <tr>\n",
       "      <th>151</th>\n",
       "      <td>non weighted</td>\n",
       "      <td>58</td>\n",
       "      <td>99.000250</td>\n",
       "      <td>0.999750</td>\n",
       "      <td>0.183132</td>\n",
       "    </tr>\n",
       "    <tr>\n",
       "      <th>152</th>\n",
       "      <td>non weighted</td>\n",
       "      <td>59</td>\n",
       "      <td>99.000235</td>\n",
       "      <td>0.999765</td>\n",
       "      <td>0.183132</td>\n",
       "    </tr>\n",
       "    <tr>\n",
       "      <th>153</th>\n",
       "      <td>non weighted</td>\n",
       "      <td>60</td>\n",
       "      <td>99.000220</td>\n",
       "      <td>0.999780</td>\n",
       "      <td>0.183132</td>\n",
       "    </tr>\n",
       "    <tr>\n",
       "      <th>154</th>\n",
       "      <td>non weighted</td>\n",
       "      <td>61</td>\n",
       "      <td>99.000205</td>\n",
       "      <td>0.999795</td>\n",
       "      <td>0.306061</td>\n",
       "    </tr>\n",
       "    <tr>\n",
       "      <th>155</th>\n",
       "      <td>non weighted</td>\n",
       "      <td>62</td>\n",
       "      <td>99.000190</td>\n",
       "      <td>0.999810</td>\n",
       "      <td>0.306061</td>\n",
       "    </tr>\n",
       "    <tr>\n",
       "      <th>156</th>\n",
       "      <td>non weighted</td>\n",
       "      <td>63</td>\n",
       "      <td>99.000176</td>\n",
       "      <td>0.999824</td>\n",
       "      <td>0.306061</td>\n",
       "    </tr>\n",
       "    <tr>\n",
       "      <th>157</th>\n",
       "      <td>non weighted</td>\n",
       "      <td>64</td>\n",
       "      <td>99.000161</td>\n",
       "      <td>0.999839</td>\n",
       "      <td>0.306061</td>\n",
       "    </tr>\n",
       "    <tr>\n",
       "      <th>158</th>\n",
       "      <td>non weighted</td>\n",
       "      <td>65</td>\n",
       "      <td>99.000147</td>\n",
       "      <td>0.999853</td>\n",
       "      <td>0.306061</td>\n",
       "    </tr>\n",
       "    <tr>\n",
       "      <th>159</th>\n",
       "      <td>non weighted</td>\n",
       "      <td>66</td>\n",
       "      <td>99.000136</td>\n",
       "      <td>0.999864</td>\n",
       "      <td>0.306061</td>\n",
       "    </tr>\n",
       "    <tr>\n",
       "      <th>160</th>\n",
       "      <td>non weighted</td>\n",
       "      <td>67</td>\n",
       "      <td>99.000124</td>\n",
       "      <td>0.999876</td>\n",
       "      <td>0.306061</td>\n",
       "    </tr>\n",
       "    <tr>\n",
       "      <th>161</th>\n",
       "      <td>non weighted</td>\n",
       "      <td>68</td>\n",
       "      <td>99.000113</td>\n",
       "      <td>0.999887</td>\n",
       "      <td>0.306061</td>\n",
       "    </tr>\n",
       "    <tr>\n",
       "      <th>162</th>\n",
       "      <td>non weighted</td>\n",
       "      <td>69</td>\n",
       "      <td>99.000103</td>\n",
       "      <td>0.999897</td>\n",
       "      <td>0.306061</td>\n",
       "    </tr>\n",
       "    <tr>\n",
       "      <th>163</th>\n",
       "      <td>non weighted</td>\n",
       "      <td>70</td>\n",
       "      <td>99.000092</td>\n",
       "      <td>0.999908</td>\n",
       "      <td>0.306061</td>\n",
       "    </tr>\n",
       "    <tr>\n",
       "      <th>164</th>\n",
       "      <td>non weighted</td>\n",
       "      <td>71</td>\n",
       "      <td>99.000082</td>\n",
       "      <td>0.999918</td>\n",
       "      <td>0.306061</td>\n",
       "    </tr>\n",
       "    <tr>\n",
       "      <th>165</th>\n",
       "      <td>non weighted</td>\n",
       "      <td>72</td>\n",
       "      <td>99.000075</td>\n",
       "      <td>0.999925</td>\n",
       "      <td>0.306061</td>\n",
       "    </tr>\n",
       "    <tr>\n",
       "      <th>166</th>\n",
       "      <td>non weighted</td>\n",
       "      <td>73</td>\n",
       "      <td>99.000068</td>\n",
       "      <td>0.999932</td>\n",
       "      <td>0.306061</td>\n",
       "    </tr>\n",
       "    <tr>\n",
       "      <th>167</th>\n",
       "      <td>non weighted</td>\n",
       "      <td>74</td>\n",
       "      <td>99.000061</td>\n",
       "      <td>0.999939</td>\n",
       "      <td>0.306061</td>\n",
       "    </tr>\n",
       "    <tr>\n",
       "      <th>168</th>\n",
       "      <td>non weighted</td>\n",
       "      <td>75</td>\n",
       "      <td>99.000053</td>\n",
       "      <td>0.999947</td>\n",
       "      <td>0.306061</td>\n",
       "    </tr>\n",
       "    <tr>\n",
       "      <th>169</th>\n",
       "      <td>non weighted</td>\n",
       "      <td>76</td>\n",
       "      <td>99.000049</td>\n",
       "      <td>0.999951</td>\n",
       "      <td>0.306061</td>\n",
       "    </tr>\n",
       "    <tr>\n",
       "      <th>170</th>\n",
       "      <td>non weighted</td>\n",
       "      <td>77</td>\n",
       "      <td>99.000044</td>\n",
       "      <td>0.999956</td>\n",
       "      <td>0.306061</td>\n",
       "    </tr>\n",
       "    <tr>\n",
       "      <th>171</th>\n",
       "      <td>non weighted</td>\n",
       "      <td>78</td>\n",
       "      <td>99.000041</td>\n",
       "      <td>0.999959</td>\n",
       "      <td>0.306061</td>\n",
       "    </tr>\n",
       "    <tr>\n",
       "      <th>172</th>\n",
       "      <td>non weighted</td>\n",
       "      <td>79</td>\n",
       "      <td>99.000037</td>\n",
       "      <td>0.999963</td>\n",
       "      <td>0.306061</td>\n",
       "    </tr>\n",
       "    <tr>\n",
       "      <th>173</th>\n",
       "      <td>non weighted</td>\n",
       "      <td>80</td>\n",
       "      <td>99.000033</td>\n",
       "      <td>0.999967</td>\n",
       "      <td>0.306061</td>\n",
       "    </tr>\n",
       "    <tr>\n",
       "      <th>174</th>\n",
       "      <td>non weighted</td>\n",
       "      <td>81</td>\n",
       "      <td>99.000030</td>\n",
       "      <td>0.999970</td>\n",
       "      <td>0.306061</td>\n",
       "    </tr>\n",
       "    <tr>\n",
       "      <th>175</th>\n",
       "      <td>non weighted</td>\n",
       "      <td>82</td>\n",
       "      <td>99.000026</td>\n",
       "      <td>0.999974</td>\n",
       "      <td>0.306061</td>\n",
       "    </tr>\n",
       "    <tr>\n",
       "      <th>176</th>\n",
       "      <td>non weighted</td>\n",
       "      <td>83</td>\n",
       "      <td>99.000022</td>\n",
       "      <td>0.999978</td>\n",
       "      <td>0.306061</td>\n",
       "    </tr>\n",
       "    <tr>\n",
       "      <th>177</th>\n",
       "      <td>non weighted</td>\n",
       "      <td>84</td>\n",
       "      <td>99.000019</td>\n",
       "      <td>0.999981</td>\n",
       "      <td>0.306061</td>\n",
       "    </tr>\n",
       "    <tr>\n",
       "      <th>178</th>\n",
       "      <td>non weighted</td>\n",
       "      <td>85</td>\n",
       "      <td>99.000016</td>\n",
       "      <td>0.999984</td>\n",
       "      <td>0.306061</td>\n",
       "    </tr>\n",
       "    <tr>\n",
       "      <th>179</th>\n",
       "      <td>non weighted</td>\n",
       "      <td>86</td>\n",
       "      <td>99.000013</td>\n",
       "      <td>0.999987</td>\n",
       "      <td>0.306061</td>\n",
       "    </tr>\n",
       "    <tr>\n",
       "      <th>180</th>\n",
       "      <td>non weighted</td>\n",
       "      <td>87</td>\n",
       "      <td>99.000011</td>\n",
       "      <td>0.999989</td>\n",
       "      <td>0.306061</td>\n",
       "    </tr>\n",
       "    <tr>\n",
       "      <th>181</th>\n",
       "      <td>non weighted</td>\n",
       "      <td>88</td>\n",
       "      <td>99.000009</td>\n",
       "      <td>0.999991</td>\n",
       "      <td>0.214151</td>\n",
       "    </tr>\n",
       "    <tr>\n",
       "      <th>182</th>\n",
       "      <td>non weighted</td>\n",
       "      <td>89</td>\n",
       "      <td>99.000008</td>\n",
       "      <td>0.999992</td>\n",
       "      <td>0.214151</td>\n",
       "    </tr>\n",
       "    <tr>\n",
       "      <th>183</th>\n",
       "      <td>non weighted</td>\n",
       "      <td>90</td>\n",
       "      <td>99.000007</td>\n",
       "      <td>0.999993</td>\n",
       "      <td>0.214151</td>\n",
       "    </tr>\n",
       "    <tr>\n",
       "      <th>184</th>\n",
       "      <td>non weighted</td>\n",
       "      <td>91</td>\n",
       "      <td>99.000006</td>\n",
       "      <td>0.999994</td>\n",
       "      <td>0.214151</td>\n",
       "    </tr>\n",
       "    <tr>\n",
       "      <th>185</th>\n",
       "      <td>non weighted</td>\n",
       "      <td>92</td>\n",
       "      <td>99.000005</td>\n",
       "      <td>0.999995</td>\n",
       "      <td>0.214151</td>\n",
       "    </tr>\n",
       "    <tr>\n",
       "      <th>186</th>\n",
       "      <td>non weighted</td>\n",
       "      <td>93</td>\n",
       "      <td>99.000004</td>\n",
       "      <td>0.999996</td>\n",
       "      <td>0.214151</td>\n",
       "    </tr>\n",
       "    <tr>\n",
       "      <th>187</th>\n",
       "      <td>non weighted</td>\n",
       "      <td>94</td>\n",
       "      <td>99.000003</td>\n",
       "      <td>0.999997</td>\n",
       "      <td>0.214151</td>\n",
       "    </tr>\n",
       "    <tr>\n",
       "      <th>188</th>\n",
       "      <td>non weighted</td>\n",
       "      <td>95</td>\n",
       "      <td>99.000003</td>\n",
       "      <td>0.999997</td>\n",
       "      <td>0.214151</td>\n",
       "    </tr>\n",
       "    <tr>\n",
       "      <th>189</th>\n",
       "      <td>non weighted</td>\n",
       "      <td>96</td>\n",
       "      <td>99.000002</td>\n",
       "      <td>0.999998</td>\n",
       "      <td>0.214151</td>\n",
       "    </tr>\n",
       "    <tr>\n",
       "      <th>190</th>\n",
       "      <td>non weighted</td>\n",
       "      <td>97</td>\n",
       "      <td>99.000001</td>\n",
       "      <td>0.999999</td>\n",
       "      <td>0.214151</td>\n",
       "    </tr>\n",
       "    <tr>\n",
       "      <th>191</th>\n",
       "      <td>non weighted</td>\n",
       "      <td>98</td>\n",
       "      <td>99.000001</td>\n",
       "      <td>0.999999</td>\n",
       "      <td>0.214151</td>\n",
       "    </tr>\n",
       "    <tr>\n",
       "      <th>192</th>\n",
       "      <td>non weighted</td>\n",
       "      <td>99</td>\n",
       "      <td>99.000000</td>\n",
       "      <td>1.000000</td>\n",
       "      <td>0.214151</td>\n",
       "    </tr>\n",
       "    <tr>\n",
       "      <th>193</th>\n",
       "      <td>non weighted</td>\n",
       "      <td>100</td>\n",
       "      <td>99.000000</td>\n",
       "      <td>1.000000</td>\n",
       "      <td>0.214151</td>\n",
       "    </tr>\n",
       "  </tbody>\n",
       "</table>\n",
       "</div>"
      ],
      "text/plain": [
       "       experiment  count    fitness  coverage   overlap\n",
       "0        weighted      2  99.771803  0.228197  0.187431\n",
       "1        weighted      3  99.632423  0.367577  0.162849\n",
       "2        weighted      4  99.373187  0.626813  0.090899\n",
       "3        weighted      5  99.241741  0.758259  0.090899\n",
       "4        weighted      6  99.205993  0.794007  0.090899\n",
       "5        weighted      7  99.111122  0.888878  0.144733\n",
       "6        weighted      8  99.101204  0.898796  0.144733\n",
       "7        weighted      9  99.062099  0.937901  0.209741\n",
       "8        weighted     10  99.059659  0.940341  0.212617\n",
       "9        weighted     11  99.057939  0.942061  0.212617\n",
       "10       weighted     12  99.035581  0.964419  0.212617\n",
       "11       weighted     13  99.035134  0.964866  0.212617\n",
       "12       weighted     14  99.028061  0.971939  0.212617\n",
       "13       weighted     15  99.027898  0.972102  0.212617\n",
       "14       weighted     16  99.026917  0.973083  0.251877\n",
       "15       weighted     17  99.022710  0.977290  0.266336\n",
       "16       weighted     18  99.022416  0.977584  0.343691\n",
       "17       weighted     19  99.022281  0.977719  0.343691\n",
       "18       weighted     20  99.019434  0.980566  0.395304\n",
       "19       weighted     21  99.012491  0.987509  0.395304\n",
       "20       weighted     22  99.011299  0.988701  0.370068\n",
       "21       weighted     23  99.009374  0.990626  0.370068\n",
       "22       weighted     24  99.009289  0.990711  0.370068\n",
       "23       weighted     25  99.009178  0.990822  0.370068\n",
       "24       weighted     26  99.009049  0.990951  0.370068\n",
       "25       weighted     27  99.008953  0.991047  0.370068\n",
       "26       weighted     28  99.008855  0.991145  0.370068\n",
       "27       weighted     29  99.007202  0.992798  0.370068\n",
       "28       weighted     30  99.004872  0.995128  0.299072\n",
       "29       weighted     31  99.004339  0.995661  0.299072\n",
       "30       weighted     32  99.003904  0.996096  0.299072\n",
       "31       weighted     33  99.003867  0.996133  0.299072\n",
       "32       weighted     34  99.003808  0.996192  0.299072\n",
       "33       weighted     35  99.003478  0.996522  0.299072\n",
       "34       weighted     36  99.003463  0.996537  0.324096\n",
       "35       weighted     37  99.003419  0.996581  0.324096\n",
       "36       weighted     38  99.003198  0.996802  0.324096\n",
       "37       weighted     39  99.003146  0.996854  0.324096\n",
       "38       weighted     40  99.003103  0.996897  0.324096\n",
       "39       weighted     41  99.002856  0.997144  0.324096\n",
       "40       weighted     42  99.001721  0.998279  0.324096\n",
       "41       weighted     43  99.001694  0.998306  0.324096\n",
       "42       weighted     44  99.001266  0.998734  0.324096\n",
       "43       weighted     45  99.001160  0.998840  0.389169\n",
       "44       weighted     46  99.001069  0.998931  0.389169\n",
       "45       weighted     47  99.001057  0.998943  0.389169\n",
       "46       weighted     48  99.001035  0.998965  0.389169\n",
       "47       weighted     49  99.001006  0.998994  0.389169\n",
       "48       weighted     50  99.000996  0.999004  0.389169\n",
       "49       weighted     51  99.000568  0.999432  0.298724\n",
       "50       weighted     52  99.000553  0.999447  0.298724\n",
       "51       weighted     53  99.000540  0.999460  0.298724\n",
       "52       weighted     54  99.000511  0.999489  0.298724\n",
       "53       weighted     55  99.000495  0.999505  0.298724\n",
       "54       weighted     56  99.000489  0.999511  0.298724\n",
       "55       weighted     57  99.000475  0.999525  0.298724\n",
       "56       weighted     58  99.000453  0.999547  0.334281\n",
       "57       weighted     59  99.000439  0.999561  0.334281\n",
       "58       weighted     60  99.000428  0.999572  0.334281\n",
       "59       weighted     61  99.000416  0.999584  0.334281\n",
       "60       weighted     62  99.000370  0.999630  0.334281\n",
       "61       weighted     63  99.000363  0.999637  0.341304\n",
       "62       weighted     64  99.000359  0.999641  0.341304\n",
       "63       weighted     65  99.000340  0.999660  0.341304\n",
       "64       weighted     66  99.000229  0.999771  0.308576\n",
       "65       weighted     67  99.000222  0.999778  0.308576\n",
       "66       weighted     68  99.000217  0.999783  0.308576\n",
       "67       weighted     69  99.000210  0.999790  0.308576\n",
       "68       weighted     70  99.000208  0.999792  0.308576\n",
       "69       weighted     71  99.000141  0.999859  0.308576\n",
       "70       weighted     72  99.000130  0.999870  0.308576\n",
       "71       weighted     73  99.000123  0.999877  0.308576\n",
       "72       weighted     74  99.000119  0.999881  0.308576\n",
       "73       weighted     75  99.000086  0.999914  0.308576\n",
       "74       weighted     76  99.000083  0.999917  0.308576\n",
       "75       weighted     77  99.000062  0.999938  0.308576\n",
       "76       weighted     78  99.000051  0.999949  0.308576\n",
       "77       weighted     79  99.000048  0.999952  0.308576\n",
       "78       weighted     80  99.000043  0.999957  0.308576\n",
       "79       weighted     81  99.000042  0.999958  0.308576\n",
       "80       weighted     82  99.000035  0.999965  0.308576\n",
       "81       weighted     83  99.000034  0.999966  0.308576\n",
       "82       weighted     84  99.000033  0.999967  0.308576\n",
       "83       weighted     85  99.000033  0.999967  0.308576\n",
       "84       weighted     86  99.000012  0.999988  0.247016\n",
       "85       weighted     87  99.000012  0.999988  0.247016\n",
       "86       weighted     88  99.000010  0.999990  0.247016\n",
       "87       weighted     89  99.000009  0.999991  0.247016\n",
       "88       weighted     90  99.000008  0.999992  0.247016\n",
       "89       weighted     91  99.000007  0.999993  0.247016\n",
       "90       weighted     92  99.000006  0.999994  0.247016\n",
       "91       weighted     93  99.000005  0.999995  0.247016\n",
       "92       weighted     94  99.000005  0.999995  0.247016\n",
       "93       weighted     95  99.000001  0.999999  0.247016\n",
       "94       weighted     96  99.000000  1.000000  0.247016\n",
       "95   non weighted      2  99.470977  0.529023  0.237187\n",
       "96   non weighted      3  99.349094  0.650906  0.221187\n",
       "97   non weighted      4  99.258179  0.741821  0.148228\n",
       "98   non weighted      5  99.181085  0.818915  0.170352\n",
       "99   non weighted      6  99.116673  0.883327  0.209307\n",
       "100  non weighted      7  99.089398  0.910602  0.209307\n",
       "101  non weighted      8  99.064265  0.935735  0.209307\n",
       "102  non weighted      9  99.043686  0.956314  0.209307\n",
       "103  non weighted     10  99.030927  0.969073  0.209307\n",
       "104  non weighted     11  99.022826  0.977174  0.293611\n",
       "105  non weighted     12  99.017809  0.982191  0.293611\n",
       "106  non weighted     13  99.014751  0.985249  0.344998\n",
       "107  non weighted     14  99.012085  0.987915  0.344998\n",
       "108  non weighted     15  99.010333  0.989667  0.344998\n",
       "109  non weighted     16  99.008663  0.991337  0.335271\n",
       "110  non weighted     17  99.007350  0.992650  0.335271\n",
       "111  non weighted     18  99.006351  0.993649  0.335271\n",
       "112  non weighted     19  99.005529  0.994471  0.335271\n",
       "113  non weighted     20  99.004853  0.995147  0.335271\n",
       "114  non weighted     21  99.004253  0.995747  0.318571\n",
       "115  non weighted     22  99.003846  0.996154  0.318571\n",
       "116  non weighted     23  99.003490  0.996510  0.318571\n",
       "117  non weighted     24  99.003165  0.996835  0.348467\n",
       "118  non weighted     25  99.002868  0.997132  0.300551\n",
       "119  non weighted     26  99.002668  0.997332  0.300551\n",
       "120  non weighted     27  99.002490  0.997510  0.300551\n",
       "121  non weighted     28  99.002335  0.997665  0.332574\n",
       "122  non weighted     29  99.002187  0.997813  0.154059\n",
       "123  non weighted     30  99.002041  0.997959  0.154059\n",
       "124  non weighted     31  99.001898  0.998102  0.154059\n",
       "125  non weighted     32  99.001757  0.998243  0.154059\n",
       "126  non weighted     33  99.001622  0.998378  0.154059\n",
       "127  non weighted     34  99.001496  0.998504  0.154059\n",
       "128  non weighted     35  99.001376  0.998624  0.154059\n",
       "129  non weighted     36  99.001265  0.998735  0.154059\n",
       "130  non weighted     37  99.001157  0.998843  0.154059\n",
       "131  non weighted     38  99.001055  0.998945  0.259304\n",
       "132  non weighted     39  99.000976  0.999024  0.259304\n",
       "133  non weighted     40  99.000902  0.999098  0.183132\n",
       "134  non weighted     41  99.000832  0.999168  0.183132\n",
       "135  non weighted     42  99.000768  0.999232  0.183132\n",
       "136  non weighted     43  99.000706  0.999294  0.183132\n",
       "137  non weighted     44  99.000648  0.999352  0.183132\n",
       "138  non weighted     45  99.000592  0.999408  0.183132\n",
       "139  non weighted     46  99.000540  0.999460  0.183132\n",
       "140  non weighted     47  99.000500  0.999500  0.183132\n",
       "141  non weighted     48  99.000468  0.999532  0.183132\n",
       "142  non weighted     49  99.000439  0.999561  0.183132\n",
       "143  non weighted     50  99.000412  0.999588  0.183132\n",
       "144  non weighted     51  99.000388  0.999612  0.183132\n",
       "145  non weighted     52  99.000365  0.999635  0.183132\n",
       "146  non weighted     53  99.000343  0.999657  0.183132\n",
       "147  non weighted     54  99.000320  0.999680  0.183132\n",
       "148  non weighted     55  99.000302  0.999698  0.183132\n",
       "149  non weighted     56  99.000284  0.999716  0.183132\n",
       "150  non weighted     57  99.000266  0.999734  0.183132\n",
       "151  non weighted     58  99.000250  0.999750  0.183132\n",
       "152  non weighted     59  99.000235  0.999765  0.183132\n",
       "153  non weighted     60  99.000220  0.999780  0.183132\n",
       "154  non weighted     61  99.000205  0.999795  0.306061\n",
       "155  non weighted     62  99.000190  0.999810  0.306061\n",
       "156  non weighted     63  99.000176  0.999824  0.306061\n",
       "157  non weighted     64  99.000161  0.999839  0.306061\n",
       "158  non weighted     65  99.000147  0.999853  0.306061\n",
       "159  non weighted     66  99.000136  0.999864  0.306061\n",
       "160  non weighted     67  99.000124  0.999876  0.306061\n",
       "161  non weighted     68  99.000113  0.999887  0.306061\n",
       "162  non weighted     69  99.000103  0.999897  0.306061\n",
       "163  non weighted     70  99.000092  0.999908  0.306061\n",
       "164  non weighted     71  99.000082  0.999918  0.306061\n",
       "165  non weighted     72  99.000075  0.999925  0.306061\n",
       "166  non weighted     73  99.000068  0.999932  0.306061\n",
       "167  non weighted     74  99.000061  0.999939  0.306061\n",
       "168  non weighted     75  99.000053  0.999947  0.306061\n",
       "169  non weighted     76  99.000049  0.999951  0.306061\n",
       "170  non weighted     77  99.000044  0.999956  0.306061\n",
       "171  non weighted     78  99.000041  0.999959  0.306061\n",
       "172  non weighted     79  99.000037  0.999963  0.306061\n",
       "173  non weighted     80  99.000033  0.999967  0.306061\n",
       "174  non weighted     81  99.000030  0.999970  0.306061\n",
       "175  non weighted     82  99.000026  0.999974  0.306061\n",
       "176  non weighted     83  99.000022  0.999978  0.306061\n",
       "177  non weighted     84  99.000019  0.999981  0.306061\n",
       "178  non weighted     85  99.000016  0.999984  0.306061\n",
       "179  non weighted     86  99.000013  0.999987  0.306061\n",
       "180  non weighted     87  99.000011  0.999989  0.306061\n",
       "181  non weighted     88  99.000009  0.999991  0.214151\n",
       "182  non weighted     89  99.000008  0.999992  0.214151\n",
       "183  non weighted     90  99.000007  0.999993  0.214151\n",
       "184  non weighted     91  99.000006  0.999994  0.214151\n",
       "185  non weighted     92  99.000005  0.999995  0.214151\n",
       "186  non weighted     93  99.000004  0.999996  0.214151\n",
       "187  non weighted     94  99.000003  0.999997  0.214151\n",
       "188  non weighted     95  99.000003  0.999997  0.214151\n",
       "189  non weighted     96  99.000002  0.999998  0.214151\n",
       "190  non weighted     97  99.000001  0.999999  0.214151\n",
       "191  non weighted     98  99.000001  0.999999  0.214151\n",
       "192  non weighted     99  99.000000  1.000000  0.214151\n",
       "193  non weighted    100  99.000000  1.000000  0.214151"
      ]
     },
     "execution_count": 18,
     "metadata": {},
     "output_type": "execute_result"
    }
   ],
   "source": [
    "pd.set_option('display.max_rows', None)\n",
    "g"
   ]
  },
  {
   "cell_type": "code",
   "execution_count": 19,
   "id": "7fc8d21f",
   "metadata": {},
   "outputs": [
    {
     "name": "stdout",
     "output_type": "stream",
     "text": [
      "[0.05 0.1  0.15 0.2  0.25 0.3  0.35 0.4  0.45 0.5  0.55 0.6  0.65 0.7\n",
      " 0.75 0.8  0.85 0.9  0.95 1.  ]\n",
      "20 20 20 20 20\n"
     ]
    }
   ],
   "source": [
    "coverage_goal = np.arange(0.05,1.05,0.05)\n",
    "print(coverage_goal)\n",
    "\n",
    "standard_greedy_coverage = g[g['experiment'] == 'non weighted']\n",
    "weighted_greedy_coverage = g[g['experiment'] == 'weighted']\n",
    "\n",
    "lista = [(num, cov) for num, cov in zip(standard_greedy_coverage['count'], standard_greedy_coverage['coverage'])]\n",
    "listb = [(num, cov) for num, cov in zip(weighted_greedy_coverage['count'], weighted_greedy_coverage['coverage'])]\n",
    "standard_coverage = []\n",
    "standard_count = []\n",
    "for coverage in coverage_goal:\n",
    "    for row in lista:\n",
    "        if round(row[1],5) >= coverage:\n",
    "            standard_coverage.append(row[1])\n",
    "            standard_count.append(row[0])\n",
    "            break\n",
    "weighted_coverage = []\n",
    "weighted_count = []\n",
    "for coverage in coverage_goal:\n",
    "    for row in listb:\n",
    "        if round(row[1],5) >= coverage:\n",
    "            weighted_coverage.append(row[1])\n",
    "            weighted_count.append(row[0])\n",
    "            break\n",
    "            \n",
    "print(len(coverage_goal), len(weighted_count), len(weighted_coverage), len(standard_coverage), len(weighted_coverage))"
   ]
  },
  {
   "cell_type": "code",
   "execution_count": 20,
   "id": "27311f0a",
   "metadata": {},
   "outputs": [
    {
     "data": {
      "image/png": "[encoded data removed]",
      "text/plain": [
       "<Figure size 864x576 with 2 Axes>"
      ]
     },
     "metadata": {
      "needs_background": "light"
     },
     "output_type": "display_data"
    }
   ],
   "source": [
    "fig, ax1 = plt.subplots()\n",
    "fig.set_size_inches(12, 8)\n",
    "plt.rcParams.update({'font.size': 20})\n",
    "\n",
    "ax1.set_xlabel('coverage goal')\n",
    "plt.xticks(rotation=90)\n",
    "ax1.set_ylabel('achieved coverage')\n",
    "\n",
    "coverage_goal = [tick for tick in np.arange(0, 1, 0.05)]\n",
    "\n",
    "ax1.set_xticks(coverage_goal)\n",
    "ax1.grid(axis=\"x\")\n",
    "\n",
    "#plots\n",
    "ax1.plot(coverage_goal,\n",
    "         weighted_coverage,\n",
    "         linestyle='--', marker='x', markersize=10, color='b', label='coverage, weighted')\n",
    "ax1.plot(coverage_goal,\n",
    "         standard_coverage,\n",
    "         linestyle='--', marker='x', markersize=10, color='r', label='coverage, unweighted')\n",
    "ax1.plot(coverage_goal,\n",
    "         coverage_goal,         \n",
    "         linestyle='-', marker='', color='grey', label='coverage goal')\n",
    "leg = plt.legend(loc='upper left')\n",
    "\n",
    "#plots_2\n",
    "ax2 = ax1.twinx()\n",
    "ax2.set_ylabel('no. of points')\n",
    "#ax2.set_yscale('log')\n",
    "ax2.plot(coverage_goal,\n",
    "         weighted_count,\n",
    "         linestyle=':', marker='+', markersize=10, color='c', label='no. of points, weighted')\n",
    "ax2.plot(coverage_goal,\n",
    "         standard_count,\n",
    "         linestyle=':', marker='+', markersize=10, color='y', label='no. of points, unweighted')\n",
    "leg = plt.legend(bbox_to_anchor=(0.89,0.190))"
   ]
  },
  {
   "cell_type": "code",
   "execution_count": 21,
   "id": "8444fa67",
   "metadata": {},
   "outputs": [
    {
     "ename": "NameError",
     "evalue": "name 'coverage_eval' is not defined",
     "output_type": "error",
     "traceback": [
      "\u001b[1;31m---------------------------------------------------------------------------\u001b[0m",
      "\u001b[1;31mNameError\u001b[0m                                 Traceback (most recent call last)",
      "\u001b[1;32m~\\AppData\\Local\\Temp\\1/ipykernel_30184/2552661702.py\u001b[0m in \u001b[0;36m<module>\u001b[1;34m\u001b[0m\n\u001b[0;32m     11\u001b[0m \u001b[0max1\u001b[0m\u001b[1;33m.\u001b[0m\u001b[0mgrid\u001b[0m\u001b[1;33m(\u001b[0m\u001b[0maxis\u001b[0m\u001b[1;33m=\u001b[0m\u001b[1;34m\"x\"\u001b[0m\u001b[1;33m)\u001b[0m\u001b[1;33m\u001b[0m\u001b[1;33m\u001b[0m\u001b[0m\n\u001b[0;32m     12\u001b[0m \u001b[1;33m\u001b[0m\u001b[0m\n\u001b[1;32m---> 13\u001b[1;33m ax1.plot([y[0] for y in coverage_eval],\n\u001b[0m\u001b[0;32m     14\u001b[0m          \u001b[1;33m[\u001b[0m\u001b[0my\u001b[0m\u001b[1;33m[\u001b[0m\u001b[1;36m1\u001b[0m\u001b[1;33m]\u001b[0m\u001b[1;33m[\u001b[0m\u001b[1;36m1\u001b[0m\u001b[1;33m]\u001b[0m \u001b[1;32mfor\u001b[0m \u001b[0my\u001b[0m \u001b[1;32min\u001b[0m \u001b[0mcoverage_eval\u001b[0m\u001b[1;33m]\u001b[0m\u001b[1;33m,\u001b[0m\u001b[1;33m\u001b[0m\u001b[1;33m\u001b[0m\u001b[0m\n\u001b[0;32m     15\u001b[0m          linestyle='--', marker='x', markersize=10, color='b', label='coverage, weighted')\n",
      "\u001b[1;31mNameError\u001b[0m: name 'coverage_eval' is not defined"
     ]
    },
    {
     "data": {
      "image/png": "[encoded data removed]",
      "text/plain": [
       "<Figure size 864x576 with 1 Axes>"
      ]
     },
     "metadata": {
      "needs_background": "light"
     },
     "output_type": "display_data"
    }
   ],
   "source": [
    "fig, ax1 = plt.subplots()\n",
    "fig.set_size_inches(12, 8)\n",
    "plt.rcParams.update({'font.size': 20})\n",
    "\n",
    "ax1.set_xlabel('coverage goal')\n",
    "plt.xticks(rotation=90)\n",
    "ax1.set_ylabel('achieved coverage')\n",
    "\n",
    "\n",
    "ax1.set_xticks(coverage_goal)\n",
    "ax1.grid(axis=\"x\")\n",
    "\n",
    "ax1.plot([y[0] for y in coverage_eval],\n",
    "         [y[1][1] for y in coverage_eval],\n",
    "         linestyle='--', marker='x', markersize=10, color='b', label='coverage, weighted')\n",
    "ax1.plot([y[0] for y in coverage_eval],\n",
    "         [y[2][1] for y in coverage_eval],\n",
    "         linestyle='--', marker='x', markersize=10, color='r', label='coverage, unweighted')\n",
    "ax1.plot([y[0] for y in coverage_eval],\n",
    "         [y[0] for y in coverage_eval],         \n",
    "         linestyle='-', marker='', color='grey', label='coverage goal')\n",
    "leg = plt.legend(loc='upper left')\n",
    "\n",
    "ax2 = ax1.twinx()\n",
    "ax2.set_ylabel('no. of points')\n",
    "#ax2.set_yscale('log')\n",
    "ax2.plot([y[0] for y in coverage_eval],\n",
    "         [y[1][0] for y in coverage_eval],\n",
    "         linestyle=':', marker='+', markersize=10, color='c', label='no. of points, weighted')\n",
    "ax2.plot([y[0] for y in coverage_eval],\n",
    "         [y[2][0] for y in coverage_eval],\n",
    "         linestyle=':', marker='+', markersize=10, color='y', label='no. of points, unweighted')\n",
    "leg = plt.legend(bbox_to_anchor=(0.89,0.190))"
   ]
  }
 ],
 "metadata": {
  "kernelspec": {
   "display_name": "Python 3 (ipykernel)",
   "language": "python",
   "name": "python3"
  },
  "language_info": {
   "codemirror_mode": {
    "name": "ipython",
    "version": 3
   },
   "file_extension": ".py",
   "mimetype": "text/x-python",
   "name": "python",
   "nbconvert_exporter": "python",
   "pygments_lexer": "ipython3",
   "version": "3.9.9"
  }
 },
 "nbformat": 4,
 "nbformat_minor": 5
}
