{
 "cells": [
  {
   "cell_type": "code",
   "execution_count": 32,
   "id": "cae12df2",
   "metadata": {},
   "outputs": [
    {
     "name": "stdout",
     "output_type": "stream",
     "text": [
      "Requirement already satisfied: ifcopenshell in c:\\users\\ga25mal\\appdata\\local\\packages\\pythonsoftwarefoundation.python.3.10_qbz5n2kfra8p0\\localcache\\local-packages\\python310\\site-packages (0.7.0)\n",
      "Collecting open3d\n",
      "  Using cached open3d-0.16.0-cp310-cp310-win_amd64.whl (62.3 MB)\n",
      "Requirement already satisfied: numpy>=1.18.0 in c:\\users\\ga25mal\\appdata\\local\\packages\\pythonsoftwarefoundation.python.3.10_qbz5n2kfra8p0\\localcache\\local-packages\\python310\\site-packages (from open3d) (1.22.4)\n",
      "Collecting ipywidgets>=7.6.0\n",
      "  Using cached ipywidgets-8.0.4-py3-none-any.whl (137 kB)\n",
      "Collecting configargparse\n",
      "  Using cached ConfigArgParse-1.5.3-py3-none-any.whl (20 kB)\n",
      "Collecting dash>=2.6.0\n",
      "  Using cached dash-2.7.1-py3-none-any.whl (9.9 MB)\n",
      "Collecting nbformat==5.5.0\n",
      "  Using cached nbformat-5.5.0-py3-none-any.whl (75 kB)\n",
      "Requirement already satisfied: jupyter_core in c:\\users\\ga25mal\\appdata\\local\\packages\\pythonsoftwarefoundation.python.3.10_qbz5n2kfra8p0\\localcache\\local-packages\\python310\\site-packages (from nbformat==5.5.0->open3d) (5.1.0)\n",
      "Requirement already satisfied: traitlets>=5.1 in c:\\users\\ga25mal\\appdata\\local\\packages\\pythonsoftwarefoundation.python.3.10_qbz5n2kfra8p0\\localcache\\local-packages\\python310\\site-packages (from nbformat==5.5.0->open3d) (5.6.0)\n",
      "Requirement already satisfied: jsonschema>=2.6 in c:\\users\\ga25mal\\appdata\\local\\packages\\pythonsoftwarefoundation.python.3.10_qbz5n2kfra8p0\\localcache\\local-packages\\python310\\site-packages (from nbformat==5.5.0->open3d) (4.17.3)\n",
      "Requirement already satisfied: fastjsonschema in c:\\users\\ga25mal\\appdata\\local\\packages\\pythonsoftwarefoundation.python.3.10_qbz5n2kfra8p0\\localcache\\local-packages\\python310\\site-packages (from nbformat==5.5.0->open3d) (2.16.2)\n",
      "Collecting Flask>=1.0.4\n",
      "  Using cached Flask-2.2.2-py3-none-any.whl (101 kB)\n",
      "Requirement already satisfied: plotly>=5.0.0 in c:\\users\\ga25mal\\appdata\\local\\packages\\pythonsoftwarefoundation.python.3.10_qbz5n2kfra8p0\\localcache\\local-packages\\python310\\site-packages (from dash>=2.6.0->open3d) (5.9.0)\n",
      "Collecting dash-core-components==2.0.0\n",
      "  Using cached dash_core_components-2.0.0-py3-none-any.whl (3.8 kB)\n",
      "Collecting dash-html-components==2.0.0\n",
      "  Using cached dash_html_components-2.0.0-py3-none-any.whl (4.1 kB)\n",
      "Collecting dash-table==5.0.0\n",
      "  Using cached dash_table-5.0.0-py3-none-any.whl (3.9 kB)\n",
      "Requirement already satisfied: ipython>=6.1.0 in c:\\users\\ga25mal\\appdata\\local\\packages\\pythonsoftwarefoundation.python.3.10_qbz5n2kfra8p0\\localcache\\local-packages\\python310\\site-packages (from ipywidgets>=7.6.0->open3d) (8.7.0)\n",
      "Collecting widgetsnbextension~=4.0\n",
      "  Using cached widgetsnbextension-4.0.5-py3-none-any.whl (2.0 MB)\n",
      "Collecting jupyterlab-widgets~=3.0\n",
      "  Using cached jupyterlab_widgets-3.0.5-py3-none-any.whl (384 kB)\n",
      "Requirement already satisfied: ipykernel>=4.5.1 in c:\\users\\ga25mal\\appdata\\local\\packages\\pythonsoftwarefoundation.python.3.10_qbz5n2kfra8p0\\localcache\\local-packages\\python310\\site-packages (from ipywidgets>=7.6.0->open3d) (6.17.1)\n",
      "Collecting Werkzeug>=2.2.2\n",
      "  Using cached Werkzeug-2.2.2-py3-none-any.whl (232 kB)\n",
      "Collecting click>=8.0\n",
      "  Using cached click-8.1.3-py3-none-any.whl (96 kB)\n",
      "Collecting itsdangerous>=2.0\n",
      "  Using cached itsdangerous-2.1.2-py3-none-any.whl (15 kB)\n",
      "Requirement already satisfied: Jinja2>=3.0 in c:\\users\\ga25mal\\appdata\\local\\packages\\pythonsoftwarefoundation.python.3.10_qbz5n2kfra8p0\\localcache\\local-packages\\python310\\site-packages (from Flask>=1.0.4->dash>=2.6.0->open3d) (3.1.2)\n",
      "Requirement already satisfied: pyzmq>=17 in c:\\users\\ga25mal\\appdata\\local\\packages\\pythonsoftwarefoundation.python.3.10_qbz5n2kfra8p0\\localcache\\local-packages\\python310\\site-packages (from ipykernel>=4.5.1->ipywidgets>=7.6.0->open3d) (24.0.1)\n",
      "Requirement already satisfied: packaging in c:\\users\\ga25mal\\appdata\\local\\packages\\pythonsoftwarefoundation.python.3.10_qbz5n2kfra8p0\\localcache\\local-packages\\python310\\site-packages (from ipykernel>=4.5.1->ipywidgets>=7.6.0->open3d) (21.3)\n",
      "Requirement already satisfied: nest-asyncio in c:\\users\\ga25mal\\appdata\\local\\packages\\pythonsoftwarefoundation.python.3.10_qbz5n2kfra8p0\\localcache\\local-packages\\python310\\site-packages (from ipykernel>=4.5.1->ipywidgets>=7.6.0->open3d) (1.5.6)\n",
      "Requirement already satisfied: matplotlib-inline>=0.1 in c:\\users\\ga25mal\\appdata\\local\\packages\\pythonsoftwarefoundation.python.3.10_qbz5n2kfra8p0\\localcache\\local-packages\\python310\\site-packages (from ipykernel>=4.5.1->ipywidgets>=7.6.0->open3d) (0.1.6)\n",
      "Requirement already satisfied: psutil in c:\\users\\ga25mal\\appdata\\local\\packages\\pythonsoftwarefoundation.python.3.10_qbz5n2kfra8p0\\localcache\\local-packages\\python310\\site-packages (from ipykernel>=4.5.1->ipywidgets>=7.6.0->open3d) (5.9.4)\n",
      "Requirement already satisfied: tornado>=6.1 in c:\\users\\ga25mal\\appdata\\local\\packages\\pythonsoftwarefoundation.python.3.10_qbz5n2kfra8p0\\localcache\\local-packages\\python310\\site-packages (from ipykernel>=4.5.1->ipywidgets>=7.6.0->open3d) (6.2)\n",
      "Requirement already satisfied: jupyter-client>=6.1.12 in c:\\users\\ga25mal\\appdata\\local\\packages\\pythonsoftwarefoundation.python.3.10_qbz5n2kfra8p0\\localcache\\local-packages\\python310\\site-packages (from ipykernel>=4.5.1->ipywidgets>=7.6.0->open3d) (7.4.7)\n",
      "Requirement already satisfied: debugpy>=1.0 in c:\\users\\ga25mal\\appdata\\local\\packages\\pythonsoftwarefoundation.python.3.10_qbz5n2kfra8p0\\localcache\\local-packages\\python310\\site-packages (from ipykernel>=4.5.1->ipywidgets>=7.6.0->open3d) (1.6.4)\n",
      "Requirement already satisfied: pickleshare in c:\\users\\ga25mal\\appdata\\local\\packages\\pythonsoftwarefoundation.python.3.10_qbz5n2kfra8p0\\localcache\\local-packages\\python310\\site-packages (from ipython>=6.1.0->ipywidgets>=7.6.0->open3d) (0.7.5)\n",
      "Requirement already satisfied: colorama in c:\\users\\ga25mal\\appdata\\local\\packages\\pythonsoftwarefoundation.python.3.10_qbz5n2kfra8p0\\localcache\\local-packages\\python310\\site-packages (from ipython>=6.1.0->ipywidgets>=7.6.0->open3d) (0.4.6)\n",
      "Requirement already satisfied: jedi>=0.16 in c:\\users\\ga25mal\\appdata\\local\\packages\\pythonsoftwarefoundation.python.3.10_qbz5n2kfra8p0\\localcache\\local-packages\\python310\\site-packages (from ipython>=6.1.0->ipywidgets>=7.6.0->open3d) (0.18.2)\n",
      "Requirement already satisfied: decorator in c:\\users\\ga25mal\\appdata\\local\\packages\\pythonsoftwarefoundation.python.3.10_qbz5n2kfra8p0\\localcache\\local-packages\\python310\\site-packages (from ipython>=6.1.0->ipywidgets>=7.6.0->open3d) (5.1.1)\n",
      "Requirement already satisfied: stack-data in c:\\users\\ga25mal\\appdata\\local\\packages\\pythonsoftwarefoundation.python.3.10_qbz5n2kfra8p0\\localcache\\local-packages\\python310\\site-packages (from ipython>=6.1.0->ipywidgets>=7.6.0->open3d) (0.6.2)\n",
      "Requirement already satisfied: prompt-toolkit<3.1.0,>=3.0.11 in c:\\users\\ga25mal\\appdata\\local\\packages\\pythonsoftwarefoundation.python.3.10_qbz5n2kfra8p0\\localcache\\local-packages\\python310\\site-packages (from ipython>=6.1.0->ipywidgets>=7.6.0->open3d) (3.0.33)\n",
      "Requirement already satisfied: pygments>=2.4.0 in c:\\users\\ga25mal\\appdata\\local\\packages\\pythonsoftwarefoundation.python.3.10_qbz5n2kfra8p0\\localcache\\local-packages\\python310\\site-packages (from ipython>=6.1.0->ipywidgets>=7.6.0->open3d) (2.13.0)\n",
      "Requirement already satisfied: backcall in c:\\users\\ga25mal\\appdata\\local\\packages\\pythonsoftwarefoundation.python.3.10_qbz5n2kfra8p0\\localcache\\local-packages\\python310\\site-packages (from ipython>=6.1.0->ipywidgets>=7.6.0->open3d) (0.2.0)\n",
      "Requirement already satisfied: attrs>=17.4.0 in c:\\users\\ga25mal\\appdata\\local\\packages\\pythonsoftwarefoundation.python.3.10_qbz5n2kfra8p0\\localcache\\local-packages\\python310\\site-packages (from jsonschema>=2.6->nbformat==5.5.0->open3d) (22.1.0)\n",
      "Requirement already satisfied: pyrsistent!=0.17.0,!=0.17.1,!=0.17.2,>=0.14.0 in c:\\users\\ga25mal\\appdata\\local\\packages\\pythonsoftwarefoundation.python.3.10_qbz5n2kfra8p0\\localcache\\local-packages\\python310\\site-packages (from jsonschema>=2.6->nbformat==5.5.0->open3d) (0.19.2)\n",
      "Requirement already satisfied: tenacity>=6.2.0 in c:\\users\\ga25mal\\appdata\\local\\packages\\pythonsoftwarefoundation.python.3.10_qbz5n2kfra8p0\\localcache\\local-packages\\python310\\site-packages (from plotly>=5.0.0->dash>=2.6.0->open3d) (8.1.0)\n",
      "Requirement already satisfied: platformdirs>=2.5 in c:\\users\\ga25mal\\appdata\\local\\packages\\pythonsoftwarefoundation.python.3.10_qbz5n2kfra8p0\\localcache\\local-packages\\python310\\site-packages (from jupyter_core->nbformat==5.5.0->open3d) (2.5.4)\n",
      "Requirement already satisfied: pywin32>=1.0 in c:\\users\\ga25mal\\appdata\\local\\packages\\pythonsoftwarefoundation.python.3.10_qbz5n2kfra8p0\\localcache\\local-packages\\python310\\site-packages (from jupyter_core->nbformat==5.5.0->open3d) (305)\n",
      "Requirement already satisfied: parso<0.9.0,>=0.8.0 in c:\\users\\ga25mal\\appdata\\local\\packages\\pythonsoftwarefoundation.python.3.10_qbz5n2kfra8p0\\localcache\\local-packages\\python310\\site-packages (from jedi>=0.16->ipython>=6.1.0->ipywidgets>=7.6.0->open3d) (0.8.3)\n",
      "Requirement already satisfied: MarkupSafe>=2.0 in c:\\users\\ga25mal\\appdata\\local\\packages\\pythonsoftwarefoundation.python.3.10_qbz5n2kfra8p0\\localcache\\local-packages\\python310\\site-packages (from Jinja2>=3.0->Flask>=1.0.4->dash>=2.6.0->open3d) (2.1.1)\n",
      "Requirement already satisfied: entrypoints in c:\\users\\ga25mal\\appdata\\local\\packages\\pythonsoftwarefoundation.python.3.10_qbz5n2kfra8p0\\localcache\\local-packages\\python310\\site-packages (from jupyter-client>=6.1.12->ipykernel>=4.5.1->ipywidgets>=7.6.0->open3d) (0.4)\n",
      "Requirement already satisfied: python-dateutil>=2.8.2 in c:\\users\\ga25mal\\appdata\\local\\packages\\pythonsoftwarefoundation.python.3.10_qbz5n2kfra8p0\\localcache\\local-packages\\python310\\site-packages (from jupyter-client>=6.1.12->ipykernel>=4.5.1->ipywidgets>=7.6.0->open3d) (2.8.2)\n",
      "Requirement already satisfied: wcwidth in c:\\users\\ga25mal\\appdata\\local\\packages\\pythonsoftwarefoundation.python.3.10_qbz5n2kfra8p0\\localcache\\local-packages\\python310\\site-packages (from prompt-toolkit<3.1.0,>=3.0.11->ipython>=6.1.0->ipywidgets>=7.6.0->open3d) (0.2.5)\n",
      "Requirement already satisfied: pyparsing!=3.0.5,>=2.0.2 in c:\\users\\ga25mal\\appdata\\local\\packages\\pythonsoftwarefoundation.python.3.10_qbz5n2kfra8p0\\localcache\\local-packages\\python310\\site-packages (from packaging->ipykernel>=4.5.1->ipywidgets>=7.6.0->open3d) (3.0.9)\n",
      "Requirement already satisfied: executing>=1.2.0 in c:\\users\\ga25mal\\appdata\\local\\packages\\pythonsoftwarefoundation.python.3.10_qbz5n2kfra8p0\\localcache\\local-packages\\python310\\site-packages (from stack-data->ipython>=6.1.0->ipywidgets>=7.6.0->open3d) (1.2.0)\n",
      "Requirement already satisfied: asttokens>=2.1.0 in c:\\users\\ga25mal\\appdata\\local\\packages\\pythonsoftwarefoundation.python.3.10_qbz5n2kfra8p0\\localcache\\local-packages\\python310\\site-packages (from stack-data->ipython>=6.1.0->ipywidgets>=7.6.0->open3d) (2.2.0)\n",
      "Requirement already satisfied: pure-eval in c:\\users\\ga25mal\\appdata\\local\\packages\\pythonsoftwarefoundation.python.3.10_qbz5n2kfra8p0\\localcache\\local-packages\\python310\\site-packages (from stack-data->ipython>=6.1.0->ipywidgets>=7.6.0->open3d) (0.2.2)\n",
      "Requirement already satisfied: six in c:\\users\\ga25mal\\appdata\\local\\packages\\pythonsoftwarefoundation.python.3.10_qbz5n2kfra8p0\\localcache\\local-packages\\python310\\site-packages (from asttokens>=2.1.0->stack-data->ipython>=6.1.0->ipywidgets>=7.6.0->open3d) (1.16.0)\n",
      "Installing collected packages: dash-table, dash-html-components, dash-core-components, widgetsnbextension, Werkzeug, jupyterlab-widgets, itsdangerous, configargparse, click, nbformat, Flask, dash, ipywidgets, open3d\n",
      "  Attempting uninstall: nbformat\n",
      "    Found existing installation: nbformat 5.7.0\n",
      "    Uninstalling nbformat-5.7.0:\n",
      "      Successfully uninstalled nbformat-5.7.0\n",
      "Successfully installed Flask-2.2.2 Werkzeug-2.2.2 click-8.1.3 configargparse-1.5.3 dash-2.7.1 dash-core-components-2.0.0 dash-html-components-2.0.0 dash-table-5.0.0 ipywidgets-8.0.4 itsdangerous-2.1.2 jupyterlab-widgets-3.0.5 nbformat-5.5.0 open3d-0.16.0 widgetsnbextension-4.0.5\n"
     ]
    },
    {
     "name": "stderr",
     "output_type": "stream",
     "text": [
      "  WARNING: The script jupyter-trust.exe is installed in 'C:\\Users\\ga25mal\\AppData\\Local\\Packages\\PythonSoftwareFoundation.Python.3.10_qbz5n2kfra8p0\\LocalCache\\local-packages\\Python310\\Scripts' which is not on PATH.\n",
      "  Consider adding this directory to PATH or, if you prefer to suppress this warning, use --no-warn-script-location.\n",
      "  WARNING: The script flask.exe is installed in 'C:\\Users\\ga25mal\\AppData\\Local\\Packages\\PythonSoftwareFoundation.Python.3.10_qbz5n2kfra8p0\\LocalCache\\local-packages\\Python310\\Scripts' which is not on PATH.\n",
      "  Consider adding this directory to PATH or, if you prefer to suppress this warning, use --no-warn-script-location.\n",
      "  WARNING: The scripts dash-generate-components.exe, dash-update-components.exe and renderer.exe are installed in 'C:\\Users\\ga25mal\\AppData\\Local\\Packages\\PythonSoftwareFoundation.Python.3.10_qbz5n2kfra8p0\\LocalCache\\local-packages\\Python310\\Scripts' which is not on PATH.\n",
      "  Consider adding this directory to PATH or, if you prefer to suppress this warning, use --no-warn-script-location.\n",
      "  WARNING: The script open3d.exe is installed in 'C:\\Users\\ga25mal\\AppData\\Local\\Packages\\PythonSoftwareFoundation.Python.3.10_qbz5n2kfra8p0\\LocalCache\\local-packages\\Python310\\Scripts' which is not on PATH.\n",
      "  Consider adding this directory to PATH or, if you prefer to suppress this warning, use --no-warn-script-location.\n"
     ]
    }
   ],
   "source": [
    "!pip install ifcopenshell\n",
    "!pip install open3d"
   ]
  },
  {
   "cell_type": "code",
   "execution_count": 33,
   "id": "669434a8",
   "metadata": {},
   "outputs": [
    {
     "name": "stdout",
     "output_type": "stream",
     "text": [
      "Jupyter environment detected. Enabling Open3D WebVisualizer.\n",
      "[Open3D INFO] WebRTC GUI backend enabled.\n",
      "[Open3D INFO] WebRTCWindowSystem: HTTP handshake server disabled.\n"
     ]
    }
   ],
   "source": [
    "import ifcopenshell\n",
    "import ifcopenshell.geom as geom\n",
    "import open3d as o3d\n",
    "\n",
    "settings = geom.settings()\n",
    "settings.set(settings.USE_WORLD_COORDS, True)\n",
    "\n",
    "ifc_file = ifcopenshell.open('../data/ifc/TUMCMS_NavVis_Hall.ifc')"
   ]
  },
  {
   "cell_type": "code",
   "execution_count": 21,
   "id": "836f763e",
   "metadata": {},
   "outputs": [
    {
     "name": "stdout",
     "output_type": "stream",
     "text": [
      "#2429=IfcWall('0VHNU8CzX2rfsiwnl8p5d7',#42,'Basiswand:Generic - 200mm:298250',$,'Basiswand:Generic - 200mm',#2318,#2425,'298250',.NOTDEFINED.)\n"
     ]
    }
   ],
   "source": [
    "whitelist = ['IfcWall']\n",
    "\n",
    "obj = ifc_file.by_type('IfcProduct')[20]\n",
    "print(obj)\n",
    "# shape = ifcopenshell.geom.create_shape(settings, obj)\n",
    "geo = shape.geometry"
   ]
  },
  {
   "cell_type": "code",
   "execution_count": 29,
   "id": "daf90679",
   "metadata": {},
   "outputs": [
    {
     "data": {
      "text/plain": [
       "'IfcWall'"
      ]
     },
     "execution_count": 29,
     "metadata": {},
     "output_type": "execute_result"
    }
   ],
   "source": [
    "obj.is_a()"
   ]
  },
  {
   "cell_type": "code",
   "execution_count": 51,
   "id": "ea9b595d",
   "metadata": {},
   "outputs": [
    {
     "name": "stdout",
     "output_type": "stream",
     "text": [
      "<ifcopenshell.ifcopenshell_wrapper.Triangulation; proxy of <Swig Object of type 'IfcGeom::Representation::Triangulation *' at 0x000001C0ADBDA910> >\n",
      "<ifcopenshell.ifcopenshell_wrapper.Triangulation; proxy of <Swig Object of type 'IfcGeom::Representation::Triangulation *' at 0x000001C0BCEBF8D0> >\n",
      "<ifcopenshell.ifcopenshell_wrapper.Triangulation; proxy of <Swig Object of type 'IfcGeom::Representation::Triangulation *' at 0x000001C0BCEBFC90> >\n",
      "<ifcopenshell.ifcopenshell_wrapper.Triangulation; proxy of <Swig Object of type 'IfcGeom::Representation::Triangulation *' at 0x000001C0ADBDA910> >\n",
      "<ifcopenshell.ifcopenshell_wrapper.Triangulation; proxy of <Swig Object of type 'IfcGeom::Representation::Triangulation *' at 0x000001C0BCEBF8D0> >\n",
      "<ifcopenshell.ifcopenshell_wrapper.Triangulation; proxy of <Swig Object of type 'IfcGeom::Representation::Triangulation *' at 0x000001C0BCEBFC90> >\n",
      "<ifcopenshell.ifcopenshell_wrapper.Triangulation; proxy of <Swig Object of type 'IfcGeom::Representation::Triangulation *' at 0x000001C0ADBDA910> >\n",
      "<ifcopenshell.ifcopenshell_wrapper.Triangulation; proxy of <Swig Object of type 'IfcGeom::Representation::Triangulation *' at 0x000001C0BCEBF8D0> >\n",
      "<ifcopenshell.ifcopenshell_wrapper.Triangulation; proxy of <Swig Object of type 'IfcGeom::Representation::Triangulation *' at 0x000001C0BCEBFC90> >\n",
      "<ifcopenshell.ifcopenshell_wrapper.Triangulation; proxy of <Swig Object of type 'IfcGeom::Representation::Triangulation *' at 0x000001C0ADBDA910> >\n",
      "<ifcopenshell.ifcopenshell_wrapper.Triangulation; proxy of <Swig Object of type 'IfcGeom::Representation::Triangulation *' at 0x000001C0BCEBF8D0> >\n",
      "<ifcopenshell.ifcopenshell_wrapper.Triangulation; proxy of <Swig Object of type 'IfcGeom::Representation::Triangulation *' at 0x000001C0BCEBFC90> >\n",
      "<ifcopenshell.ifcopenshell_wrapper.Triangulation; proxy of <Swig Object of type 'IfcGeom::Representation::Triangulation *' at 0x000001C0ADBDA910> >\n",
      "<ifcopenshell.ifcopenshell_wrapper.Triangulation; proxy of <Swig Object of type 'IfcGeom::Representation::Triangulation *' at 0x000001C0BCEBF8D0> >\n",
      "<ifcopenshell.ifcopenshell_wrapper.Triangulation; proxy of <Swig Object of type 'IfcGeom::Representation::Triangulation *' at 0x000001C0BCEBFC90> >\n",
      "<ifcopenshell.ifcopenshell_wrapper.Triangulation; proxy of <Swig Object of type 'IfcGeom::Representation::Triangulation *' at 0x000001C0ADBDA910> >\n",
      "<ifcopenshell.ifcopenshell_wrapper.Triangulation; proxy of <Swig Object of type 'IfcGeom::Representation::Triangulation *' at 0x000001C0BCEBF8D0> >\n",
      "<ifcopenshell.ifcopenshell_wrapper.Triangulation; proxy of <Swig Object of type 'IfcGeom::Representation::Triangulation *' at 0x000001C0BCEBFC90> >\n",
      "<ifcopenshell.ifcopenshell_wrapper.Triangulation; proxy of <Swig Object of type 'IfcGeom::Representation::Triangulation *' at 0x000001C0ADBDA910> >\n",
      "<ifcopenshell.ifcopenshell_wrapper.Triangulation; proxy of <Swig Object of type 'IfcGeom::Representation::Triangulation *' at 0x000001C0BF3A8D50> >\n",
      "<ifcopenshell.ifcopenshell_wrapper.Triangulation; proxy of <Swig Object of type 'IfcGeom::Representation::Triangulation *' at 0x000001C0BF3A81B0> >\n",
      "<ifcopenshell.ifcopenshell_wrapper.Triangulation; proxy of <Swig Object of type 'IfcGeom::Representation::Triangulation *' at 0x000001C0ADBDA910> >\n",
      "<ifcopenshell.ifcopenshell_wrapper.Triangulation; proxy of <Swig Object of type 'IfcGeom::Representation::Triangulation *' at 0x000001C0BF3A8D50> >\n",
      "<ifcopenshell.ifcopenshell_wrapper.Triangulation; proxy of <Swig Object of type 'IfcGeom::Representation::Triangulation *' at 0x000001C0BF3A81B0> >\n",
      "<ifcopenshell.ifcopenshell_wrapper.Triangulation; proxy of <Swig Object of type 'IfcGeom::Representation::Triangulation *' at 0x000001C0ADBDA910> >\n",
      "<ifcopenshell.ifcopenshell_wrapper.Triangulation; proxy of <Swig Object of type 'IfcGeom::Representation::Triangulation *' at 0x000001C0BF3A8D50> >\n",
      "<ifcopenshell.ifcopenshell_wrapper.Triangulation; proxy of <Swig Object of type 'IfcGeom::Representation::Triangulation *' at 0x000001C0BF3A81B0> >\n",
      "<ifcopenshell.ifcopenshell_wrapper.Triangulation; proxy of <Swig Object of type 'IfcGeom::Representation::Triangulation *' at 0x000001C0ADBDA910> >\n",
      "<ifcopenshell.ifcopenshell_wrapper.Triangulation; proxy of <Swig Object of type 'IfcGeom::Representation::Triangulation *' at 0x000001C0BF3A8D50> >\n",
      "<ifcopenshell.ifcopenshell_wrapper.Triangulation; proxy of <Swig Object of type 'IfcGeom::Representation::Triangulation *' at 0x000001C0BF3A81B0> >\n",
      "<ifcopenshell.ifcopenshell_wrapper.Triangulation; proxy of <Swig Object of type 'IfcGeom::Representation::Triangulation *' at 0x000001C0ADBDA910> >\n",
      "<ifcopenshell.ifcopenshell_wrapper.Triangulation; proxy of <Swig Object of type 'IfcGeom::Representation::Triangulation *' at 0x000001C0BF3A8D50> >\n",
      "<ifcopenshell.ifcopenshell_wrapper.Triangulation; proxy of <Swig Object of type 'IfcGeom::Representation::Triangulation *' at 0x000001C0BF3A81B0> >\n",
      "<ifcopenshell.ifcopenshell_wrapper.Triangulation; proxy of <Swig Object of type 'IfcGeom::Representation::Triangulation *' at 0x000001C0ADBDA910> >\n",
      "<ifcopenshell.ifcopenshell_wrapper.Triangulation; proxy of <Swig Object of type 'IfcGeom::Representation::Triangulation *' at 0x000001C0BCEBF8D0> >\n",
      "<ifcopenshell.ifcopenshell_wrapper.Triangulation; proxy of <Swig Object of type 'IfcGeom::Representation::Triangulation *' at 0x000001C0BF3A81B0> >\n",
      "<ifcopenshell.ifcopenshell_wrapper.Triangulation; proxy of <Swig Object of type 'IfcGeom::Representation::Triangulation *' at 0x000001C0BF3AB540> >\n",
      "<ifcopenshell.ifcopenshell_wrapper.Triangulation; proxy of <Swig Object of type 'IfcGeom::Representation::Triangulation *' at 0x000001C0ADE571B0> >\n",
      "<ifcopenshell.ifcopenshell_wrapper.Triangulation; proxy of <Swig Object of type 'IfcGeom::Representation::Triangulation *' at 0x000001C0BF3A81B0> >\n",
      "<ifcopenshell.ifcopenshell_wrapper.Triangulation; proxy of <Swig Object of type 'IfcGeom::Representation::Triangulation *' at 0x000001C0BF3AB540> >\n",
      "<ifcopenshell.ifcopenshell_wrapper.Triangulation; proxy of <Swig Object of type 'IfcGeom::Representation::Triangulation *' at 0x000001C0ADE571B0> >\n",
      "<ifcopenshell.ifcopenshell_wrapper.Triangulation; proxy of <Swig Object of type 'IfcGeom::Representation::Triangulation *' at 0x000001C0BF3A81B0> >\n",
      "<ifcopenshell.ifcopenshell_wrapper.Triangulation; proxy of <Swig Object of type 'IfcGeom::Representation::Triangulation *' at 0x000001C0BF3AB540> >\n",
      "<ifcopenshell.ifcopenshell_wrapper.Triangulation; proxy of <Swig Object of type 'IfcGeom::Representation::Triangulation *' at 0x000001C0ADE571B0> >\n",
      "<ifcopenshell.ifcopenshell_wrapper.Triangulation; proxy of <Swig Object of type 'IfcGeom::Representation::Triangulation *' at 0x000001C0BF3A81B0> >\n",
      "<ifcopenshell.ifcopenshell_wrapper.Triangulation; proxy of <Swig Object of type 'IfcGeom::Representation::Triangulation *' at 0x000001C0BCEBF4E0> >\n",
      "<ifcopenshell.ifcopenshell_wrapper.Triangulation; proxy of <Swig Object of type 'IfcGeom::Representation::Triangulation *' at 0x000001C0BF3A8D50> >\n",
      "<ifcopenshell.ifcopenshell_wrapper.Triangulation; proxy of <Swig Object of type 'IfcGeom::Representation::Triangulation *' at 0x000001C0BF3A81B0> >\n",
      "<ifcopenshell.ifcopenshell_wrapper.Triangulation; proxy of <Swig Object of type 'IfcGeom::Representation::Triangulation *' at 0x000001C0BCEBFF90> >\n",
      "<ifcopenshell.ifcopenshell_wrapper.Triangulation; proxy of <Swig Object of type 'IfcGeom::Representation::Triangulation *' at 0x000001C0BF3A8D50> >\n",
      "<ifcopenshell.ifcopenshell_wrapper.Triangulation; proxy of <Swig Object of type 'IfcGeom::Representation::Triangulation *' at 0x000001C0BF3A81B0> >\n",
      "<ifcopenshell.ifcopenshell_wrapper.Triangulation; proxy of <Swig Object of type 'IfcGeom::Representation::Triangulation *' at 0x000001C0BCEBF4E0> >\n",
      "<ifcopenshell.ifcopenshell_wrapper.Triangulation; proxy of <Swig Object of type 'IfcGeom::Representation::Triangulation *' at 0x000001C0BF3A8D50> >\n",
      "<ifcopenshell.ifcopenshell_wrapper.Triangulation; proxy of <Swig Object of type 'IfcGeom::Representation::Triangulation *' at 0x000001C0BF3A81B0> >\n",
      "<ifcopenshell.ifcopenshell_wrapper.Triangulation; proxy of <Swig Object of type 'IfcGeom::Representation::Triangulation *' at 0x000001C0BCEBFF90> >\n",
      "<ifcopenshell.ifcopenshell_wrapper.Triangulation; proxy of <Swig Object of type 'IfcGeom::Representation::Triangulation *' at 0x000001C0BF3A8D50> >\n"
     ]
    }
   ],
   "source": [
    "whitelist = ['IfcWall', 'IfcWindow', 'IfcDoor', 'IfcStairFlight', 'IfcSlab']\n",
    "for obj in ifc_file.by_type('IfcProduct'):\n",
    "#     print(obj.is_a())\n",
    "    if obj.is_a() in whitelist:\n",
    "#         print('true')\n",
    "        shape = ifcopenshell.geom.create_shape(settings, obj)\n",
    "        geome = shape.geometry\n",
    "        print(geome)"
   ]
  }
 ],
 "metadata": {
  "kernelspec": {
   "display_name": "scanplan",
   "language": "python",
   "name": "scanplan"
  },
  "language_info": {
   "codemirror_mode": {
    "name": "ipython",
    "version": 3
   },
   "file_extension": ".py",
   "mimetype": "text/x-python",
   "name": "python",
   "nbconvert_exporter": "python",
   "pygments_lexer": "ipython3",
   "version": "3.10.9"
  }
 },
 "nbformat": 4,
 "nbformat_minor": 5
}
