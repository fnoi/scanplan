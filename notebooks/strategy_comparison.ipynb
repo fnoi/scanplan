{
 "cells": [
  {
   "cell_type": "code",
   "execution_count": 3,
   "metadata": {
    "collapsed": true,
    "pycharm": {
     "name": "#%%\n"
    }
   },
   "outputs": [],
   "source": [
    "import pickle\n",
    "import sys\n",
    "import os\n",
    "import pathlib\n",
    "\n",
    "from tools.evolutionary_algorithm import one_fit\n",
    "\n",
    "basepath = f\"{os.path.dirname(pathlib.Path().resolve())}/\"\n",
    "sys.path.append(basepath)\n",
    "path_handover = basepath + \"/handover/\""
   ]
  },
  {
   "cell_type": "code",
   "execution_count": 19,
   "outputs": [
    {
     "data": {
      "text/plain": "{'coverage goal relative': [0.95],\n 'coverage goal absolute': 9.861651471509306,\n 'coverage 100p': 10.38068575948348,\n 'viewpoint count': 10,\n 'viewpoint ids': [29, 110, 38, 11, 84, 12, 132, 60, 31, 107],\n 'coverage achieved relative': 0.955684007707129,\n 'coverage achieved absolute': 9.92,\n 'scanpoint count': 10,\n 'scanpoint ids': [29, 110, 38, 11, 84, 12, 132, 60, 31, 107],\n 'route': [29, 110, 38, 11, 84, 12, 132, 60, 31, 107],\n 'full_path': [29, 38, 110, 84, 11, 107, 12, 31, 132, 60, 29]}"
     },
     "execution_count": 19,
     "metadata": {},
     "output_type": "execute_result"
    }
   ],
   "source": [
    "with open(f\"{path_handover}2_greedy_strategy.pkl\", 'rb') as jar:\n",
    "    greedy = pickle.load(jar)\n",
    "# greedy_fit =\n",
    "greedy"
   ],
   "metadata": {
    "collapsed": false,
    "pycharm": {
     "name": "#%%\n"
    }
   }
  },
  {
   "cell_type": "code",
   "execution_count": 20,
   "outputs": [
    {
     "data": {
      "text/plain": "{'coverage goal relative': [0.95],\n 'coverage goal absolute': 9.861651471509306,\n 'coverage 100p': 10.38068575948348,\n 'viewpoint count': 10,\n 'viewpoint ids': [29, 110, 38, 11, 84, 12, 132, 60, 31, 107],\n 'coverage achieved relative': 0.9909577118971412,\n 'coverage achieved absolute': 10.286820608140987,\n 'scanpoint count': 10,\n 'scanpoint ids': [29, 32, 48, 11, 121, 88, 114, 60, 26, 108],\n 'route': [29, 32, 48, 11, 121, 88, 114, 60, 26, 108],\n 'full_path': [29, 121, 48, 11, 88, 32, 114, 26, 108, 60, 29]}"
     },
     "execution_count": 20,
     "metadata": {},
     "output_type": "execute_result"
    }
   ],
   "source": [
    "with open(f\"{path_handover}2_greedy_strategy.pkl\", 'rb') as jar:\n",
    "    greedy = pickle.load(jar)\n",
    "# greedy_fit =\n",
    "greedy"
   ],
   "metadata": {
    "collapsed": false,
    "pycharm": {
     "name": "#%%\n"
    }
   }
  }
 ],
 "metadata": {
  "kernelspec": {
   "display_name": "Python 3",
   "language": "python",
   "name": "python3"
  },
  "language_info": {
   "codemirror_mode": {
    "name": "ipython",
    "version": 2
   },
   "file_extension": ".py",
   "mimetype": "text/x-python",
   "name": "python",
   "nbconvert_exporter": "python",
   "pygments_lexer": "ipython2",
   "version": "2.7.6"
  }
 },
 "nbformat": 4,
 "nbformat_minor": 0
}