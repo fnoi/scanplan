{
 "cells": [
  {
   "cell_type": "code",
   "execution_count": 1,
   "id": "a34f939d",
   "metadata": {},
   "outputs": [
    {
     "name": "stdout",
     "output_type": "stream",
     "text": [
      "3.10.8\n"
     ]
    }
   ],
   "source": [
    "from platform import python_version\n",
    "\n",
    "print(python_version())"
   ]
  },
  {
   "cell_type": "code",
   "execution_count": 2,
   "id": "8d9e8b43",
   "metadata": {},
   "outputs": [
    {
     "ename": "ModuleNotFoundError",
     "evalue": "No module named 'open3d'",
     "output_type": "error",
     "traceback": [
      "\u001b[1;31m---------------------------------------------------------------------------\u001b[0m",
      "\u001b[1;31mModuleNotFoundError\u001b[0m                       Traceback (most recent call last)",
      "Cell \u001b[1;32mIn[2], line 1\u001b[0m\n\u001b[1;32m----> 1\u001b[0m \u001b[38;5;28;01mimport\u001b[39;00m \u001b[38;5;21;01mopen3d\u001b[39;00m \u001b[38;5;28;01mas\u001b[39;00m \u001b[38;5;21;01mo3d\u001b[39;00m\n\u001b[0;32m      2\u001b[0m \u001b[38;5;28;01mimport\u001b[39;00m \u001b[38;5;21;01mmeshio\u001b[39;00m\n\u001b[0;32m      3\u001b[0m \u001b[38;5;28;01mimport\u001b[39;00m \u001b[38;5;21;01mplotly\u001b[39;00m\u001b[38;5;21;01m.\u001b[39;00m\u001b[38;5;21;01mgraph_objects\u001b[39;00m \u001b[38;5;28;01mas\u001b[39;00m \u001b[38;5;21;01mgo\u001b[39;00m\n",
      "\u001b[1;31mModuleNotFoundError\u001b[0m: No module named 'open3d'"
     ]
    }
   ],
   "source": [
    "import open3d as o3d\n",
    "import meshio\n",
    "import plotly.graph_objects as go\n",
    "import numpy as np\n",
    "\n",
    "mesh_monki = o3d.io.read_triangle_mesh('untitled.obj')\n",
    "trimodel_mesh = meshio.read('untitled.obj')\n",
    "vertices_trimodel = trimodel_mesh.points\n",
    "triangles_trimodel = trimodel_mesh.cells_dict['triangle']\n",
    "\n",
    "x=vertices_trimodel[:, 0]\n",
    "y=vertices_trimodel[:, 1]\n",
    "z=vertices_trimodel[:, 2]\n",
    "i=triangles_trimodel[:, 0]\n",
    "j=triangles_trimodel[:, 1]\n",
    "k=triangles_trimodel[:, 2]\n",
    "\n",
    "edges = []\n",
    "for face in triangles_trimodel:\n",
    "    for ind in range(len(face)):\n",
    "        if ind < len(face)-1:\n",
    "            edges.append(\n",
    "                (face[ind], face[ind+1])\n",
    "            )\n",
    "        else:\n",
    "            edges.append(\n",
    "                (face[ind], face[0])\n",
    "            )\n",
    "            \n",
    "xe=[]\n",
    "ye=[]\n",
    "ze=[]\n",
    "\n",
    "for edge in edges:\n",
    "    xe.extend([x[edge[0]], x[edge[1]], None])\n",
    "    ye.extend([y[edge[0]], y[edge[1]], None])\n",
    "    ze.extend([z[edge[0]], z[edge[1]], None])\n",
    "\n",
    "trace_monki_mesh = go.Mesh3d(x=x, y=y, z=z, color='white', alphahull=3, #flatshading=True,\n",
    "                               i=i,\n",
    "                               j=j,\n",
    "                               k=k,)\n",
    "\n",
    "trace_monki_edges = go.Scatter3d(x=xe, y=ye, z=ze, mode='lines', line=dict(color='pink', width=1))\n",
    "\n",
    "vs = 0.25\n",
    "vg_monki = o3d.geometry.VoxelGrid.create_from_triangle_mesh(input=mesh_monki, voxel_size=vs)\n",
    "monki_vox = vg_monki.get_voxels()\n",
    "\n",
    "monki_vox_idx = [_.grid_index for _ in monki_vox]\n",
    "monki_vox_ptx = np.asarray([vg_monki.get_voxel_bounding_points(_) for _ in monki_vox_idx])\n",
    "edge_x = []\n",
    "edge_y = []\n",
    "edge_z = []\n",
    "\n",
    "for box in monki_vox_ptx:\n",
    "    for pair in [(0,1), (0,2), (0,4), (1,3), (1,5), (2,6), (3,7), (4,5), (4,6), (5,7), (6, 7), (2,3)]:\n",
    "        edge_x.extend([box[pair[0]][0], box[pair[1]][0], None])\n",
    "        edge_y.extend([box[pair[0]][1], box[pair[1]][1], None])\n",
    "        edge_z.extend([box[pair[0]][2], box[pair[1]][2], None])\n",
    "\n",
    "trace_edges = go.Scatter3d(x=edge_x, y=edge_y, z=edge_z, mode='lines')\n",
    "\n",
    "data = [trace_monki_mesh, trace_monki_edges, trace_edges]\n",
    "\n",
    "layout = go.Layout(width=1000,\n",
    "                   height=1000,\n",
    "                   showlegend=False,\n",
    "                   hovermode='closest')\n",
    "\n",
    "\n",
    "fig = go.Figure(data=data, layout=layout)\n",
    "\n",
    "fig.update_scenes(camera_projection_type='orthographic')\n",
    "\n",
    "fig.show()"
   ]
  }
 ],
 "metadata": {
  "kernelspec": {
   "display_name": "scanplan",
   "language": "python",
   "name": "scanplan"
  },
  "language_info": {
   "codemirror_mode": {
    "name": "ipython",
    "version": 3
   },
   "file_extension": ".py",
   "mimetype": "text/x-python",
   "name": "python",
   "nbconvert_exporter": "python",
   "pygments_lexer": "ipython3",
   "version": "3.10.8"
  }
 },
 "nbformat": 4,
 "nbformat_minor": 5
}
